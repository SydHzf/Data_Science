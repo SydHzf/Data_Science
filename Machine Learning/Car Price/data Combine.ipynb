{
 "cells": [
  {
   "cell_type": "code",
   "execution_count": 7,
   "metadata": {},
   "outputs": [],
   "source": [
    "import pandas as pd\n",
    "import os"
   ]
  },
  {
   "cell_type": "code",
   "execution_count": 15,
   "metadata": {},
   "outputs": [
    {
     "name": "stdout",
     "output_type": "stream",
     "text": [
      "audi.csv (10668, 9)\n",
      "bmw.csv (10781, 9)\n",
      "cclass.csv (3899, 7)\n",
      "focus.csv (5454, 7)\n",
      "ford.csv (17965, 9)\n",
      "hyundi.csv (4860, 9)\n",
      "merc.csv (13119, 9)\n",
      "skoda.csv (6267, 9)\n",
      "toyota.csv (6738, 9)\n",
      "vauxhall.csv (13632, 9)\n",
      "vw.csv (15157, 9)\n"
     ]
    }
   ],
   "source": [
    "final_df = pd.DataFrame()\n",
    "for i in os.listdir(\".\"):\n",
    "    if os.path.isfile(i):\n",
    "        if i.endswith(\".ipynb\") == False:\n",
    "            df = pd.read_csv(i)\n",
    "            final_df = pd.concat([final_df,df])\n",
    "            print(i,df.shape)"
   ]
  },
  {
   "cell_type": "code",
   "execution_count": 17,
   "metadata": {},
   "outputs": [],
   "source": [
    "final_df.to_csv(\"CarData.csv\",index = False)"
   ]
  },
  {
   "cell_type": "code",
   "execution_count": null,
   "metadata": {},
   "outputs": [],
   "source": []
  }
 ],
 "metadata": {
  "kernelspec": {
   "display_name": "Python 3 (ipykernel)",
   "language": "python",
   "name": "python3"
  },
  "language_info": {
   "codemirror_mode": {
    "name": "ipython",
    "version": 3
   },
   "file_extension": ".py",
   "mimetype": "text/x-python",
   "name": "python",
   "nbconvert_exporter": "python",
   "pygments_lexer": "ipython3",
   "version": "3.8.5"
  }
 },
 "nbformat": 4,
 "nbformat_minor": 4
}
