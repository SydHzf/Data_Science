{
 "cells": [
  {
   "cell_type": "code",
   "execution_count": 1,
   "id": "e0fb6efd",
   "metadata": {},
   "outputs": [],
   "source": [
    "import numpy as np\n",
    "import pandas as pd\n",
    "import matplotlib.pyplot as plt"
   ]
  },
  {
   "cell_type": "code",
   "execution_count": 2,
   "id": "dc5429a9",
   "metadata": {},
   "outputs": [
    {
     "data": {
      "text/html": [
       "<div>\n",
       "<style scoped>\n",
       "    .dataframe tbody tr th:only-of-type {\n",
       "        vertical-align: middle;\n",
       "    }\n",
       "\n",
       "    .dataframe tbody tr th {\n",
       "        vertical-align: top;\n",
       "    }\n",
       "\n",
       "    .dataframe thead th {\n",
       "        text-align: right;\n",
       "    }\n",
       "</style>\n",
       "<table border=\"1\" class=\"dataframe\">\n",
       "  <thead>\n",
       "    <tr style=\"text-align: right;\">\n",
       "      <th></th>\n",
       "      <th>id</th>\n",
       "      <th>title</th>\n",
       "      <th>url</th>\n",
       "      <th>num_points</th>\n",
       "      <th>num_comments</th>\n",
       "      <th>author</th>\n",
       "      <th>created_at</th>\n",
       "    </tr>\n",
       "  </thead>\n",
       "  <tbody>\n",
       "    <tr>\n",
       "      <th>0</th>\n",
       "      <td>12224879</td>\n",
       "      <td>Interactive Dynamic Video</td>\n",
       "      <td>http://www.interactivedynamicvideo.com/</td>\n",
       "      <td>386</td>\n",
       "      <td>52</td>\n",
       "      <td>ne0phyte</td>\n",
       "      <td>8/4/2016 11:52</td>\n",
       "    </tr>\n",
       "    <tr>\n",
       "      <th>1</th>\n",
       "      <td>11964716</td>\n",
       "      <td>Florida DJs May Face Felony for April Fools' W...</td>\n",
       "      <td>http://www.thewire.com/entertainment/2013/04/f...</td>\n",
       "      <td>2</td>\n",
       "      <td>1</td>\n",
       "      <td>vezycash</td>\n",
       "      <td>6/23/2016 22:20</td>\n",
       "    </tr>\n",
       "    <tr>\n",
       "      <th>2</th>\n",
       "      <td>11919867</td>\n",
       "      <td>Technology ventures: From Idea to Enterprise</td>\n",
       "      <td>https://www.amazon.com/Technology-Ventures-Ent...</td>\n",
       "      <td>3</td>\n",
       "      <td>1</td>\n",
       "      <td>hswarna</td>\n",
       "      <td>6/17/2016 0:01</td>\n",
       "    </tr>\n",
       "    <tr>\n",
       "      <th>3</th>\n",
       "      <td>10301696</td>\n",
       "      <td>Note by Note: The Making of Steinway L1037 (2007)</td>\n",
       "      <td>http://www.nytimes.com/2007/11/07/movies/07ste...</td>\n",
       "      <td>8</td>\n",
       "      <td>2</td>\n",
       "      <td>walterbell</td>\n",
       "      <td>9/30/2015 4:12</td>\n",
       "    </tr>\n",
       "    <tr>\n",
       "      <th>4</th>\n",
       "      <td>10482257</td>\n",
       "      <td>Title II kills investment? Comcast and other I...</td>\n",
       "      <td>http://arstechnica.com/business/2015/10/comcas...</td>\n",
       "      <td>53</td>\n",
       "      <td>22</td>\n",
       "      <td>Deinos</td>\n",
       "      <td>10/31/2015 9:48</td>\n",
       "    </tr>\n",
       "    <tr>\n",
       "      <th>...</th>\n",
       "      <td>...</td>\n",
       "      <td>...</td>\n",
       "      <td>...</td>\n",
       "      <td>...</td>\n",
       "      <td>...</td>\n",
       "      <td>...</td>\n",
       "      <td>...</td>\n",
       "    </tr>\n",
       "    <tr>\n",
       "      <th>20094</th>\n",
       "      <td>12379592</td>\n",
       "      <td>How Purism Avoids Intels Active Management Tec...</td>\n",
       "      <td>https://puri.sm/philosophy/how-purism-avoids-i...</td>\n",
       "      <td>10</td>\n",
       "      <td>6</td>\n",
       "      <td>AdmiralAsshat</td>\n",
       "      <td>8/29/2016 2:22</td>\n",
       "    </tr>\n",
       "    <tr>\n",
       "      <th>20095</th>\n",
       "      <td>10339284</td>\n",
       "      <td>YC Application Translated and Broken Down</td>\n",
       "      <td>https://medium.com/@zreitano/the-yc-applicatio...</td>\n",
       "      <td>4</td>\n",
       "      <td>1</td>\n",
       "      <td>zreitano</td>\n",
       "      <td>10/6/2015 14:57</td>\n",
       "    </tr>\n",
       "    <tr>\n",
       "      <th>20096</th>\n",
       "      <td>10824382</td>\n",
       "      <td>Microkernels are slow and Elvis didn't do no d...</td>\n",
       "      <td>http://blog.darknedgy.net/technology/2016/01/0...</td>\n",
       "      <td>169</td>\n",
       "      <td>132</td>\n",
       "      <td>vezzy-fnord</td>\n",
       "      <td>1/2/2016 0:49</td>\n",
       "    </tr>\n",
       "    <tr>\n",
       "      <th>20097</th>\n",
       "      <td>10739875</td>\n",
       "      <td>How Product Hunt really works</td>\n",
       "      <td>https://medium.com/@benjiwheeler/how-product-h...</td>\n",
       "      <td>695</td>\n",
       "      <td>222</td>\n",
       "      <td>brw12</td>\n",
       "      <td>12/15/2015 19:32</td>\n",
       "    </tr>\n",
       "    <tr>\n",
       "      <th>20098</th>\n",
       "      <td>11680777</td>\n",
       "      <td>RoboBrowser: Your friendly neighborhood web sc...</td>\n",
       "      <td>https://github.com/jmcarp/robobrowser</td>\n",
       "      <td>182</td>\n",
       "      <td>58</td>\n",
       "      <td>pmoriarty</td>\n",
       "      <td>5/12/2016 1:43</td>\n",
       "    </tr>\n",
       "  </tbody>\n",
       "</table>\n",
       "<p>20099 rows × 7 columns</p>\n",
       "</div>"
      ],
      "text/plain": [
       "             id                                              title  \\\n",
       "0      12224879                          Interactive Dynamic Video   \n",
       "1      11964716  Florida DJs May Face Felony for April Fools' W...   \n",
       "2      11919867       Technology ventures: From Idea to Enterprise   \n",
       "3      10301696  Note by Note: The Making of Steinway L1037 (2007)   \n",
       "4      10482257  Title II kills investment? Comcast and other I...   \n",
       "...         ...                                                ...   \n",
       "20094  12379592  How Purism Avoids Intels Active Management Tec...   \n",
       "20095  10339284          YC Application Translated and Broken Down   \n",
       "20096  10824382  Microkernels are slow and Elvis didn't do no d...   \n",
       "20097  10739875                      How Product Hunt really works   \n",
       "20098  11680777  RoboBrowser: Your friendly neighborhood web sc...   \n",
       "\n",
       "                                                     url  num_points  \\\n",
       "0                http://www.interactivedynamicvideo.com/         386   \n",
       "1      http://www.thewire.com/entertainment/2013/04/f...           2   \n",
       "2      https://www.amazon.com/Technology-Ventures-Ent...           3   \n",
       "3      http://www.nytimes.com/2007/11/07/movies/07ste...           8   \n",
       "4      http://arstechnica.com/business/2015/10/comcas...          53   \n",
       "...                                                  ...         ...   \n",
       "20094  https://puri.sm/philosophy/how-purism-avoids-i...          10   \n",
       "20095  https://medium.com/@zreitano/the-yc-applicatio...           4   \n",
       "20096  http://blog.darknedgy.net/technology/2016/01/0...         169   \n",
       "20097  https://medium.com/@benjiwheeler/how-product-h...         695   \n",
       "20098              https://github.com/jmcarp/robobrowser         182   \n",
       "\n",
       "       num_comments         author        created_at  \n",
       "0                52       ne0phyte    8/4/2016 11:52  \n",
       "1                 1       vezycash   6/23/2016 22:20  \n",
       "2                 1        hswarna    6/17/2016 0:01  \n",
       "3                 2     walterbell    9/30/2015 4:12  \n",
       "4                22         Deinos   10/31/2015 9:48  \n",
       "...             ...            ...               ...  \n",
       "20094             6  AdmiralAsshat    8/29/2016 2:22  \n",
       "20095             1       zreitano   10/6/2015 14:57  \n",
       "20096           132    vezzy-fnord     1/2/2016 0:49  \n",
       "20097           222          brw12  12/15/2015 19:32  \n",
       "20098            58      pmoriarty    5/12/2016 1:43  \n",
       "\n",
       "[20099 rows x 7 columns]"
      ]
     },
     "execution_count": 2,
     "metadata": {},
     "output_type": "execute_result"
    }
   ],
   "source": [
    "hn = pd.read_csv(\"hacker_news.csv\")\n",
    "hn"
   ]
  },
  {
   "cell_type": "code",
   "execution_count": 3,
   "id": "c23ea186",
   "metadata": {},
   "outputs": [
    {
     "data": {
      "text/plain": [
       "'Danial'"
      ]
     },
     "execution_count": 3,
     "metadata": {},
     "output_type": "execute_result"
    }
   ],
   "source": [
    "\"I am Danial and I am Trainer\"[5:11]"
   ]
  },
  {
   "cell_type": "code",
   "execution_count": 4,
   "id": "049d962f",
   "metadata": {},
   "outputs": [
    {
     "data": {
      "text/plain": [
       "'Danial'"
      ]
     },
     "execution_count": 4,
     "metadata": {},
     "output_type": "execute_result"
    }
   ],
   "source": [
    "\"This is Danial and we are Learning R.E\"[8:14]"
   ]
  },
  {
   "cell_type": "code",
   "execution_count": 5,
   "id": "2614f491",
   "metadata": {},
   "outputs": [
    {
     "data": {
      "text/plain": [
       "True"
      ]
     },
     "execution_count": 5,
     "metadata": {},
     "output_type": "execute_result"
    }
   ],
   "source": [
    "\"Danial\" in \"I am Danial and I am Trainer\""
   ]
  },
  {
   "cell_type": "code",
   "execution_count": 6,
   "id": "b746521a",
   "metadata": {},
   "outputs": [],
   "source": [
    "import re"
   ]
  },
  {
   "cell_type": "code",
   "execution_count": 7,
   "id": "1995a5e1",
   "metadata": {},
   "outputs": [
    {
     "name": "stdout",
     "output_type": "stream",
     "text": [
      "None\n"
     ]
    }
   ],
   "source": [
    "print(re.search(\" and\",\"I have two hands\"))"
   ]
  },
  {
   "cell_type": "code",
   "execution_count": 8,
   "id": "4d5babe8",
   "metadata": {},
   "outputs": [
    {
     "name": "stdout",
     "output_type": "stream",
     "text": [
      "Done\n"
     ]
    }
   ],
   "source": [
    "if re.search(\"and\",\"I have two hands\"):\n",
    "    print(\"Done\")"
   ]
  },
  {
   "cell_type": "code",
   "execution_count": 9,
   "id": "b41ec0e6",
   "metadata": {},
   "outputs": [
    {
     "name": "stdout",
     "output_type": "stream",
     "text": [
      "None\n"
     ]
    }
   ],
   "source": [
    "print(re.search(\"abc\",\"I have two hands\"))"
   ]
  },
  {
   "cell_type": "code",
   "execution_count": 10,
   "id": "70217eff",
   "metadata": {},
   "outputs": [
    {
     "name": "stdout",
     "output_type": "stream",
     "text": [
      "(20099,)\n"
     ]
    },
    {
     "data": {
      "text/plain": [
       "0                            Interactive Dynamic Video\n",
       "1    Florida DJs May Face Felony for April Fools' W...\n",
       "2         Technology ventures: From Idea to Enterprise\n",
       "3    Note by Note: The Making of Steinway L1037 (2007)\n",
       "4    Title II kills investment? Comcast and other I...\n",
       "5                       Nuts and Bolts Business Advice\n",
       "6          Ask HN: How to improve my personal website?\n",
       "7    Shims, Jigs and Other Woodworking Concepts to ...\n",
       "8                               That self-appendectomy\n",
       "9    Crate raises $4M seed round for its next-gen S...\n",
       "Name: title, dtype: object"
      ]
     },
     "execution_count": 10,
     "metadata": {},
     "output_type": "execute_result"
    }
   ],
   "source": [
    "title = hn[\"title\"]\n",
    "print(title.shape)\n",
    "title.head(10)"
   ]
  },
  {
   "cell_type": "code",
   "execution_count": 11,
   "id": "0082471d",
   "metadata": {},
   "outputs": [
    {
     "data": {
      "text/plain": [
       "<re.Match object; span=(2, 6), match='bend'>"
      ]
     },
     "execution_count": 11,
     "metadata": {},
     "output_type": "execute_result"
    }
   ],
   "source": [
    "\"mend\",\"send\",\"bend\"\n",
    "\n",
    "pattern = \"[msb]end\"\n",
    "\n",
    "re.search(pattern,\"I bend you\")"
   ]
  },
  {
   "cell_type": "code",
   "execution_count": 12,
   "id": "278db7e4",
   "metadata": {},
   "outputs": [
    {
     "data": {
      "text/plain": [
       "160"
      ]
     },
     "execution_count": 12,
     "metadata": {},
     "output_type": "execute_result"
    }
   ],
   "source": [
    "pattern = \"[Pp]ython\" # Python, python\n",
    "\n",
    "title.str.contains(pattern).sum()"
   ]
  },
  {
   "cell_type": "code",
   "execution_count": 13,
   "id": "6c441b37",
   "metadata": {},
   "outputs": [
    {
     "data": {
      "text/plain": [
       "17820    An Introduction to Scientific Python (and a Bi...\n",
       "18207    Feather: A Fast On-Disk Format for Data Frames...\n",
       "18260                     From Python to Go and Back Again\n",
       "18273                       How to kill yourself in Python\n",
       "18312                                  Why Python 3 Exists\n",
       "18421    Show HN: Stack overflow command line client ad...\n",
       "18536    Python one-liner to compare two files (conditi...\n",
       "18649                 Python vs. C/C++ in embedded systems\n",
       "18809        The origins of the class Meta idiom in python\n",
       "19077                           Python is Better than Ruby\n",
       "19163      Web Service Efficiency at Instagram with Python\n",
       "19356         Crypto and SSL toolkit for python (M2Crypto)\n",
       "19419                                       PythonJobs.com\n",
       "19433    Wheres Susi? Airborne Orangutan Tracking with ...\n",
       "19458    Transition to Python4 won't be like Python3(we...\n",
       "19597    David Beazley  Python Concurrency from the Gro...\n",
       "19852      Ask HN: How to automate Python apps deployment?\n",
       "19862                            Moving Away from Python 2\n",
       "19980                        Python vs. Julia Observations\n",
       "19998    Show HN: Decorating: Animated pulsed for your ...\n",
       "Name: title, dtype: object"
      ]
     },
     "execution_count": 13,
     "metadata": {},
     "output_type": "execute_result"
    }
   ],
   "source": [
    "title[title.str.contains(pattern)].tail(20)"
   ]
  },
  {
   "cell_type": "code",
   "execution_count": 14,
   "id": "c5b51175",
   "metadata": {},
   "outputs": [
    {
     "data": {
      "text/plain": [
       "190                    Ruby on Google AppEngine Goes Beta\n",
       "484          Related: Pure Ruby Relational Algebra Engine\n",
       "1388    Show HN: HTTPalooza  Ruby's greatest HTTP clie...\n",
       "1949    Rewriting a Ruby C Extension in Rust: How a Na...\n",
       "2022    Show HN: CrashBreak  Reproduce exceptions as f...\n",
       "2163                  Ruby 2.3 Is Only 4% Faster than 2.2\n",
       "2306    Websocket Shootout: Clojure, C++, Elixir, Go, ...\n",
       "2620                      Why Startups Use Ruby on Rails?\n",
       "2645    Ask HN: Should I continue working a Ruby gem f...\n",
       "3290    Ruby on Rails and the importance of being stup...\n",
       "3749    Telegram.org Bot Platform Webhooks Server, for...\n",
       "3874    Warp Directory (wd) unix command line tool for...\n",
       "4026    OS X 10.11 Ruby / Rails users can install ther...\n",
       "4163    Charles Nutter of JRuby Banned by Rubinius for...\n",
       "4602    Quiz: Ruby or Rails? Matz and DHH were not abl...\n",
       "5832    Show HN: An experimental Python to C#/Go/Ruby/...\n",
       "6180    Shrine  A new solution for handling file uploa...\n",
       "7171    JRuby+Truffle: Why its important to optimise t...\n",
       "7235                                       Ruby or Rails?\n",
       "7671                   How I hunted the most odd ruby bug\n",
       "Name: title, dtype: object"
      ]
     },
     "execution_count": 14,
     "metadata": {},
     "output_type": "execute_result"
    }
   ],
   "source": [
    "pattern = \"[Rr]uby\"\n",
    "\n",
    "title[title.str.contains(pattern)].head(20)"
   ]
  },
  {
   "cell_type": "markdown",
   "id": "8a188a93",
   "metadata": {},
   "source": [
    "1000-2999"
   ]
  },
  {
   "cell_type": "code",
   "execution_count": 15,
   "id": "afaa1ea5",
   "metadata": {},
   "outputs": [
    {
     "data": {
      "text/plain": [
       "3      Note by Note: The Making of Steinway L1037 (2007)\n",
       "34                      The reverse job applicant (2010)\n",
       "50       Ask HN: Which framework for a CRUD app in 2016?\n",
       "59          2015 in review  1 year after I quit blogging\n",
       "80     Apple Watch Scooped Up Over Half the Smartwatc...\n",
       "150            Classic Nintendo Games Are NP-Hard (2012)\n",
       "165    Adobe Photoshop and 1700s Manuscripts: A New A...\n",
       "184                    Ask HN: What you learned in 2015?\n",
       "223                      The Talent War Revisited (2011)\n",
       "229                      When Good Waves Go Rogue (2014)\n",
       "232    Man who created own credit card sues bank for ...\n",
       "234    US DoD Using 1970s IBM Series/1 and Floppy Dis...\n",
       "253    A small British firm shows that software bugs ...\n",
       "307                  Your web / back end stack for 2016?\n",
       "309              The Box: A Replacement for Files (1999)\n",
       "329    Baby Bust: 2015 had lowest U.S. fertility rate...\n",
       "351                           DNS: Basic Concepts (2013)\n",
       "360    Each Facebook User Represented $10.03 in Ad Re...\n",
       "366    There are no particles, there are only fields ...\n",
       "368                                 Venture Outlook 2016\n",
       "Name: title, dtype: object"
      ]
     },
     "execution_count": 15,
     "metadata": {},
     "output_type": "execute_result"
    }
   ],
   "source": [
    "pattern = \"[12][0-9][0-9][0-9]\"\n",
    "title[title.str.contains(pattern)].head(20)"
   ]
  },
  {
   "cell_type": "markdown",
   "id": "bfcc4934",
   "metadata": {},
   "source": [
    "# Numeric Quantifier\n",
    "\n",
    "a{3} -> The character `a` three times\n",
    "\n",
    "a{3,5} ->The character `a` three, four or five times\n",
    "\n",
    "a{,3} ->The character `a` zero, one, two or three times\n",
    "\n",
    "a{8,} ->The character `a` eight or more times"
   ]
  },
  {
   "cell_type": "markdown",
   "id": "4fab64a0",
   "metadata": {},
   "source": [
    "# Single Characters Quantifier\n",
    "\n",
    "a* -> equivalent to a{0,} zero or more\n",
    "\n",
    "a+ -> equivalent to a{1,} one or more\n",
    "\n",
    "a? -> equivalent to a{0,1} zero or one"
   ]
  },
  {
   "cell_type": "code",
   "execution_count": 56,
   "id": "931f7097",
   "metadata": {},
   "outputs": [
    {
     "data": {
      "text/plain": [
       "<re.Match object; span=(0, 5), match='sa__d'>"
      ]
     },
     "execution_count": 56,
     "metadata": {},
     "output_type": "execute_result"
    }
   ],
   "source": [
    "pattern = \"sa__d\"\n",
    "\n",
    "re.search(pattern,\"sa__d\")"
   ]
  },
  {
   "cell_type": "code",
   "execution_count": 17,
   "id": "573251d3",
   "metadata": {},
   "outputs": [
    {
     "data": {
      "text/plain": [
       "3      Note by Note: The Making of Steinway L1037 (2007)\n",
       "34                      The reverse job applicant (2010)\n",
       "50       Ask HN: Which framework for a CRUD app in 2016?\n",
       "59          2015 in review  1 year after I quit blogging\n",
       "80     Apple Watch Scooped Up Over Half the Smartwatc...\n",
       "150            Classic Nintendo Games Are NP-Hard (2012)\n",
       "165    Adobe Photoshop and 1700s Manuscripts: A New A...\n",
       "184                    Ask HN: What you learned in 2015?\n",
       "223                      The Talent War Revisited (2011)\n",
       "229                      When Good Waves Go Rogue (2014)\n",
       "232    Man who created own credit card sues bank for ...\n",
       "234    US DoD Using 1970s IBM Series/1 and Floppy Dis...\n",
       "253    A small British firm shows that software bugs ...\n",
       "307                  Your web / back end stack for 2016?\n",
       "309              The Box: A Replacement for Files (1999)\n",
       "329    Baby Bust: 2015 had lowest U.S. fertility rate...\n",
       "351                           DNS: Basic Concepts (2013)\n",
       "360    Each Facebook User Represented $10.03 in Ad Re...\n",
       "366    There are no particles, there are only fields ...\n",
       "368                                 Venture Outlook 2016\n",
       "Name: title, dtype: object"
      ]
     },
     "execution_count": 17,
     "metadata": {},
     "output_type": "execute_result"
    }
   ],
   "source": [
    "pattern = \"[12][\\d]{3}\"\n",
    "# pattern = \"[1999-2020]\"\n",
    "title[title.str.contains(pattern)].head(20)"
   ]
  },
  {
   "cell_type": "markdown",
   "id": "45a388f9",
   "metadata": {},
   "source": [
    "# Character classes\n",
    "\n",
    "* `set` ->[fud] either f,u or d\n",
    "* `range` -> [a-e] any of the charachter a,b,c,d or e\n",
    "* `range` -> [0-3] any of the charachter 0,1,2 or 3\n",
    "* `range` -> [A-Z] any uppercase letter\n",
    "* `set+range` -> [A-Za-z] any uppercase or lower case letter[Aa-Zz]\n",
    "* `Digit` -> **`\\d`** any digit character(equivalent to [0-9])\n",
    "* `Word` -> **`\\w`** any digit, uppercase, lowercase or underscore character (equivalent to [A-Za-z0-9_]). Does not include any special character \n",
    "* `Whitepace` -> **`\\s`** any space, tab or linebreak character\n",
    "* `Dot` -> **`.`**  any character or special character except newline"
   ]
  },
  {
   "cell_type": "code",
   "execution_count": 18,
   "id": "46eada32",
   "metadata": {},
   "outputs": [
    {
     "data": {
      "text/plain": [
       "3      Note by Note: The Making of Steinway L1037 (2007)\n",
       "34                      The reverse job applicant (2010)\n",
       "50       Ask HN: Which framework for a CRUD app in 2016?\n",
       "59          2015 in review  1 year after I quit blogging\n",
       "80     Apple Watch Scooped Up Over Half the Smartwatc...\n",
       "150            Classic Nintendo Games Are NP-Hard (2012)\n",
       "165    Adobe Photoshop and 1700s Manuscripts: A New A...\n",
       "184                    Ask HN: What you learned in 2015?\n",
       "223                      The Talent War Revisited (2011)\n",
       "229                      When Good Waves Go Rogue (2014)\n",
       "232    Man who created own credit card sues bank for ...\n",
       "234    US DoD Using 1970s IBM Series/1 and Floppy Dis...\n",
       "253    A small British firm shows that software bugs ...\n",
       "307                  Your web / back end stack for 2016?\n",
       "309              The Box: A Replacement for Files (1999)\n",
       "329    Baby Bust: 2015 had lowest U.S. fertility rate...\n",
       "351                           DNS: Basic Concepts (2013)\n",
       "360    Each Facebook User Represented $10.03 in Ad Re...\n",
       "366    There are no particles, there are only fields ...\n",
       "368                                 Venture Outlook 2016\n",
       "Name: title, dtype: object"
      ]
     },
     "execution_count": 18,
     "metadata": {},
     "output_type": "execute_result"
    }
   ],
   "source": [
    "pattern = \"[12]\\d{3}\"\n",
    "title[title.str.contains(pattern)].head(20)"
   ]
  },
  {
   "cell_type": "code",
   "execution_count": 19,
   "id": "33ec7546",
   "metadata": {},
   "outputs": [
    {
     "data": {
      "text/plain": [
       "3      Note by Note: The Making of Steinway L1037 (2007)\n",
       "12     Show HN: Wio Link  ESP8266 Based Web of Things...\n",
       "34                      The reverse job applicant (2010)\n",
       "50       Ask HN: Which framework for a CRUD app in 2016?\n",
       "59          2015 in review  1 year after I quit blogging\n",
       "66     Analysis of 114 propaganda sources from ISIS, ...\n",
       "80     Apple Watch Scooped Up Over Half the Smartwatc...\n",
       "103            Ubuntu 16.04 LTS to Ship Without Python 2\n",
       "150            Classic Nintendo Games Are NP-Hard (2012)\n",
       "165    Adobe Photoshop and 1700s Manuscripts: A New A...\n",
       "172    Full Disclosure: WinRAR SFX v5.21  Remote Code...\n",
       "184                    Ask HN: What you learned in 2015?\n",
       "191    How one Silicon Valley engineer negotiated a s...\n",
       "221                 MemSQL (YC W11) Raises $36M Series C\n",
       "223                      The Talent War Revisited (2011)\n",
       "229                      When Good Waves Go Rogue (2014)\n",
       "232    Man who created own credit card sues bank for ...\n",
       "234    US DoD Using 1970s IBM Series/1 and Floppy Dis...\n",
       "253    A small British firm shows that software bugs ...\n",
       "288              A 15-Year Series of Campaign Simulators\n",
       "Name: title, dtype: object"
      ]
     },
     "execution_count": 19,
     "metadata": {},
     "output_type": "execute_result"
    }
   ],
   "source": [
    "pattern = \"[12]\\d+\"\n",
    "title[title.str.contains(pattern)].head(20)\n",
    "# title.loc[12]"
   ]
  },
  {
   "cell_type": "code",
   "execution_count": 20,
   "id": "503d6b06",
   "metadata": {},
   "outputs": [
    {
     "data": {
      "text/plain": [
       "14881    US Intelligence directors personal e-mail, pho...\n",
       "14935    Ask HN: Anyone else *still* having no email de...\n",
       "14945            How to get benefits from email marketing?\n",
       "15216    Beware: Nylas cloud email retains all emails a...\n",
       "15281    Show HN: Double Your Network (a free, 10-day e...\n",
       "15300    A Humble email alternative app with a stop switch\n",
       "15408    Google has most of my email because it has all...\n",
       "15489    Hillary's IT guy asking Reddit how to cover up...\n",
       "15682    QUESTION: Why does no email have native video?...\n",
       "16152    Avoid committing to GitHub with your company e...\n",
       "16508    State Dept.: Clinton IT aide's email archive i...\n",
       "16794    Turkey blocks access to WikiLeaks after email-...\n",
       "17004    TRACEMAIL: Visualize the path of your emails, ...\n",
       "17415    Microsoft failed to warn victims of Chinese em...\n",
       "17924                 How Clintons email scandal took root\n",
       "18098    House panel looking into Reddit post about Cli...\n",
       "18583    Mailgen  Generates clean, responsive HTML for ...\n",
       "18847    Show HN: Crisp iOS keyboard for email and text...\n",
       "19303    Ask HN: Why big email providers don't sign the...\n",
       "19446    Tell HN: Secure email provider Riseup will run...\n",
       "Name: title, dtype: object"
      ]
     },
     "execution_count": 20,
     "metadata": {},
     "output_type": "execute_result"
    }
   ],
   "source": [
    "\"email\",\"e-mail\"\n",
    "\n",
    "pattern = \"e-?mail\"\n",
    "title[title.str.contains(pattern)].tail(20)"
   ]
  },
  {
   "cell_type": "code",
   "execution_count": 21,
   "id": "7a8351bb",
   "metadata": {},
   "outputs": [
    {
     "data": {
      "text/plain": [
       "66       Analysis of 114 propaganda sources from ISIS, ...\n",
       "100      Munich Gunman Got Weapon from the Darknet [Ger...\n",
       "159           File indexing and searching for Plan 9 [pdf]\n",
       "162      Attack on Kunduz Trauma Centre, Afghanistan  I...\n",
       "195                 [Beta] Speedtest.net  HTML5 Speed Test\n",
       "                               ...                        \n",
       "19763    TSA can now force you to go through body scann...\n",
       "19867                       Using Pony for Fintech [video]\n",
       "19947                                Swift Reversing [pdf]\n",
       "19979    WSJ/Dowjones Announce Unauthorized Access Betw...\n",
       "20089    Users Really Do Plug in USB Drives They Find [...\n",
       "Name: title, Length: 444, dtype: object"
      ]
     },
     "execution_count": 21,
     "metadata": {},
     "output_type": "execute_result"
    }
   ],
   "source": [
    "# [pdf], [video], [png], [germany] , [A],[9]\n",
    "\n",
    "pattern = \"\\[\\w+\\]\"#\\[png\\]\n",
    "\n",
    "c2 = title[title.str.contains(pattern)]\n",
    "c2"
   ]
  },
  {
   "cell_type": "code",
   "execution_count": 22,
   "id": "45608bf6",
   "metadata": {},
   "outputs": [
    {
     "data": {
      "text/plain": [
       "19225    Explore how the periodic table has changed in ...\n",
       "19260    Why Johnny Cant Encrypt: A Usability Evaluatio...\n",
       "19290    Object-Oriented Programming is Garbage: 3800 S...\n",
       "19319    Are fluoride levels in drinking water associat...\n",
       "19364                            The Sound of Code [video]\n",
       "19440         Security without Identification (1985) [pdf]\n",
       "19443    Zynga Now Worth Less Than Its Own Office Build...\n",
       "19445    Employees Leave Good Bosses Nearly as Often as...\n",
       "19482       [Challenge] Sorting algorithm with constraints\n",
       "19541    On the Insecurity of Whitelists and the Future...\n",
       "19549                IMP: Indirect Memory Prefetcher [pdf]\n",
       "19583    [Ubuntu]if you do this sudo chmod 777 -R /etc,...\n",
       "19724    British journalists twice as likely to be left...\n",
       "19743    Using a Neural Network to Train a Ruby Twitter...\n",
       "19763    TSA can now force you to go through body scann...\n",
       "19867                       Using Pony for Fintech [video]\n",
       "19947                                Swift Reversing [pdf]\n",
       "19975    [FOR GIT USERS] YoLog  Lightweight Wrapper to ...\n",
       "19979    WSJ/Dowjones Announce Unauthorized Access Betw...\n",
       "20089    Users Really Do Plug in USB Drives They Find [...\n",
       "Name: title, dtype: object"
      ]
     },
     "execution_count": 22,
     "metadata": {},
     "output_type": "execute_result"
    }
   ],
   "source": [
    "# [pdf], [video], [png], [germany] , [A],[9]\n",
    "\n",
    "pattern = \"\\[.+\\]\"\n",
    "\n",
    "title[title.str.contains(pattern)].tail(20)\n"
   ]
  },
  {
   "cell_type": "code",
   "execution_count": 23,
   "id": "9a2ace1a",
   "metadata": {},
   "outputs": [],
   "source": [
    "a = \"Economy..GDP\""
   ]
  },
  {
   "cell_type": "code",
   "execution_count": 24,
   "id": "fb08c21e",
   "metadata": {},
   "outputs": [
    {
     "data": {
      "text/plain": [
       "'Economy  GDP'"
      ]
     },
     "execution_count": 24,
     "metadata": {},
     "output_type": "execute_result"
    }
   ],
   "source": [
    "a = a.replace(\".\",\" \")\n",
    "a"
   ]
  },
  {
   "cell_type": "code",
   "execution_count": 25,
   "id": "bee6315e",
   "metadata": {},
   "outputs": [
    {
     "data": {
      "text/plain": [
       "'Economy  GDP'"
      ]
     },
     "execution_count": 25,
     "metadata": {},
     "output_type": "execute_result"
    }
   ],
   "source": [
    "a = re.sub(\"\\.+\",\" \",a)\n",
    "a"
   ]
  },
  {
   "cell_type": "markdown",
   "id": "1361f750",
   "metadata": {},
   "source": [
    "# Negative Class\n",
    "\n",
    "* `Negative Set` -> [^fud] any charachter except f,u or d\n",
    "* `Negative Set` -> [^1-3Z\\s] any charachter except 1,2,3,Z or Whitespace character\n",
    "* `Negative Digit` -> \\D any charachter except Digit character\n",
    "* `Negative Word` -> \\W any charachter except word character\n",
    "* `Negative whitespace` -> \\S any charachter except space character\n"
   ]
  },
  {
   "cell_type": "code",
   "execution_count": 26,
   "id": "0b13a82b",
   "metadata": {},
   "outputs": [],
   "source": [
    "\"JavaScript\"\n",
    "\"javascript\"\n",
    "\"Java\"\n",
    "\n",
    "pattern = \"[jJ]ava[^Ss]\""
   ]
  },
  {
   "cell_type": "code",
   "execution_count": 27,
   "id": "4b4faea4",
   "metadata": {},
   "outputs": [
    {
     "data": {
      "text/plain": [
       "<re.Match object; span=(0, 5), match='Java '>"
      ]
     },
     "execution_count": 27,
     "metadata": {},
     "output_type": "execute_result"
    }
   ],
   "source": [
    "a = \"I am learning javascript\"\n",
    "b = \"I am learning javapython\"\n",
    "c = \"Java is my favourite language\"\n",
    "\n",
    "pattern = \"[jJ]ava[^Ss]\"\n",
    "\n",
    "re.search(pattern,c)"
   ]
  },
  {
   "cell_type": "code",
   "execution_count": 28,
   "id": "1feeeaa0",
   "metadata": {},
   "outputs": [
    {
     "data": {
      "text/plain": [
       "<re.Match object; span=(14, 18), match='java'>"
      ]
     },
     "execution_count": 28,
     "metadata": {},
     "output_type": "execute_result"
    }
   ],
   "source": [
    "a = \"I am learning java\"\n",
    "\n",
    "pattern = \"\\\\b[jJ]ava\\\\b\"\n",
    "\n",
    "re.search(pattern,a)"
   ]
  },
  {
   "cell_type": "code",
   "execution_count": 29,
   "id": "15028570",
   "metadata": {},
   "outputs": [
    {
     "name": "stdout",
     "output_type": "stream",
     "text": [
      "hello\b\n"
     ]
    }
   ],
   "source": [
    "print(\"hello\\b\")"
   ]
  },
  {
   "cell_type": "code",
   "execution_count": 30,
   "id": "392b9a3e",
   "metadata": {},
   "outputs": [
    {
     "data": {
      "text/plain": [
       "<re.Match object; span=(14, 18), match='java'>"
      ]
     },
     "execution_count": 30,
     "metadata": {},
     "output_type": "execute_result"
    }
   ],
   "source": [
    "a = \"I am learning java\"\n",
    "\n",
    "pattern = r\"\\b[jJ]ava\\b\"\n",
    "\n",
    "re.search(pattern,a)"
   ]
  },
  {
   "cell_type": "markdown",
   "id": "1f80dbc0",
   "metadata": {},
   "source": [
    "* ^ -> it will check pattern at the start\n",
    "* $ -> it will check pattern at the end"
   ]
  },
  {
   "cell_type": "code",
   "execution_count": 31,
   "id": "c2b03fd4",
   "metadata": {},
   "outputs": [],
   "source": [
    "pattern = r\"^Danial\" # Check at start\n",
    "\n",
    "pattern = r\"Danial$\" # Check at end "
   ]
  },
  {
   "cell_type": "code",
   "execution_count": 32,
   "id": "f80a196c",
   "metadata": {},
   "outputs": [
    {
     "data": {
      "text/plain": [
       "195                 [Beta] Speedtest.net  HTML5 Speed Test\n",
       "398         [video] Google Self-Driving SUV Sideswipes Bus\n",
       "3136                           [CSS] Yellow Fade Technique\n",
       "5054     [React] proptypes-parser: Define React PropTyp...\n",
       "9389     [Petition] Tell Microsoft to stop making browsers\n",
       "10960      [pdf] Ninth Circuit Decision on AT&T Throttling\n",
       "11356    [video] a new tool to make your workflow as a ...\n",
       "12323                [Map] Watch as the US grows over time\n",
       "12374    [JavaScript] to promise or to callback? This i...\n",
       "13385                [video] Introducing Apple File System\n",
       "14397    [video] Boston Dynamics Atlas robot video comm...\n",
       "16747    [ask] Why you should borrow me your spare comp...\n",
       "19035    [2015] How one man earns $1M a year teaching w...\n",
       "19482       [Challenge] Sorting algorithm with constraints\n",
       "19583    [Ubuntu]if you do this sudo chmod 777 -R /etc,...\n",
       "Name: title, dtype: object"
      ]
     },
     "execution_count": 32,
     "metadata": {},
     "output_type": "execute_result"
    }
   ],
   "source": [
    "# [pdf], [video], [png], [germany] , [A],[9]\n",
    "\n",
    "pattern = \"^\\[\\w+\\]\"\n",
    "\n",
    "title[title.str.contains(pattern)].tail(20)"
   ]
  },
  {
   "cell_type": "code",
   "execution_count": 33,
   "id": "f4b76a30",
   "metadata": {},
   "outputs": [
    {
     "data": {
      "text/plain": [
       "19011         Memory Compression in Windows 10 RTM [video]\n",
       "19052      Centriphone  an iPhone video experiment [video]\n",
       "19063    Andrew Ng on What's Next in Deep Learning [video]\n",
       "19133             PostgreSQL: Linux VS Windows [Benchmark]\n",
       "19162                  The Ultimate Amiga 500 Talk [video]\n",
       "19225    Explore how the periodic table has changed in ...\n",
       "19260    Why Johnny Cant Encrypt: A Usability Evaluatio...\n",
       "19290    Object-Oriented Programming is Garbage: 3800 S...\n",
       "19319    Are fluoride levels in drinking water associat...\n",
       "19364                            The Sound of Code [video]\n",
       "19440         Security without Identification (1985) [pdf]\n",
       "19445    Employees Leave Good Bosses Nearly as Often as...\n",
       "19541    On the Insecurity of Whitelists and the Future...\n",
       "19549                IMP: Indirect Memory Prefetcher [pdf]\n",
       "19743    Using a Neural Network to Train a Ruby Twitter...\n",
       "19763    TSA can now force you to go through body scann...\n",
       "19867                       Using Pony for Fintech [video]\n",
       "19947                                Swift Reversing [pdf]\n",
       "19979    WSJ/Dowjones Announce Unauthorized Access Betw...\n",
       "20089    Users Really Do Plug in USB Drives They Find [...\n",
       "Name: title, dtype: object"
      ]
     },
     "execution_count": 33,
     "metadata": {},
     "output_type": "execute_result"
    }
   ],
   "source": [
    "# [pdf], [video], [png], [germany] , [A],[9]\n",
    "\n",
    "pattern = \"\\[\\w+\\]$\"\n",
    "\n",
    "title[title.str.contains(pattern)].tail(20)"
   ]
  },
  {
   "cell_type": "code",
   "execution_count": 34,
   "id": "81b0d852",
   "metadata": {},
   "outputs": [
    {
     "data": {
      "text/plain": [
       "16056     Another Hack: 117M LinkedIn Emails and Passwords\n",
       "16152    Avoid committing to GitHub with your company e...\n",
       "16508    State Dept.: Clinton IT aide's email archive i...\n",
       "16794    Turkey blocks access to WikiLeaks after email-...\n",
       "17004    TRACEMAIL: Visualize the path of your emails, ...\n",
       "17060        This Email Subscription Will Make You Smarter\n",
       "17214                             Why Email does not stink\n",
       "17374              POPFile  Automatic Email Classification\n",
       "17415    Microsoft failed to warn victims of Chinese em...\n",
       "17440    More Encryption, More Notifications, More Emai...\n",
       "17826    Show HN: Email PaaS Pricing (for former Mandri...\n",
       "17924                 How Clintons email scandal took root\n",
       "17926             Disposable, Secure, Email Built in Rails\n",
       "18098    House panel looking into Reddit post about Cli...\n",
       "18583    Mailgen  Generates clean, responsive HTML for ...\n",
       "18847    Show HN: Crisp iOS keyboard for email and text...\n",
       "19303    Ask HN: Why big email providers don't sign the...\n",
       "19395    I used HTML Email when applying for jobs, here...\n",
       "19446    Tell HN: Secure email provider Riseup will run...\n",
       "19905    Gmail Will Soon Warn Users When Emails Arrive ...\n",
       "Name: title, dtype: object"
      ]
     },
     "execution_count": 34,
     "metadata": {},
     "output_type": "execute_result"
    }
   ],
   "source": [
    "# email, Email, EMail, EMAIL, EmAIL\n",
    "\n",
    "pattern = \"[Ee][Mm][Aa][Ii][lL]\"\n",
    "title[title.str.contains(pattern)].tail(20)"
   ]
  },
  {
   "cell_type": "code",
   "execution_count": 35,
   "id": "3636d0e1",
   "metadata": {},
   "outputs": [
    {
     "data": {
      "text/plain": [
       "16056     Another Hack: 117M LinkedIn Emails and Passwords\n",
       "16152    Avoid committing to GitHub with your company e...\n",
       "16508    State Dept.: Clinton IT aide's email archive i...\n",
       "16794    Turkey blocks access to WikiLeaks after email-...\n",
       "17004    TRACEMAIL: Visualize the path of your emails, ...\n",
       "17060        This Email Subscription Will Make You Smarter\n",
       "17214                             Why Email does not stink\n",
       "17374              POPFile  Automatic Email Classification\n",
       "17415    Microsoft failed to warn victims of Chinese em...\n",
       "17440    More Encryption, More Notifications, More Emai...\n",
       "17826    Show HN: Email PaaS Pricing (for former Mandri...\n",
       "17924                 How Clintons email scandal took root\n",
       "17926             Disposable, Secure, Email Built in Rails\n",
       "18098    House panel looking into Reddit post about Cli...\n",
       "18583    Mailgen  Generates clean, responsive HTML for ...\n",
       "18847    Show HN: Crisp iOS keyboard for email and text...\n",
       "19303    Ask HN: Why big email providers don't sign the...\n",
       "19395    I used HTML Email when applying for jobs, here...\n",
       "19446    Tell HN: Secure email provider Riseup will run...\n",
       "19905    Gmail Will Soon Warn Users When Emails Arrive ...\n",
       "Name: title, dtype: object"
      ]
     },
     "execution_count": 35,
     "metadata": {},
     "output_type": "execute_result"
    }
   ],
   "source": [
    "# email, Email, EMail, EMAIL, EmAIL\n",
    "\n",
    "pattern = \"EMAIL\"\n",
    "title[title.str.contains(pattern, flags = re.I)].tail(20) # Ignore Case"
   ]
  },
  {
   "cell_type": "code",
   "execution_count": 36,
   "id": "f5b25f1d",
   "metadata": {},
   "outputs": [
    {
     "data": {
      "text/plain": [
       "16099                   Need help to set ODBC MySQL driver\n",
       "16135      NoSQL Databases: A Survey and Decision Guidance\n",
       "16239                              PostgreSQL 9.5 Released\n",
       "16688    AMA with Greg Kemnitz (One of the Creators of ...\n",
       "16925                  Open Source NoSQL Database for .NET\n",
       "17104    Potential Response to Oracles Anti-PostgreSQL ...\n",
       "17207               PostgreSQL: the bits you haven't found\n",
       "17660             Aurora RDS vs. Google CloudSQL Benchmark\n",
       "17983                              MySQL is a Better NoSQL\n",
       "17995    Ask HN: What are the best resources for learni...\n",
       "18063    Gh-ost: GitHub's online schema migration tool ...\n",
       "18072    Show HN: ESENT Serialize, a .NET Persistence a...\n",
       "18166    The Architecture of Schemaless, Uber Engineeri...\n",
       "18666                      Parallel Query (PostgreSQL 9.6)\n",
       "18828          Practical Guide to PostgreSQL Optimizations\n",
       "19066    A universal PHP script to generate JSON from a...\n",
       "19087         PostgreSQL Scalability: Towards Millions TPS\n",
       "19133             PostgreSQL: Linux VS Windows [Benchmark]\n",
       "19580                           PostgreSQL Index Internals\n",
       "19802                     Uber's Move Away from PostgreSQL\n",
       "Name: title, dtype: object"
      ]
     },
     "execution_count": 36,
     "metadata": {},
     "output_type": "execute_result"
    }
   ],
   "source": [
    "# Mysql, postgresql, cloudSQL\n",
    "\n",
    "pattern = \"\\w+sql\"\n",
    "\n",
    "title[title.str.contains(pattern, flags = re.I)].tail(20) # Ignore Case"
   ]
  },
  {
   "cell_type": "code",
   "execution_count": 37,
   "id": "3614ffec",
   "metadata": {},
   "outputs": [
    {
     "data": {
      "text/plain": [
       "142      PostgreSQL\n",
       "221          MemSQL\n",
       "882      PostgreSQL\n",
       "1160          NoSQL\n",
       "1197     PostgreSQL\n",
       "1370          NoSQL\n",
       "2430          MySQL\n",
       "2432          NoSQL\n",
       "4546     PostgreSQL\n",
       "4568          NoSQL\n",
       "4616     PostgreSQL\n",
       "4944          NoSQL\n",
       "5398     PostgreSQL\n",
       "5523          MySQL\n",
       "5654       SparkSQL\n",
       "5738          MySQL\n",
       "5844          nosql\n",
       "6523     PostgreSQL\n",
       "6532          MySQL\n",
       "7050          MySQL\n",
       "7245     PostgreSQL\n",
       "7571     PostgreSQL\n",
       "8371     PostgreSQL\n",
       "8823     PostgreSQL\n",
       "9643     PostgreSQL\n",
       "10238    PostgreSQL\n",
       "10264    PostgreSQL\n",
       "10478         NoSQL\n",
       "10851         NoSQL\n",
       "11793         NoSQL\n",
       "12757    PostgreSQL\n",
       "12766         MySQL\n",
       "12800         NoSQL\n",
       "12973         NoSQL\n",
       "14132         NoSQL\n",
       "14527         NoSQL\n",
       "15089         mySql\n",
       "15348         NoSQL\n",
       "15898    PostgreSQL\n",
       "16095         MySQL\n",
       "16099         MySQL\n",
       "16135         NoSQL\n",
       "16239    PostgreSQL\n",
       "16688    PostgreSQL\n",
       "16925         NoSQL\n",
       "17104    PostgreSQL\n",
       "17207    PostgreSQL\n",
       "17660      CloudSQL\n",
       "17983         MySQL\n",
       "17995    PostgreSQL\n",
       "18063         MySQL\n",
       "18072         NoSQL\n",
       "18166         MySQL\n",
       "18666    PostgreSQL\n",
       "18828    PostgreSQL\n",
       "19066         MySQL\n",
       "19087    PostgreSQL\n",
       "19133    PostgreSQL\n",
       "19580    PostgreSQL\n",
       "19802    PostgreSQL\n",
       "Name: 0, dtype: object"
      ]
     },
     "execution_count": 37,
     "metadata": {},
     "output_type": "execute_result"
    }
   ],
   "source": [
    "# Mysql, postgresql, cloudSQL\n",
    "\n",
    "pattern = \"(\\w+sql)\"\n",
    "df = title.str.extract(pattern, flags = re.I) # Ignore Case\n",
    "df[df[0].notnull()][0]\n",
    "# df"
   ]
  },
  {
   "cell_type": "code",
   "execution_count": 38,
   "id": "69e851f1",
   "metadata": {},
   "outputs": [
    {
     "data": {
      "text/plain": [
       "20"
      ]
     },
     "execution_count": 38,
     "metadata": {},
     "output_type": "execute_result"
    }
   ],
   "source": [
    "pattern = \"python\\s?\\d+\"\n",
    "\n",
    "title[title.str.contains(pattern, flags = re.I)].tail(20).__len__() # Ignore Case"
   ]
  },
  {
   "cell_type": "code",
   "execution_count": 39,
   "id": "e4369088",
   "metadata": {},
   "outputs": [
    {
     "data": {
      "text/plain": [
       "pdf            276\n",
       "video          111\n",
       "2015             3\n",
       "audio            3\n",
       "2014             2\n",
       "slides           2\n",
       "beta             2\n",
       "NSFW             1\n",
       "Map              1\n",
       "JavaScript       1\n",
       "repost           1\n",
       "much             1\n",
       "survey           1\n",
       "map              1\n",
       "5                1\n",
       "1996             1\n",
       "comic            1\n",
       "GOST             1\n",
       "transcript       1\n",
       "ask              1\n",
       "detainee         1\n",
       "SpaceX           1\n",
       "Skinnywhale      1\n",
       "Benchmark        1\n",
       "viz              1\n",
       "HBR              1\n",
       "Challenge        1\n",
       "coffee           1\n",
       "blank            1\n",
       "updated          1\n",
       "2008             1\n",
       "Beta             1\n",
       "satire           1\n",
       "song             1\n",
       "ANNOUNCE         1\n",
       "Videos           1\n",
       "videos           1\n",
       "Australian       1\n",
       "SPA              1\n",
       "CSS              1\n",
       "React            1\n",
       "USA              1\n",
       "Python           1\n",
       "Excerpt          1\n",
       "Live             1\n",
       "crash            1\n",
       "gif              1\n",
       "png              1\n",
       "Infograph        1\n",
       "Petition         1\n",
       "German           1\n",
       "Ubuntu           1\n",
       "Name: 0, dtype: int64"
      ]
     },
     "execution_count": 39,
     "metadata": {},
     "output_type": "execute_result"
    }
   ],
   "source": [
    "# Mysql, postgresql, cloudSQL\n",
    "\n",
    "pattern = \"\\[(\\w+)\\]\"\n",
    "df = title.str.extract(pattern, flags = re.I) # Ignore Case\n",
    "df[df[0].notnull()][0].value_counts()"
   ]
  },
  {
   "cell_type": "code",
   "execution_count": 40,
   "id": "d2d2ceb1",
   "metadata": {},
   "outputs": [
    {
     "name": "stdout",
     "output_type": "stream",
     "text": [
      "\\bC\\b[^+#.]\n"
     ]
    }
   ],
   "source": [
    "print(r\"\\bC\\b[^+#.]\")"
   ]
  },
  {
   "cell_type": "code",
   "execution_count": 41,
   "id": "96505076",
   "metadata": {},
   "outputs": [
    {
     "data": {
      "text/plain": [
       "365                       The new C standards are worth it\n",
       "444            Moz raises $10m Series C from Foundry Group\n",
       "521           Fuchsia: Micro kernel written in C by Google\n",
       "1307             Show HN: Yupp, yet another C preprocessor\n",
       "1326                      The C standard formalized in Coq\n",
       "                               ...                        \n",
       "18543                 C-style for loops removed from Swift\n",
       "18549            Show HN: An awesome C library for Windows\n",
       "18649                 Python vs. C/C++ in embedded systems\n",
       "19151                      Ask HN: How to learn C in 2016?\n",
       "19933    Lightweight C library to parse NMEA 0183 sente...\n",
       "Name: title, Length: 69, dtype: object"
      ]
     },
     "execution_count": 41,
     "metadata": {},
     "output_type": "execute_result"
    }
   ],
   "source": [
    "i = \"C-language\"\n",
    "\n",
    "pattern = r\"\\bC\\b[^#.+]\"\n",
    "re.findall(pattern,i)\n",
    "title[title.str.contains(pattern, flags = re.I)]\n",
    "# title[13500]# Ignore Case\n",
    "# title[19829     ]"
   ]
  },
  {
   "cell_type": "markdown",
   "id": "b8c5271a",
   "metadata": {},
   "source": [
    "# LOOK AROUNDs"
   ]
  },
  {
   "cell_type": "markdown",
   "id": "e8771bdd",
   "metadata": {},
   "source": [
    "* zzz(?=abc)\n",
    "* zzz(?!abc)\n",
    "* (?<=abc)zzz\n",
    "* (?<!abc)zzz"
   ]
  },
  {
   "cell_type": "code",
   "execution_count": 42,
   "id": "6aa9b440",
   "metadata": {},
   "outputs": [
    {
     "data": {
      "text/plain": [
       "['C']"
      ]
     },
     "execution_count": 42,
     "metadata": {},
     "output_type": "execute_result"
    }
   ],
   "source": [
    "i = \"The new C standard are worth it\"\n",
    "\n",
    "pattern = r\"\\b[Cc]\\b(?![+#.])\"\n",
    "re.findall(pattern,i)"
   ]
  },
  {
   "cell_type": "code",
   "execution_count": 43,
   "id": "4576d857",
   "metadata": {},
   "outputs": [
    {
     "data": {
      "text/plain": [
       "365                      The new C standards are worth it\n",
       "444           Moz raises $10m Series C from Foundry Group\n",
       "521          Fuchsia: Micro kernel written in C by Google\n",
       "1307            Show HN: Yupp, yet another C preprocessor\n",
       "1326                     The C standard formalized in Coq\n",
       "1365                          GNU C Library 2.23 released\n",
       "1429    Cysignals: signal handling (SIGINT, SIGSEGV, )...\n",
       "1620                        SDCC  Small Device C Compiler\n",
       "1949    Rewriting a Ruby C Extension in Rust: How a Na...\n",
       "2195    MyHTML  HTML Parser on Pure C with POSIX Threa...\n",
       "2589    Phalcon  PHP framework delivered as a C extension\n",
       "3250             Transactional Memory Support for C [pdf]\n",
       "4045    Kitten: compile to C, stack-based functional p...\n",
       "4295                 C strings with implicit length field\n",
       "4576    Ask HN: Which linux/unix C++/C IDE are you using?\n",
       "4754           Amazon bans the sale of rogue USB-C cables\n",
       "5259    Incorporating and accessing binary data into a...\n",
       "5492        Scalable C  Writing Large-Scale Distributed C\n",
       "6172                      Bad USB-C cable destroys laptop\n",
       "6206           The Lost Art of C Structure Packing (2014)\n",
       "6463    Code Blocks: open-source, cross-platform, free...\n",
       "6759    Performance Improvements in C Code Using Micro...\n",
       "7185    Apple rejects the Binding of Isaac: Rebirth b/...\n",
       "7255    Why C Students Are More Successful After Gradu...\n",
       "8001               C/C++ Extension for Visual Studio Code\n",
       "8187    Rust conversion of Pinterest C program results...\n",
       "8620        Little: a tcl-based c-like scripting language\n",
       "8883    Free C Programming Course from Aalto Universit...\n",
       "9012                 C pointers are not hardware pointers\n",
       "9315    Apple's Federighi talks open source Swift, Obj...\n",
       "Name: title, dtype: object"
      ]
     },
     "execution_count": 43,
     "metadata": {},
     "output_type": "execute_result"
    }
   ],
   "source": [
    "i = \"C language\"\n",
    "\n",
    "pattern = r\"\\bC\\b[^+#.]\"\n",
    "\n",
    "title[title.str.contains(pattern, flags = re.I)].head(30) # Ignore Case"
   ]
  },
  {
   "cell_type": "code",
   "execution_count": 44,
   "id": "5be16d02",
   "metadata": {},
   "outputs": [
    {
     "data": {
      "text/plain": [
       "['Yes']"
      ]
     },
     "execution_count": 44,
     "metadata": {},
     "output_type": "execute_result"
    }
   ],
   "source": [
    "i = \"Yes Yes\"\n",
    "pattern = r\"\\b(\\w+)\\s\\1\\b\"\n",
    "re.findall(pattern,i)\n",
    "# title[title.str.contains(pattern, flags = re.I)].head(30)"
   ]
  },
  {
   "cell_type": "markdown",
   "id": "0d5c59b2",
   "metadata": {},
   "source": [
    "(\\w+) -> () capture"
   ]
  },
  {
   "cell_type": "code",
   "execution_count": 45,
   "id": "9e4702d8",
   "metadata": {},
   "outputs": [
    {
     "data": {
      "text/plain": [
       "email     75\n",
       "Email     57\n",
       "e Mail     5\n",
       "e-mail     5\n",
       "e mail     4\n",
       "E-mail     2\n",
       "E-Mail     1\n",
       "EMAIL      1\n",
       "eMail      1\n",
       "dtype: int64"
      ]
     },
     "execution_count": 45,
     "metadata": {},
     "output_type": "execute_result"
    }
   ],
   "source": [
    "pattern = r\"(e[-\\s]?mail)\"\n",
    "title.str.extract(pattern, flags = re.I).value_counts()"
   ]
  },
  {
   "cell_type": "markdown",
   "id": "0627daae",
   "metadata": {},
   "source": [
    ".replace(pattern,new_value)"
   ]
  },
  {
   "cell_type": "code",
   "execution_count": 46,
   "id": "30d59296",
   "metadata": {},
   "outputs": [
    {
     "name": "stderr",
     "output_type": "stream",
     "text": [
      "C:\\Users\\S_Huzaifa_Ali_H\\AppData\\Local\\Temp\\ipykernel_11568\\3469396738.py:1: FutureWarning: The default value of regex will change from True to False in a future version.\n",
      "  title.str.replace(pattern,\"email\")\n"
     ]
    },
    {
     "data": {
      "text/plain": [
       "0                                Interactive Dynamic Video\n",
       "1        Florida DJs May Face Felony for April Fools' W...\n",
       "2             Technology ventures: From Idea to Enterprise\n",
       "3        Note by Note: The Making of Steinway L1037 (2007)\n",
       "4        Title II kills investment? Comcast and other I...\n",
       "                               ...                        \n",
       "20094    How Purism Avoids Intels Active Management Tec...\n",
       "20095            YC Application Translated and Broken Down\n",
       "20096    Microkernels are slow and Elvis didn't do no d...\n",
       "20097                        How Product Hunt really works\n",
       "20098    RoboBrowser: Your friendly neighborhood web sc...\n",
       "Name: title, Length: 20099, dtype: object"
      ]
     },
     "execution_count": 46,
     "metadata": {},
     "output_type": "execute_result"
    }
   ],
   "source": [
    "title.str.replace(pattern,\"email\")\n"
   ]
  },
  {
   "cell_type": "code",
   "execution_count": 47,
   "id": "a6f3ab88",
   "metadata": {},
   "outputs": [
    {
     "data": {
      "text/plain": [
       "email     75\n",
       "Email     57\n",
       "e Mail     5\n",
       "e-mail     5\n",
       "e mail     4\n",
       "E-mail     2\n",
       "E-Mail     1\n",
       "EMAIL      1\n",
       "eMail      1\n",
       "dtype: int64"
      ]
     },
     "execution_count": 47,
     "metadata": {},
     "output_type": "execute_result"
    }
   ],
   "source": [
    "pattern = r\"(e[-\\s]?mail)\"\n",
    "title.str.extract(pattern, flags = re.I).value_counts()"
   ]
  },
  {
   "cell_type": "code",
   "execution_count": 48,
   "id": "c653ff34",
   "metadata": {},
   "outputs": [
    {
     "data": {
      "text/plain": [
       "0                  http://www.interactivedynamicvideo.com/\n",
       "1        http://www.thewire.com/entertainment/2013/04/f...\n",
       "2        https://www.amazon.com/Technology-Ventures-Ent...\n",
       "3        http://www.nytimes.com/2007/11/07/movies/07ste...\n",
       "4        http://arstechnica.com/business/2015/10/comcas...\n",
       "                               ...                        \n",
       "20094    https://puri.sm/philosophy/how-purism-avoids-i...\n",
       "20095    https://medium.com/@zreitano/the-yc-applicatio...\n",
       "20096    http://blog.darknedgy.net/technology/2016/01/0...\n",
       "20097    https://medium.com/@benjiwheeler/how-product-h...\n",
       "20098                https://github.com/jmcarp/robobrowser\n",
       "Name: url, Length: 20099, dtype: object"
      ]
     },
     "execution_count": 48,
     "metadata": {},
     "output_type": "execute_result"
    }
   ],
   "source": [
    "hn[\"url\"]"
   ]
  },
  {
   "cell_type": "code",
   "execution_count": 49,
   "id": "33fae059",
   "metadata": {},
   "outputs": [
    {
     "data": {
      "text/html": [
       "<div>\n",
       "<style scoped>\n",
       "    .dataframe tbody tr th:only-of-type {\n",
       "        vertical-align: middle;\n",
       "    }\n",
       "\n",
       "    .dataframe tbody tr th {\n",
       "        vertical-align: top;\n",
       "    }\n",
       "\n",
       "    .dataframe thead th {\n",
       "        text-align: right;\n",
       "    }\n",
       "</style>\n",
       "<table border=\"1\" class=\"dataframe\">\n",
       "  <thead>\n",
       "    <tr style=\"text-align: right;\">\n",
       "      <th></th>\n",
       "      <th>Domains</th>\n",
       "    </tr>\n",
       "  </thead>\n",
       "  <tbody>\n",
       "    <tr>\n",
       "      <th>0</th>\n",
       "      <td>www.interactivedynamicvideo.com</td>\n",
       "    </tr>\n",
       "    <tr>\n",
       "      <th>1</th>\n",
       "      <td>www.thewire.com</td>\n",
       "    </tr>\n",
       "    <tr>\n",
       "      <th>2</th>\n",
       "      <td>www.amazon.com</td>\n",
       "    </tr>\n",
       "    <tr>\n",
       "      <th>3</th>\n",
       "      <td>www.nytimes.com</td>\n",
       "    </tr>\n",
       "    <tr>\n",
       "      <th>4</th>\n",
       "      <td>arstechnica.com</td>\n",
       "    </tr>\n",
       "    <tr>\n",
       "      <th>...</th>\n",
       "      <td>...</td>\n",
       "    </tr>\n",
       "    <tr>\n",
       "      <th>20094</th>\n",
       "      <td>puri.sm</td>\n",
       "    </tr>\n",
       "    <tr>\n",
       "      <th>20095</th>\n",
       "      <td>medium.com</td>\n",
       "    </tr>\n",
       "    <tr>\n",
       "      <th>20096</th>\n",
       "      <td>blog.darknedgy.net</td>\n",
       "    </tr>\n",
       "    <tr>\n",
       "      <th>20097</th>\n",
       "      <td>medium.com</td>\n",
       "    </tr>\n",
       "    <tr>\n",
       "      <th>20098</th>\n",
       "      <td>github.com</td>\n",
       "    </tr>\n",
       "  </tbody>\n",
       "</table>\n",
       "<p>20099 rows × 1 columns</p>\n",
       "</div>"
      ],
      "text/plain": [
       "                               Domains\n",
       "0      www.interactivedynamicvideo.com\n",
       "1                      www.thewire.com\n",
       "2                       www.amazon.com\n",
       "3                      www.nytimes.com\n",
       "4                      arstechnica.com\n",
       "...                                ...\n",
       "20094                          puri.sm\n",
       "20095                       medium.com\n",
       "20096               blog.darknedgy.net\n",
       "20097                       medium.com\n",
       "20098                       github.com\n",
       "\n",
       "[20099 rows x 1 columns]"
      ]
     },
     "execution_count": 49,
     "metadata": {},
     "output_type": "execute_result"
    }
   ],
   "source": [
    "pattern = r\"https?://(?P<Domains>[\\w.]+)/?[\\w.]*\" # ?P<Domains> -> Column\n",
    "hn[\"url\"].str.extract(pattern, flags = re.I)"
   ]
  },
  {
   "cell_type": "code",
   "execution_count": 50,
   "id": "04e6ff88",
   "metadata": {},
   "outputs": [
    {
     "data": {
      "text/html": [
       "<div>\n",
       "<style scoped>\n",
       "    .dataframe tbody tr th:only-of-type {\n",
       "        vertical-align: middle;\n",
       "    }\n",
       "\n",
       "    .dataframe tbody tr th {\n",
       "        vertical-align: top;\n",
       "    }\n",
       "\n",
       "    .dataframe thead th {\n",
       "        text-align: right;\n",
       "    }\n",
       "</style>\n",
       "<table border=\"1\" class=\"dataframe\">\n",
       "  <thead>\n",
       "    <tr style=\"text-align: right;\">\n",
       "      <th></th>\n",
       "      <th>Protocol</th>\n",
       "      <th>Domains</th>\n",
       "      <th>Path</th>\n",
       "    </tr>\n",
       "  </thead>\n",
       "  <tbody>\n",
       "    <tr>\n",
       "      <th>0</th>\n",
       "      <td>http</td>\n",
       "      <td>www.interactivedynamicvideo.com</td>\n",
       "      <td></td>\n",
       "    </tr>\n",
       "    <tr>\n",
       "      <th>1</th>\n",
       "      <td>http</td>\n",
       "      <td>www.thewire.com</td>\n",
       "      <td>entertainment</td>\n",
       "    </tr>\n",
       "    <tr>\n",
       "      <th>2</th>\n",
       "      <td>https</td>\n",
       "      <td>www.amazon.com</td>\n",
       "      <td>Technology</td>\n",
       "    </tr>\n",
       "    <tr>\n",
       "      <th>3</th>\n",
       "      <td>http</td>\n",
       "      <td>www.nytimes.com</td>\n",
       "      <td>2007</td>\n",
       "    </tr>\n",
       "    <tr>\n",
       "      <th>4</th>\n",
       "      <td>http</td>\n",
       "      <td>arstechnica.com</td>\n",
       "      <td>business</td>\n",
       "    </tr>\n",
       "    <tr>\n",
       "      <th>...</th>\n",
       "      <td>...</td>\n",
       "      <td>...</td>\n",
       "      <td>...</td>\n",
       "    </tr>\n",
       "    <tr>\n",
       "      <th>20094</th>\n",
       "      <td>https</td>\n",
       "      <td>puri.sm</td>\n",
       "      <td>philosophy</td>\n",
       "    </tr>\n",
       "    <tr>\n",
       "      <th>20095</th>\n",
       "      <td>https</td>\n",
       "      <td>medium.com</td>\n",
       "      <td></td>\n",
       "    </tr>\n",
       "    <tr>\n",
       "      <th>20096</th>\n",
       "      <td>http</td>\n",
       "      <td>blog.darknedgy.net</td>\n",
       "      <td>technology</td>\n",
       "    </tr>\n",
       "    <tr>\n",
       "      <th>20097</th>\n",
       "      <td>https</td>\n",
       "      <td>medium.com</td>\n",
       "      <td></td>\n",
       "    </tr>\n",
       "    <tr>\n",
       "      <th>20098</th>\n",
       "      <td>https</td>\n",
       "      <td>github.com</td>\n",
       "      <td>jmcarp</td>\n",
       "    </tr>\n",
       "  </tbody>\n",
       "</table>\n",
       "<p>20099 rows × 3 columns</p>\n",
       "</div>"
      ],
      "text/plain": [
       "      Protocol                          Domains           Path\n",
       "0         http  www.interactivedynamicvideo.com               \n",
       "1         http                  www.thewire.com  entertainment\n",
       "2        https                   www.amazon.com     Technology\n",
       "3         http                  www.nytimes.com           2007\n",
       "4         http                  arstechnica.com       business\n",
       "...        ...                              ...            ...\n",
       "20094    https                          puri.sm     philosophy\n",
       "20095    https                       medium.com               \n",
       "20096     http               blog.darknedgy.net     technology\n",
       "20097    https                       medium.com               \n",
       "20098    https                       github.com         jmcarp\n",
       "\n",
       "[20099 rows x 3 columns]"
      ]
     },
     "execution_count": 50,
     "metadata": {},
     "output_type": "execute_result"
    }
   ],
   "source": [
    "pattern = r\"(?P<Protocol>[\\w.]+)://(?P<Domains>[\\w.]+)/?(?P<Path>[\\w.]*)\" # ?P<Domains> -> Column\n",
    "hn[\"url\"].str.extract(pattern, flags = re.I)"
   ]
  },
  {
   "cell_type": "code",
   "execution_count": null,
   "id": "6af18ca6",
   "metadata": {},
   "outputs": [],
   "source": []
  }
 ],
 "metadata": {
  "kernelspec": {
   "display_name": "Python 3 (ipykernel)",
   "language": "python",
   "name": "python3"
  },
  "language_info": {
   "codemirror_mode": {
    "name": "ipython",
    "version": 3
   },
   "file_extension": ".py",
   "mimetype": "text/x-python",
   "name": "python",
   "nbconvert_exporter": "python",
   "pygments_lexer": "ipython3",
   "version": "3.8.5"
  }
 },
 "nbformat": 4,
 "nbformat_minor": 5
}
