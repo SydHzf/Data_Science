{
 "cells": [
  {
   "cell_type": "markdown",
   "metadata": {},
   "source": [
    "# Profitable app profiles\n",
    "\n",
    "# Scenario\n",
    "\n",
    "Our aim in this project is to find mobile app profiles that are profitable. Assuming We're working as data analysts for a company that builds mobile apps, and our job is to enable our team of developers to make data-driven decisions with respect to the kind of apps they build.\n",
    "\n",
    "At our company, we only build apps that are free to download and install, and our main source of revenue consists of in-app ads. This means that our revenue for any given app is mostly influenced by the number of users that use our app. Our goal for this project is to analyze data to help our developers understand what kinds of apps are likely to attract more users.\n",
    "\n"
   ]
  },
  {
   "cell_type": "code",
   "execution_count": 1,
   "metadata": {},
   "outputs": [],
   "source": [
    "def read_file(filename):\n",
    "    from csv import reader\n",
    "    return list(reader(open(filename, encoding = \"utf-8\")))"
   ]
  },
  {
   "cell_type": "code",
   "execution_count": 2,
   "metadata": {},
   "outputs": [
    {
     "data": {
      "text/plain": [
       "10842"
      ]
     },
     "execution_count": 2,
     "metadata": {},
     "output_type": "execute_result"
    }
   ],
   "source": [
    "android = read_file(\"googleplaystore.csv\")\n",
    "len(android)"
   ]
  },
  {
   "cell_type": "code",
   "execution_count": 3,
   "metadata": {},
   "outputs": [],
   "source": [
    "header = android[0]\n",
    "android = android[1:]"
   ]
  },
  {
   "cell_type": "code",
   "execution_count": 4,
   "metadata": {},
   "outputs": [],
   "source": [
    "for i in android:\n",
    "    if i[1] == \"\":\n",
    "        print(i[1])"
   ]
  },
  {
   "cell_type": "code",
   "execution_count": 5,
   "metadata": {},
   "outputs": [
    {
     "name": "stdout",
     "output_type": "stream",
     "text": [
      "['ART_AND_DESIGN', 'AUTO_AND_VEHICLES', 'BEAUTY', 'BOOKS_AND_REFERENCE', 'BUSINESS', 'COMICS', 'COMMUNICATION', 'DATING', 'EDUCATION', 'ENTERTAINMENT', 'EVENTS', 'FINANCE', 'FOOD_AND_DRINK', 'HEALTH_AND_FITNESS', 'HOUSE_AND_HOME', 'LIBRARIES_AND_DEMO', 'LIFESTYLE', 'GAME', 'FAMILY', 'MEDICAL', 'SOCIAL', 'SHOPPING', 'PHOTOGRAPHY', 'SPORTS', 'TRAVEL_AND_LOCAL', 'TOOLS', 'PERSONALIZATION', 'PRODUCTIVITY', 'PARENTING', 'WEATHER', 'VIDEO_PLAYERS', 'NEWS_AND_MAGAZINES', 'MAPS_AND_NAVIGATION', '1.9']\n"
     ]
    }
   ],
   "source": [
    "lst = [] # [ART_AND_DESIGN,]\n",
    "\n",
    "for i in android:\n",
    "    if i[1] not in lst: # ART_AND_DESIGN\n",
    "        lst.append(i[1])\n",
    "\n",
    "print(lst)"
   ]
  },
  {
   "cell_type": "code",
   "execution_count": 6,
   "metadata": {},
   "outputs": [
    {
     "name": "stdout",
     "output_type": "stream",
     "text": [
      "['Life Made WI-Fi Touchscreen Photo Frame', '1.9', '19', '3.0M', '1,000+', 'Free', '0', 'Everyone', '', 'February 11, 2018', '1.0.19', '4.0 and up']\n"
     ]
    }
   ],
   "source": [
    "for i in android:\n",
    "    if i[1] == '1.9':\n",
    "        print(i)"
   ]
  },
  {
   "cell_type": "code",
   "execution_count": 7,
   "metadata": {},
   "outputs": [
    {
     "name": "stdout",
     "output_type": "stream",
     "text": [
      "['Photo Editor & Candy Camera & Grid & ScrapBook', 'ART_AND_DESIGN', '4.1', '159', '19M', '10,000+', 'Free', '0', 'Everyone', 'Art & Design', 'January 7, 2018', '1.0.0', '4.0.3 and up']\n"
     ]
    }
   ],
   "source": [
    "print(android[0])"
   ]
  },
  {
   "cell_type": "code",
   "execution_count": 8,
   "metadata": {},
   "outputs": [
    {
     "name": "stdout",
     "output_type": "stream",
     "text": [
      "['App', 'Category', 'Rating', 'Reviews', 'Size', 'Installs', 'Type', 'Price', 'Content Rating', 'Genres', 'Last Updated', 'Current Ver', 'Android Ver']\n"
     ]
    }
   ],
   "source": [
    "print(header)"
   ]
  },
  {
   "cell_type": "code",
   "execution_count": 9,
   "metadata": {},
   "outputs": [
    {
     "data": {
      "text/plain": [
       "12"
      ]
     },
     "execution_count": 9,
     "metadata": {},
     "output_type": "execute_result"
    }
   ],
   "source": [
    "len(['Life Made WI-Fi Touchscreen Photo Frame', '1.9', '19', '3.0M', '1,000+', 'Free', '0', 'Everyone', '', 'February 11, 2018', '1.0.19', '4.0 and up'])"
   ]
  },
  {
   "cell_type": "code",
   "execution_count": 10,
   "metadata": {},
   "outputs": [
    {
     "data": {
      "text/plain": [
       "13"
      ]
     },
     "execution_count": 10,
     "metadata": {},
     "output_type": "execute_result"
    }
   ],
   "source": [
    "len(['Photo Editor & Candy Camera & Grid & ScrapBook', 'ART_AND_DESIGN', '4.1', '159', '19M', '10,000+', 'Free', '0', 'Everyone', 'Art & Design', 'January 7, 2018', '1.0.0', '4.0.3 and up'])"
   ]
  },
  {
   "cell_type": "code",
   "execution_count": 11,
   "metadata": {},
   "outputs": [
    {
     "data": {
      "text/plain": [
       "10472"
      ]
     },
     "execution_count": 11,
     "metadata": {},
     "output_type": "execute_result"
    }
   ],
   "source": [
    "android.index(['Life Made WI-Fi Touchscreen Photo Frame', '1.9', '19', '3.0M', '1,000+', 'Free', '0', 'Everyone', '', 'February 11, 2018', '1.0.19', '4.0 and up'])"
   ]
  },
  {
   "cell_type": "code",
   "execution_count": 12,
   "metadata": {},
   "outputs": [
    {
     "data": {
      "text/plain": [
       "['Life Made WI-Fi Touchscreen Photo Frame',\n",
       " '1.9',\n",
       " '19',\n",
       " '3.0M',\n",
       " '1,000+',\n",
       " 'Free',\n",
       " '0',\n",
       " 'Everyone',\n",
       " '',\n",
       " 'February 11, 2018',\n",
       " '1.0.19',\n",
       " '4.0 and up']"
      ]
     },
     "execution_count": 12,
     "metadata": {},
     "output_type": "execute_result"
    }
   ],
   "source": [
    "android[10472]"
   ]
  },
  {
   "cell_type": "code",
   "execution_count": 13,
   "metadata": {},
   "outputs": [
    {
     "data": {
      "text/plain": [
       "True"
      ]
     },
     "execution_count": 13,
     "metadata": {},
     "output_type": "execute_result"
    }
   ],
   "source": [
    "\"LIFESTYLE\" in lst"
   ]
  },
  {
   "cell_type": "code",
   "execution_count": 14,
   "metadata": {},
   "outputs": [
    {
     "data": {
      "text/plain": [
       "['Life Made WI-Fi Touchscreen Photo Frame',\n",
       " 'LIFESTYLE',\n",
       " '1.9',\n",
       " '19',\n",
       " '3.0M',\n",
       " '1,000+',\n",
       " 'Free',\n",
       " '0',\n",
       " 'Everyone',\n",
       " '',\n",
       " 'February 11, 2018',\n",
       " '1.0.19',\n",
       " '4.0 and up']"
      ]
     },
     "execution_count": 14,
     "metadata": {},
     "output_type": "execute_result"
    }
   ],
   "source": [
    "android[10472].insert(1,\"LIFESTYLE\")\n",
    "android[10472]"
   ]
  },
  {
   "cell_type": "code",
   "execution_count": 15,
   "metadata": {},
   "outputs": [
    {
     "data": {
      "text/plain": [
       "['Art & Design',\n",
       " 'Art & Design;Pretend Play',\n",
       " 'Art & Design;Creativity',\n",
       " 'Art & Design;Action & Adventure',\n",
       " 'Auto & Vehicles',\n",
       " 'Beauty',\n",
       " 'Books & Reference',\n",
       " 'Business',\n",
       " 'Comics',\n",
       " 'Comics;Creativity',\n",
       " 'Communication',\n",
       " 'Dating',\n",
       " 'Education;Education',\n",
       " 'Education',\n",
       " 'Education;Creativity',\n",
       " 'Education;Music & Video',\n",
       " 'Education;Action & Adventure',\n",
       " 'Education;Pretend Play',\n",
       " 'Education;Brain Games',\n",
       " 'Entertainment',\n",
       " 'Entertainment;Music & Video',\n",
       " 'Entertainment;Brain Games',\n",
       " 'Entertainment;Creativity',\n",
       " 'Events',\n",
       " 'Finance',\n",
       " 'Food & Drink',\n",
       " 'Health & Fitness',\n",
       " 'House & Home',\n",
       " 'Libraries & Demo',\n",
       " 'Lifestyle',\n",
       " 'Lifestyle;Pretend Play',\n",
       " 'Adventure;Action & Adventure',\n",
       " 'Arcade',\n",
       " 'Casual',\n",
       " 'Card',\n",
       " 'Casual;Pretend Play',\n",
       " 'Action',\n",
       " 'Strategy',\n",
       " 'Puzzle',\n",
       " 'Sports',\n",
       " 'Music',\n",
       " 'Word',\n",
       " 'Racing',\n",
       " 'Casual;Creativity',\n",
       " 'Casual;Action & Adventure',\n",
       " 'Simulation',\n",
       " 'Adventure',\n",
       " 'Board',\n",
       " 'Trivia',\n",
       " 'Role Playing',\n",
       " 'Simulation;Education',\n",
       " 'Action;Action & Adventure',\n",
       " 'Casual;Brain Games',\n",
       " 'Simulation;Action & Adventure',\n",
       " 'Educational;Creativity',\n",
       " 'Puzzle;Brain Games',\n",
       " 'Educational;Education',\n",
       " 'Card;Brain Games',\n",
       " 'Educational;Brain Games',\n",
       " 'Educational;Pretend Play',\n",
       " 'Entertainment;Education',\n",
       " 'Casual;Education',\n",
       " 'Music;Music & Video',\n",
       " 'Racing;Action & Adventure',\n",
       " 'Arcade;Pretend Play',\n",
       " 'Role Playing;Action & Adventure',\n",
       " 'Simulation;Pretend Play',\n",
       " 'Puzzle;Creativity',\n",
       " 'Sports;Action & Adventure',\n",
       " 'Educational;Action & Adventure',\n",
       " 'Arcade;Action & Adventure',\n",
       " 'Entertainment;Action & Adventure',\n",
       " 'Puzzle;Action & Adventure',\n",
       " 'Strategy;Action & Adventure',\n",
       " 'Music & Audio;Music & Video',\n",
       " 'Health & Fitness;Education',\n",
       " 'Adventure;Education',\n",
       " 'Board;Brain Games',\n",
       " 'Board;Action & Adventure',\n",
       " 'Board;Pretend Play',\n",
       " 'Casual;Music & Video',\n",
       " 'Role Playing;Pretend Play',\n",
       " 'Entertainment;Pretend Play',\n",
       " 'Video Players & Editors;Creativity',\n",
       " 'Card;Action & Adventure',\n",
       " 'Medical',\n",
       " 'Social',\n",
       " 'Shopping',\n",
       " 'Photography',\n",
       " 'Travel & Local',\n",
       " 'Travel & Local;Action & Adventure',\n",
       " 'Tools',\n",
       " 'Tools;Education',\n",
       " 'Personalization',\n",
       " 'Productivity',\n",
       " 'Parenting',\n",
       " 'Parenting;Music & Video',\n",
       " 'Parenting;Education',\n",
       " 'Parenting;Brain Games',\n",
       " 'Weather',\n",
       " 'Video Players & Editors',\n",
       " 'Video Players & Editors;Music & Video',\n",
       " 'News & Magazines',\n",
       " 'Maps & Navigation',\n",
       " 'Health & Fitness;Action & Adventure',\n",
       " 'Educational',\n",
       " 'Casino',\n",
       " 'Adventure;Brain Games',\n",
       " 'Trivia;Education',\n",
       " 'Lifestyle;Education',\n",
       " 'Books & Reference;Creativity',\n",
       " 'Books & Reference;Education',\n",
       " 'Puzzle;Education',\n",
       " 'Role Playing;Education',\n",
       " 'Role Playing;Brain Games',\n",
       " 'Strategy;Education',\n",
       " 'Racing;Pretend Play',\n",
       " 'Communication;Creativity',\n",
       " '',\n",
       " 'Strategy;Creativity']"
      ]
     },
     "execution_count": 15,
     "metadata": {},
     "output_type": "execute_result"
    }
   ],
   "source": [
    "categories = []\n",
    "\n",
    "for i in android:\n",
    "    if i[-4] not in categories:\n",
    "        categories.append(i[-4])\n",
    "        \n",
    "categories"
   ]
  },
  {
   "cell_type": "code",
   "execution_count": 16,
   "metadata": {},
   "outputs": [
    {
     "name": "stdout",
     "output_type": "stream",
     "text": [
      "['Life Made WI-Fi Touchscreen Photo Frame', 'LIFESTYLE', '1.9', '19', '3.0M', '1,000+', 'Free', '0', 'Everyone', '', 'February 11, 2018', '1.0.19', '4.0 and up']\n"
     ]
    }
   ],
   "source": [
    "for i in android:\n",
    "    if i[-4] == '':\n",
    "        print(i)"
   ]
  },
  {
   "cell_type": "code",
   "execution_count": 17,
   "metadata": {},
   "outputs": [
    {
     "data": {
      "text/plain": [
       "10472"
      ]
     },
     "execution_count": 17,
     "metadata": {},
     "output_type": "execute_result"
    }
   ],
   "source": [
    "android.index(['Life Made WI-Fi Touchscreen Photo Frame', 'LIFESTYLE', '1.9', '19', '3.0M', '1,000+', 'Free', '0', 'Everyone', '', 'February 11, 2018', '1.0.19', '4.0 and up'])"
   ]
  },
  {
   "cell_type": "code",
   "execution_count": 18,
   "metadata": {
    "scrolled": true
   },
   "outputs": [
    {
     "name": "stdout",
     "output_type": "stream",
     "text": [
      "Lifestyle\n",
      "Lifestyle;Pretend Play\n",
      "Lifestyle;Education\n"
     ]
    }
   ],
   "source": [
    "for i in categories:\n",
    "    if \"Lifestyle\" in i:\n",
    "        print(i)"
   ]
  },
  {
   "cell_type": "code",
   "execution_count": 19,
   "metadata": {},
   "outputs": [
    {
     "name": "stdout",
     "output_type": "stream",
     "text": [
      "['Dollhouse Decorating Games', 'LIFESTYLE', '4.1', '18968', '32M', '5,000,000+', 'Free', '0', 'Teen', 'Lifestyle', 'April 26, 2018', '5.1', '4.1 and up']\n",
      "['metroZONE', 'LIFESTYLE', '4.1', '47497', '34M', '10,000,000+', 'Free', '0', 'Everyone', 'Lifestyle', 'June 8, 2018', '5.3.0.54.7', '5.0 and up']\n",
      "['Easy Hair Style Design', 'LIFESTYLE', '4.3', '601', '5.1M', '100,000+', 'Free', '0', 'Everyone', 'Lifestyle', 'December 20, 2017', '1.0', '2.3 and up']\n",
      "['Black Wallpaper, AMOLED, Dark Background: Darkify', 'LIFESTYLE', '4.6', '51357', '80M', '5,000,000+', 'Free', '0', 'Everyone', 'Lifestyle', 'July 31, 2018', '8.0', '4.0 and up']\n",
      "['Girly Wallpapers Backgrounds', 'LIFESTYLE', '4.4', '13565', '3.3M', '1,000,000+', 'Free', '0', 'Everyone', 'Lifestyle', 'August 5, 2018', '2.5', '4.0 and up']\n",
      "['Chart - Myanmar Keyboard', 'LIFESTYLE', '4.4', '39364', '28M', '5,000,000+', 'Free', '0', 'Everyone', 'Lifestyle', 'July 17, 2018', '10.19', '4.0.3 and up']\n",
      "['Easy Makeup Tutorials', 'LIFESTYLE', '4.3', '7287', '5.0M', '1,000,000+', 'Free', '0', 'Everyone', 'Lifestyle', 'November 3, 2016', '1.0', '2.3 and up']\n",
      "['Horoscopes – Daily Zodiac Horoscope and Astrology', 'LIFESTYLE', '4.6', '161143', '11M', '10,000,000+', 'Free', '0', 'Everyone 10+', 'Lifestyle', 'June 25, 2018', '5.2.4(881)', '4.0.3 and up']\n",
      "['Entel', 'LIFESTYLE', '3.2', '16168', '55M', '1,000,000+', 'Free', '0', 'Everyone', 'Lifestyle', 'July 26, 2018', '2.2.9', '4.0.3 and up']\n",
      "['ZenUI Safeguard', 'LIFESTYLE', '4.5', '100', '7.1M', '1,000,000+', 'Free', '0', 'Everyone', 'Lifestyle', 'May 9, 2018', '1.0.0.21_180410', '7.0 - 7.1.1']\n",
      "['Live 4D Results ! (MY & SG)', 'LIFESTYLE', '4.6', '116079', '3.2M', '5,000,000+', 'Free', '0', 'Everyone', 'Lifestyle', 'May 20, 2018', '5.8', '2.3 and up']\n",
      "['Diary with lock', 'LIFESTYLE', '4.6', '815893', '4.4M', '10,000,000+', 'Free', '0', 'Everyone', 'Lifestyle', 'June 30, 2018', '4.90', '4.1 and up']\n",
      "['FOSSIL Q: DESIGN YOUR DIAL', 'LIFESTYLE', '4.3', '985', '16M', '500,000+', 'Free', '0', 'Everyone', 'Lifestyle', 'May 31, 2018', '3.7', '7.0 and up']\n",
      "['Telstra', 'LIFESTYLE', '3.0', '4260', '6.3M', '5,000,000+', 'Free', '0', 'Everyone', 'Lifestyle', 'August 8, 2017', '6.1', '2.3.3 and up']\n",
      "['Family Locator - GPS Tracker', 'LIFESTYLE', '4.4', '726074', '45M', '10,000,000+', 'Free', '0', 'Everyone', 'Lifestyle', 'August 2, 2018', '16.7.1', '4.4 and up']\n",
      "['Van Nien 2018 - Lich Van su & Lich Am', 'LIFESTYLE', '4.4', '3829', '23M', '1,000,000+', 'Free', '0', 'Everyone', 'Lifestyle', 'June 1, 2018', '3.9.3', '4.1 and up']\n",
      "['Safeway', 'LIFESTYLE', '4.3', '33572', '37M', '1,000,000+', 'Free', '0', 'Everyone', 'Lifestyle', 'August 2, 2018', '6.2.0', '4.4 and up']\n",
      "['HTC Speak', 'LIFESTYLE', '3.5', '6145', '13M', '10,000,000+', 'Free', '0', 'Everyone', 'Lifestyle', 'June 30, 2016', '8.00.775375', '5.0 and up']\n",
      "['Kawaii Easy Drawing : How to draw Step by Step', 'LIFESTYLE', '4.3', '34327', '8.1M', '5,000,000+', 'Free', '0', 'Everyone', 'Lifestyle', 'July 17, 2018', '2.5.1', '4.0 and up']\n",
      "['Tattoodo - Find your next tattoo', 'LIFESTYLE', '4.5', '7457', '13M', '1,000,000+', 'Free', '0', 'Teen', 'Lifestyle', 'August 3, 2018', '2.4.12-r244', '4.1 and up']\n",
      "['H&M', 'LIFESTYLE', '3.7', '41941', '14M', '10,000,000+', 'Free', '0', 'Everyone', 'Lifestyle', 'July 30, 2018', '9.6.3', '4.4 and up']\n",
      "['Samsung+', 'LIFESTYLE', '4.5', '82145', '30M', '50,000,000+', 'Free', '0', 'Everyone', 'Lifestyle', 'July 5, 2018', '10.19.0.0', '4.4 and up']\n",
      "['Anime Avatar Creator: Make Your Own Avatar', 'LIFESTYLE', '4.2', '10944', '36M', '1,000,000+', 'Free', '0', 'Everyone', 'Lifestyle', 'June 15, 2018', '2.0', '4.1 and up']\n",
      "['Beautiful Design Birthday Cake', 'LIFESTYLE', '4.3', '665', '3.0M', '500,000+', 'Free', '0', 'Everyone', 'Lifestyle', 'August 4, 2018', '2.0', '2.3 and up']\n",
      "['Pronunciation and know the name of the caller from his number', 'LIFESTYLE', '4.6', '2167', '1.4M', '500,000+', 'Free', '0', 'Everyone', 'Lifestyle', 'January 7, 2018', '1.0', '2.3 and up']\n",
      "['Super Slime Simulator - Satisfying Slime App', 'LIFESTYLE', '4.5', '53652', '39M', '1,000,000+', 'Free', '0', 'Everyone', 'Lifestyle', 'August 5, 2018', '2.15', '5.0 and up']\n",
      "['Caf - My Account', 'LIFESTYLE', '3.9', '18961', '1.8M', '5,000,000+', 'Free', '0', 'Everyone', 'Lifestyle', 'September 24, 2015', '1.1.1', '2.3 and up']\n",
      "['H Pack', 'LIFESTYLE', '4.3', '9412', '1.7M', '1,000,000+', 'Free', '0', 'Everyone', 'Lifestyle', 'December 17, 2016', '1.5.1', '4.0.3 and up']\n",
      "['Family convenience store FamilyMart', 'LIFESTYLE', '3.3', '9663', '19M', '1,000,000+', 'Free', '0', 'Everyone', 'Lifestyle', 'July 16, 2018', 'Version:6.97', '4.4 and up']\n",
      "['သိင်္ Astrology - Min Thein Kha BayDin', 'LIFESTYLE', '4.7', '2225', '15M', '100,000+', 'Free', '0', 'Everyone', 'Lifestyle', 'July 26, 2018', '4.2.1', '4.0.3 and up']\n",
      "['w UN map', 'LIFESTYLE', '4.2', '23164', '10.0M', '1,000,000+', 'Free', '0', 'Mature 17+', 'Lifestyle', 'July 24, 2018', '2.6', '5.0 and up']\n",
      "['Official Matsumoto Kiyoshi application', 'LIFESTYLE', '3.2', '3031', '2.7M', '1,000,000+', 'Free', '0', 'Everyone', 'Lifestyle', 'July 3, 2018', '1.5.3', '4.0 and up']\n",
      "['Galaxy Gift', 'LIFESTYLE', '4.4', '95557', '16M', '10,000,000+', 'Free', '0', 'Everyone', 'Lifestyle', 'July 23, 2018', '7.0.8', '4.0.3 and up']\n",
      "['PASS by KT (formerly KT certified)', 'LIFESTYLE', '3.5', '7869', '21M', '1,000,000+', 'Free', '0', 'Everyone', 'Lifestyle', 'August 1, 2018', '02.00.06', '4.4 and up']\n",
      "['Safety stepping stone', 'LIFESTYLE', '3.7', '4212', '20M', '1,000,000+', 'Free', '0', 'Everyone', 'Lifestyle', 'July 25, 2018', '3.4.5', '2.3 and up']\n",
      "['Rate Guide Bill Letter', 'LIFESTYLE', '3.8', '17368', '14M', '10,000,000+', 'Free', '0', 'Everyone', 'Lifestyle', 'June 27, 2018', '5.1.3', '4.0 and up']\n",
      "['US Mission - buy gourmet movie KTV', 'LIFESTYLE', '3.8', '6554', '76M', '500,000+', 'Free', '0', 'Teen', 'Lifestyle', 'June 20, 2018', '9.4.2', '4.1 and up']\n",
      "['OK cashbag [point of pleasure]', 'LIFESTYLE', '3.7', '33264', '18M', '10,000,000+', 'Free', '0', 'Everyone', 'Lifestyle', 'June 15, 2018', '6.2.1', '4.0 and up']\n",
      "['JOANN - Crafts & Coupons', 'LIFESTYLE', '4.6', '34782', '12M', '1,000,000+', 'Free', '0', 'Everyone', 'Lifestyle', 'June 22, 2018', '5.2.2', '4.3 and up']\n",
      "['MK eCatalog', 'LIFESTYLE', '4.0', '6676', '6.2M', '1,000,000+', 'Free', '0', 'Everyone', 'Lifestyle', 'February 21, 2018', '3.0', '4.2 and up']\n",
      "['Vaniday - Beauty Booking App', 'LIFESTYLE', '3.6', '1067', 'Varies with device', '100,000+', 'Free', '0', 'Everyone', 'Lifestyle', 'March 20, 2018', '3.8.15', '4.1 and up']\n",
      "['Fashion in Vogue', 'LIFESTYLE', '3.8', '1797', '6.8M', '100,000+', 'Free', '0', 'Everyone', 'Lifestyle', 'September 27, 2016', '2.0', '4.3 and up']\n",
      "['Mirror', 'LIFESTYLE', '4.1', '367505', 'Varies with device', '10,000,000+', 'Free', '0', 'Everyone', 'Lifestyle', 'July 25, 2018', 'Varies with device', 'Varies with device']\n",
      "['StyleSeat', 'LIFESTYLE', '4.7', '20304', '24M', '500,000+', 'Free', '0', 'Everyone', 'Lifestyle', 'July 31, 2018', '4.35', '4.0.3 and up']\n",
      "['Wedding Countdown Widget', 'LIFESTYLE', '3.9', '7376', '19M', '1,000,000+', 'Free', '0', 'Everyone', 'Lifestyle', 'January 11, 2018', '5.2.2018010801-1', '4.1 and up']\n",
      "['My Day - Countdown Calendar 🗓️', 'LIFESTYLE', '4.1', '49147', '13M', '1,000,000+', 'Free', '0', 'Everyone', 'Lifestyle', 'May 7, 2018', '2.9.5', '4.1 and up']\n",
      "['justWink Greeting Cards', 'LIFESTYLE', '4.6', '69177', '15M', '1,000,000+', 'Free', '0', 'Teen', 'Lifestyle', 'August 2, 2017', '2.7.3', '4.4 and up']\n",
      "['Wedding LookBook by The Knot', 'LIFESTYLE', '4.2', '3448', '13M', '100,000+', 'Free', '0', 'Everyone', 'Lifestyle', 'July 9, 2018', '3.9.5', '4.0.3 and up']\n",
      "['Vaniday - Beauty Booking App', 'LIFESTYLE', '3.6', '1067', 'Varies with device', '100,000+', 'Free', '0', 'Everyone', 'Lifestyle', 'March 20, 2018', '3.8.15', '4.1 and up']\n",
      "['Big Days - Events Countdown', 'LIFESTYLE', '4.6', '39724', 'Varies with device', '1,000,000+', 'Free', '0', 'Everyone', 'Lifestyle', 'June 29, 2018', 'Varies with device', 'Varies with device']\n",
      "['Wedding Planner by WeddingWire - Venues, Checklist', 'LIFESTYLE', '4.2', '3788', '44M', '1,000,000+', 'Free', '0', 'Everyone', 'Lifestyle', 'July 24, 2018', '8.5.1', '5.0 and up']\n",
      "['Been Together (Ad) - D-day', 'LIFESTYLE', '4.4', '95736', 'Varies with device', '10,000,000+', 'Free', '0', 'Everyone', 'Lifestyle', 'July 30, 2018', 'Varies with device', 'Varies with device']\n",
      "['WedMeGood - Wedding Planner', 'LIFESTYLE', '4.6', '1658', '9.7M', '100,000+', 'Free', '0', 'Everyone', 'Lifestyle', 'July 31, 2018', '2.0.9', '4.4 and up']\n",
      "['StyleSeat', 'LIFESTYLE', '4.7', '20304', '24M', '500,000+', 'Free', '0', 'Everyone', 'Lifestyle', 'July 31, 2018', '4.35', '4.0.3 and up']\n",
      "['DIY Garden Ideas', 'LIFESTYLE', '4.1', '3309', '13M', '500,000+', 'Free', '0', 'Everyone', 'Lifestyle', 'August 5, 2018', '10.0', '4.0 and up']\n",
      "['Brit + Co', 'LIFESTYLE', '3.9', '987', '4.5M', '10,000+', 'Free', '0', 'Everyone', 'Lifestyle', 'August 29, 2017', '2.0.4', '4.0 and up']\n",
      "['Creative Ideas - DIY & Craft', 'LIFESTYLE', '4.0', '5208', '4.5M', '100,000+', 'Free', '0', 'Teen', 'Lifestyle', 'November 23, 2017', '1.37', '4.0 and up']\n",
      "['Homestyler Interior Design & Decorating Ideas', 'LIFESTYLE', '4.1', '78298', '29M', '5,000,000+', 'Free', '0', 'Everyone', 'Lifestyle', 'August 2, 2018', '3.1.2.1', '4.1 and up']\n",
      "['JOANN - Crafts & Coupons', 'LIFESTYLE', '4.6', '34802', '12M', '1,000,000+', 'Free', '0', 'Everyone', 'Lifestyle', 'June 22, 2018', '5.2.2', '4.3 and up']\n",
      "['Wheretoget: Shop in style', 'LIFESTYLE', '4.1', '6808', '12M', '500,000+', 'Free', '0', 'Teen', 'Lifestyle', 'June 5, 2017', '3.2.0', '4.1 and up']\n",
      "['My Dressing - Fashion closet', 'LIFESTYLE', '4.1', '12452', 'Varies with device', '500,000+', 'Free', '0', 'Everyone', 'Lifestyle', 'January 26, 2017', 'Varies with device', 'Varies with device']\n",
      "['Chictopia', 'LIFESTYLE', '4.1', '360', '4.6M', '10,000+', 'Free', '0', 'Everyone', 'Lifestyle', 'April 30, 2014', '1.6.2', '2.2 and up']\n",
      "['Scarf Fashion Designer', 'LIFESTYLE', '4.4', '16637', '10M', '1,000,000+', 'Free', '0', 'Everyone', 'Lifestyle', 'June 18, 2017', '1.8', '2.3 and up']\n",
      "['Fashion in Vogue', 'LIFESTYLE', '3.8', '1797', '6.8M', '100,000+', 'Free', '0', 'Everyone', 'Lifestyle', 'September 27, 2016', '2.0', '4.3 and up']\n",
      "['Zara', 'LIFESTYLE', '4.3', '95904', '33M', '10,000,000+', 'Free', '0', 'Everyone', 'Lifestyle', 'July 30, 2018', '4.1.0', '4.1 and up']\n",
      "['Wheretoget: Shop in style', 'LIFESTYLE', '4.1', '6808', '12M', '500,000+', 'Free', '0', 'Teen', 'Lifestyle', 'June 5, 2017', '3.2.0', '4.1 and up']\n",
      "['My Dressing - Fashion closet', 'LIFESTYLE', '4.1', '12452', 'Varies with device', '500,000+', 'Free', '0', 'Everyone', 'Lifestyle', 'January 26, 2017', 'Varies with device', 'Varies with device']\n",
      "['Chictopia', 'LIFESTYLE', '4.1', '360', '4.6M', '10,000+', 'Free', '0', 'Everyone', 'Lifestyle', 'April 30, 2014', '1.6.2', '2.2 and up']\n",
      "['Scarf Fashion Designer', 'LIFESTYLE', '4.4', '16637', '10M', '1,000,000+', 'Free', '0', 'Everyone', 'Lifestyle', 'June 18, 2017', '1.8', '2.3 and up']\n",
      "['Fashion in Vogue', 'LIFESTYLE', '3.8', '1797', '6.8M', '100,000+', 'Free', '0', 'Everyone', 'Lifestyle', 'September 27, 2016', '2.0', '4.3 and up']\n",
      "['Zara', 'LIFESTYLE', '4.3', '95905', '33M', '10,000,000+', 'Free', '0', 'Everyone', 'Lifestyle', 'July 30, 2018', '4.1.0', '4.1 and up']\n",
      "['Real Estate by Movoto', 'LIFESTYLE', '4.4', '3114', '13M', '100,000+', 'Free', '0', 'Everyone', 'Lifestyle', 'February 20, 2018', '6.1', '4.0.3 and up']\n",
      "['Etta Homes', 'LIFESTYLE', '4.2', '220', '15M', '50,000+', 'Free', '0', 'Everyone', 'Lifestyle', 'July 26, 2018', '9.1.0', '5.0 and up']\n",
      "['Houlihan Lawrence', 'LIFESTYLE', '4.4', '33', '23M', '5,000+', 'Free', '0', 'Everyone', 'Lifestyle', 'October 12, 2017', '3.9.5', '4.2 and up']\n",
      "['Home Scouting® MLS Mobile', 'LIFESTYLE', '4.3', '1533', '7.7M', '100,000+', 'Free', '0', 'Everyone', 'Lifestyle', 'September 27, 2016', '2.2.6', '2.2 and up']\n",
      "['Housing-Real Estate & Property', 'LIFESTYLE', '4.1', '28301', 'Varies with device', '1,000,000+', 'Free', '0', 'Everyone', 'Lifestyle', 'July 13, 2018', '12.1.0', '4.1 and up']\n",
      "['ZipRealty Real Estate & Homes', 'LIFESTYLE', '4.0', '3937', '15M', '100,000+', 'Free', '0', 'Everyone', 'Lifestyle', 'July 27, 2018', '8.3.3', '4.4 and up']\n",
      "[\"Sotheby's International Realty\", 'LIFESTYLE', '4.2', '894', '25M', '50,000+', 'Free', '0', 'Everyone', 'Lifestyle', 'April 9, 2018', '5.600.42', '4.0.3 and up']\n",
      "['Zoopla Property Search UK - Home to buy & rent', 'LIFESTYLE', '4.1', '21195', 'Varies with device', '1,000,000+', 'Free', '0', 'Everyone', 'Lifestyle', 'June 22, 2018', 'Varies with device', 'Varies with device']\n",
      "['Neighborhoods & Apartments', 'LIFESTYLE', '3.9', '2042', '3.0M', '100,000+', 'Free', '0', 'Everyone', 'Lifestyle', 'August 28, 2015', '3.1.6', '4.0 and up']\n",
      "['Keller Williams Real Estate', 'LIFESTYLE', '4.4', '13213', '22M', '1,000,000+', 'Free', '0', 'Everyone', 'Lifestyle', 'March 28, 2018', '5.800.04', '4.0.3 and up']\n",
      "['Relax Rain ~ Rain Sounds', 'LIFESTYLE', '4.6', '118034', 'Varies with device', '5,000,000+', 'Free', '0', 'Everyone', 'Lifestyle', 'August 2, 2018', 'Varies with device', 'Varies with device']\n",
      "['Relax Ocean ~ Nature Sounds', 'LIFESTYLE', '4.5', '9464', 'Varies with device', '500,000+', 'Free', '0', 'Everyone', 'Lifestyle', 'July 18, 2017', 'Varies with device', 'Varies with device']\n",
      "['Bed Time Fan - White Noise Sleep Sounds', 'LIFESTYLE', '4.5', '10097', '7.5M', '500,000+', 'Free', '0', 'Everyone', 'Lifestyle', 'April 26, 2018', '1.2', '4.0 and up']\n",
      "['Nature Sounds', 'LIFESTYLE', '4.8', '28588', '24M', '1,000,000+', 'Free', '0', 'Everyone', 'Lifestyle', 'March 1, 2018', '3.1.8', '4.0.3 and up']\n",
      "['SleepyTime: Bedtime Calculator', 'LIFESTYLE', '4.4', '19621', 'Varies with device', '500,000+', 'Free', '0', 'Everyone', 'Lifestyle', 'February 27, 2016', 'Varies with device', 'Varies with device']\n",
      "['White Noise Baby', 'LIFESTYLE', '4.5', '10544', '44M', '1,000,000+', 'Free', '0', 'Everyone', 'Lifestyle', 'June 18, 2018', '5.3', '4.1 and up']\n",
      "['White Noise ~ Sleeping Sounds', 'LIFESTYLE', '4.5', '4427', 'Varies with device', '100,000+', 'Free', '0', 'Everyone', 'Lifestyle', 'June 23, 2017', 'Varies with device', 'Varies with device']\n",
      "['Journey - Diary, Journal', 'LIFESTYLE', '4.6', '50338', 'Varies with device', '1,000,000+', 'Free', '0', 'Everyone', 'Lifestyle', 'July 23, 2018', 'Varies with device', 'Varies with device']\n",
      "['7 Day Food Journal Challenge', 'LIFESTYLE', '4.5', '3346', '14M', '100,000+', 'Free', '0', 'Teen', 'Lifestyle', 'March 8, 2017', '3.6.3', '4.0.3 and up']\n",
      "['B-Dubs®', 'LIFESTYLE', '3.1', '3042', 'Varies with device', '500,000+', 'Free', '0', 'Everyone', 'Lifestyle', 'July 5, 2018', 'Varies with device', 'Varies with device']\n",
      "['Diary with lock', 'LIFESTYLE', '4.6', '815280', '4.4M', '10,000,000+', 'Free', '0', 'Everyone', 'Lifestyle', 'June 30, 2018', '4.90', '4.1 and up']\n",
      "['C by GE', 'LIFESTYLE', '1.7', '686', '6.6M', '10,000+', 'Free', '0', 'Everyone', 'Lifestyle', 'July 11, 2018', '4.1.07', '4.3 and up']\n",
      "['CPlus for Craigslist - Officially Licensed', 'LIFESTYLE', '4.5', '8096', '16M', '1,000,000+', 'Free', '0', 'Mature 17+', 'Lifestyle', 'August 3, 2018', '1.6.4', '4.1 and up']\n",
      "['Community by C Space', 'LIFESTYLE', '4.7', '707', '26M', '5,000+', 'Free', '0', 'Everyone', 'Lifestyle', 'July 17, 2018', '2.2.0', '4.4 and up']\n",
      "['Moto LED for Moto X & E [Root]', 'LIFESTYLE', '3.4', '4082', '318k', '500,000+', 'Free', '0', 'Everyone', 'Lifestyle', 'October 16, 2014', '1.0', '4.2 and up']\n",
      "[\"f'east\", 'LIFESTYLE', '3.8', '38', '4.8M', '5,000+', 'Free', '0', 'Everyone', 'Lifestyle', 'April 17, 2018', '2.6.3', '4.0 and up']\n",
      "['G-SHOCK+', 'LIFESTYLE', '3.0', '4710', 'Varies with device', '100,000+', 'Free', '0', 'Everyone', 'Lifestyle', 'November 1, 2017', 'Varies with device', 'Varies with device']\n",
      "['G-SHOCK Connected', 'LIFESTYLE', '3.0', '543', '94M', '50,000+', 'Free', '0', 'Everyone', 'Lifestyle', 'July 2, 2018', '1.4.1(0629A)', '5.0 and up']\n",
      "['G-Homa', 'LIFESTYLE', '3.1', '777', '14M', '50,000+', 'Free', '0', 'Everyone', 'Lifestyle', 'May 4, 2018', '3.0.20', '4.0 and up']\n",
      "['A41 WatchFace for Android Wear Smart Watch', 'LIFESTYLE', '4.5', '231', '5.7M', '5,000+', 'Paid', '$0.99', 'Everyone', 'Lifestyle', 'December 24, 2017', '7.0.1', '4.3 and up']\n",
      "['H&M', 'LIFESTYLE', '3.7', '41917', '14M', '10,000,000+', 'Free', '0', 'Everyone', 'Lifestyle', 'July 30, 2018', '9.6.3', '4.4 and up']\n",
      "['H*nest Meditation', 'LIFESTYLE', '4.9', '145', '48M', '5,000+', 'Paid', '$1.99', 'Mature 17+', 'Lifestyle', 'April 7, 2016', '1.0', '4.0.3 and up']\n",
      "['Niche: College, K-12, and Neighborhood Search', 'LIFESTYLE', '4.0', '42', '26M', '5,000+', 'Free', '0', 'Everyone', 'Lifestyle', 'July 6, 2018', '1.0.1', '4.4 and up']\n",
      "['L.POINT - 엘포인트 [ 포인트, 멤버십, 적립, 사용, 모바일 카드, 쿠폰, 롯데]', 'LIFESTYLE', '4.0', '45224', '49M', '5,000,000+', 'Free', '0', 'Everyone', 'Lifestyle', 'August 1, 2018', '6.5.1', '4.1 and up']\n",
      "[\"💎 I'm rich\", 'LIFESTYLE', '3.8', '718', '26M', '10,000+', 'Paid', '$399.99', 'Everyone', 'Lifestyle', 'March 11, 2018', '1.0.0', '4.4 and up']\n",
      "[\"I'm Rich - Trump Edition\", 'LIFESTYLE', '3.6', '275', '7.3M', '10,000+', 'Paid', '$400.00', 'Everyone', 'Lifestyle', 'May 3, 2018', '1.0.1', '4.1 and up']\n",
      "[\"Cook'n Recipe App\", 'LIFESTYLE', '3.4', '552', '22M', '10,000+', 'Free', '0', 'Everyone', 'Lifestyle', 'August 2, 2018', '3.0.4', '4.4 and up']\n",
      "[\"Eat'n Park\", 'LIFESTYLE', '3.5', '292', '20M', '50,000+', 'Free', '0', 'Everyone', 'Lifestyle', 'December 18, 2017', '3.1.3', '4.0 and up']\n",
      "[\"Band O'Clock\", 'LIFESTYLE', '3.8', '1140', '746k', '100,000+', 'Free', '0', 'Everyone', 'Lifestyle', 'December 3, 2011', '0.11', '2.1 and up']\n",
      "['Fossil Q', 'LIFESTYLE', '2.9', '6627', '18M', '500,000+', 'Free', '0', 'Everyone', 'Lifestyle', 'August 1, 2018', '2.5.1', '4.4 and up']\n",
      "['Fossil Q Legacy', 'LIFESTYLE', '2.6', '680', '60M', '50,000+', 'Free', '0', 'Everyone', 'Lifestyle', 'September 19, 2017', '1.0.1', '4.4 and up']\n",
      "['Type S LED', 'LIFESTYLE', '3.5', '628', 'Varies with device', '100,000+', 'Free', '0', 'Everyone', 'Lifestyle', 'August 14, 2017', 'Varies with device', '4.3 and up']\n",
      "['Tinder', 'LIFESTYLE', '4.0', '2789775', '68M', '100,000,000+', 'Free', '0', 'Mature 17+', 'Lifestyle', 'August 2, 2018', '9.5.0', '4.4 and up']\n",
      "['AT&T Digital Life', 'LIFESTYLE', '4.1', '10067', 'Varies with device', '1,000,000+', 'Free', '0', 'Everyone', 'Lifestyle', 'December 7, 2017', 'Varies with device', '4.3 and up']\n",
      "['AT&T Smart Limits℠', 'LIFESTYLE', '3.8', '2300', 'Varies with device', '10,000,000+', 'Free', '0', 'Everyone', 'Lifestyle', 'March 7, 2017', 'Varies with device', 'Varies with device']\n",
      "['T-Mobile Tuesdays', 'LIFESTYLE', '4.0', '53144', '21M', '5,000,000+', 'Free', '0', 'Everyone', 'Lifestyle', 'July 13, 2018', '4.8.0', '5.0 and up']\n",
      "['T-shirt design - Snaptee', 'LIFESTYLE', '4.2', '29756', '45M', '1,000,000+', 'Free', '0', 'Everyone', 'Lifestyle', 'July 19, 2018', '1.1.6.1', '4.1 and up']\n",
      "['Kicker U', 'LIFESTYLE', '4.1', '124', '37M', '5,000+', 'Paid', '$3.99', 'Everyone', 'Lifestyle', 'June 13, 2018', '3.04', '4.0.3 and up']\n",
      "['Kicker U Lite', 'LIFESTYLE', '4.1', '438', '26M', '50,000+', 'Free', '0', 'Everyone', 'Lifestyle', 'September 27, 2013', '2.0.0', '2.1 and up']\n",
      "['Alarmy (Sleep If U Can) - Pro', 'LIFESTYLE', '4.8', '10249', 'Varies with device', '10,000+', 'Paid', '$2.49', 'Everyone', 'Lifestyle', 'July 30, 2018', 'Varies with device', 'Varies with device']\n",
      "['Be U Salons Hair-Beauty Deals In Delhi & Bangalore', 'LIFESTYLE', '4.0', '889', '16M', '100,000+', 'Free', '0', 'Everyone', 'Lifestyle', 'August 2, 2018', '1.1.4.38', '4.2 and up']\n",
      "['WowBox', 'LIFESTYLE', '4.4', '101957', '8.2M', '5,000,000+', 'Free', '0', 'Everyone', 'Lifestyle', 'April 23, 2018', '2.11.0', '4.0.3 and up']\n",
      "['PLAYBULB X', 'LIFESTYLE', '2.9', '2160', '15M', '100,000+', 'Free', '0', 'Everyone', 'Lifestyle', 'June 25, 2018', '1.6.5', '4.3 and up']\n",
      "['Z App', 'LIFESTYLE', '2.8', '405', '25M', '50,000+', 'Free', '0', 'Everyone', 'Lifestyle', 'June 22, 2018', '4.2.45', '4.4 and up']\n",
      "['Best Blood Type AB: Food Diet & Personality', 'LIFESTYLE', 'NaN', '3', '37M', '1,000+', 'Free', '0', 'Everyone', 'Lifestyle', 'July 11, 2018', '1.2', '4.0.3 and up']\n",
      "['Kenmore Smart AC', 'LIFESTYLE', '1.9', '71', '24M', '5,000+', 'Free', '0', 'Everyone', 'Lifestyle', 'May 8, 2017', '1.0.11', '4.4 and up']\n",
      "['LG AC Smart Diagnosis', 'LIFESTYLE', '3.4', '377', '6.1M', '100,000+', 'Free', '0', 'Everyone', 'Lifestyle', 'March 21, 2017', '1.1.4', '4.0 and up']\n",
      "['All Type Ac Repair & Services', 'LIFESTYLE', '4.3', '45', '2.2M', '10,000+', 'Free', '0', 'Everyone', 'Lifestyle', 'December 26, 2017', '0.8', '4.1 and up']\n",
      "['Digital Clock : Simple, Tiny, Ad-free Desk Clock.', 'LIFESTYLE', '4.4', '317', '74k', '50,000+', 'Free', '0', 'Everyone', 'Lifestyle', 'December 21, 2016', '3.0', '2.3 and up']\n",
      "['Tafsiir Quraan MP3 Af Soomaali Quraanka Kariimka', 'LIFESTYLE', '5.0', '7', '3.4M', '1,000+', 'Free', '0', 'Everyone', 'Lifestyle', 'June 9, 2018', '1.4', '4.0 and up']\n",
      "[\"What's Up\", 'LIFESTYLE', '4.1', '23453', '10M', '1,000,000+', 'Free', '0', 'Everyone', 'Lifestyle', 'October 26, 2017', '2.0', '4.0 and up']\n",
      "['Elim AG', 'LIFESTYLE', 'NaN', '7', 'Varies with device', '100+', 'Free', '0', 'Everyone', 'Lifestyle', 'March 31, 2017', '1.0', '4.2 and up']\n",
      "['Lakeside AG Moultrie', 'LIFESTYLE', '5.0', '3', '8.6M', '50+', 'Free', '0', 'Everyone', 'Lifestyle', 'May 23, 2017', '1.0', '4.1 and up']\n",
      "['DREAM-e: Dream Analysis A.I.', 'LIFESTYLE', '3.8', '89', '939k', '10,000+', 'Free', '0', 'Everyone', 'Lifestyle', 'February 18, 2013', '2.3', '2.1 and up']\n",
      "[\"AJ Men's Grooming\", 'LIFESTYLE', '5.0', '2', '22M', '100+', 'Free', '0', 'Everyone', 'Lifestyle', 'August 28, 2017', '5', '4.1 and up']\n",
      "['AJ and Alyssa', 'LIFESTYLE', 'NaN', '0', '475k', '100+', 'Free', '0', 'Everyone', 'Lifestyle', 'June 1, 2017', '1.0.0', '2.3.3 and up']\n",
      "['A.J. Green Wallpapers 4 Fans', 'LIFESTYLE', 'NaN', '0', '4.3M', '5+', 'Free', '0', 'Everyone', 'Lifestyle', 'May 26, 2018', '1.0', '4.0 and up']\n",
      "['Book of AK-47', 'LIFESTYLE', '3.8', '6', '3.4M', '500+', 'Free', '0', 'Everyone', 'Lifestyle', 'March 1, 2016', '1.0.2', '4.0.3 and up']\n",
      "['Al-Moazin Lite (Prayer Times)', 'LIFESTYLE', '4.6', '284670', 'Varies with device', '10,000,000+', 'Free', '0', 'Everyone', 'Lifestyle', 'July 24, 2018', 'Varies with device', 'Varies with device']\n",
      "['12 Step Meditations & Sober Prayers AA NA AL-ANON', 'LIFESTYLE', '4.7', '759', '15M', '50,000+', 'Free', '0', 'Everyone 10+', 'Lifestyle', 'January 22, 2018', '1.4.5', '4.1 and up']\n",
      "['Taha Al Junaid Quran Mp3', 'LIFESTYLE', '4.6', '518', '4.2M', '50,000+', 'Free', '0', 'Everyone', 'Lifestyle', 'March 25, 2017', '1.1', '2.3.3 and up']\n",
      "['Muslim Pro - Prayer Times, Azan, Quran & Qibla', 'LIFESTYLE', '4.7', '1133393', 'Varies with device', '10,000,000+', 'Free', '0', 'Everyone', 'Lifestyle', 'July 3, 2018', 'Varies with device', 'Varies with device']\n",
      "['I am rich', 'LIFESTYLE', '3.8', '3547', '1.8M', '100,000+', 'Paid', '$399.99', 'Everyone', 'Lifestyle', 'January 12, 2018', '2.0', '4.0.3 and up']\n",
      "['I am rich VIP', 'LIFESTYLE', '3.8', '411', '2.6M', '10,000+', 'Paid', '$299.99', 'Everyone', 'Lifestyle', 'July 21, 2018', '1.1.1', '4.3 and up']\n",
      "['I am extremely Rich', 'LIFESTYLE', '2.9', '41', '2.9M', '1,000+', 'Paid', '$379.99', 'Everyone', 'Lifestyle', 'July 1, 2018', '1.0', '4.0 and up']\n",
      "['I am Rich Person', 'LIFESTYLE', '4.2', '134', '1.8M', '1,000+', 'Paid', '$37.99', 'Everyone', 'Lifestyle', 'July 18, 2017', '1.0', '4.0.3 and up']\n",
      "['I am Millionaire - Richest guy in the town', 'LIFESTYLE', '3.6', '126', '1.4M', '5,000+', 'Paid', '$2.49', 'Everyone', 'Lifestyle', 'June 22, 2018', '8', '4.1 and up']\n",
      "['Trell: An app for Explorers | Best Wanderlust App', 'LIFESTYLE', '4.6', '8004', '34M', '100,000+', 'Free', '0', 'Teen', 'Lifestyle', 'July 31, 2018', '3.4.8', '4.1 and up']\n",
      "['Diary with lock password', 'LIFESTYLE', '4.3', '179139', '9.7M', '5,000,000+', 'Free', '0', 'Everyone', 'Lifestyle', 'November 1, 2017', '3.5.3', '4.0.3 and up']\n",
      "['The PCH App', 'LIFESTYLE', '4.5', '234971', '81M', '1,000,000+', 'Free', '0', 'Everyone', 'Lifestyle', 'July 25, 2018', '2.8.7.78579', '4.4 and up']\n",
      "['Access Point Finder', 'LIFESTYLE', '4.0', '22', '2.5M', '10,000+', 'Free', '0', 'Everyone', 'Lifestyle', 'September 6, 2016', '1.0', '3.0 and up']\n",
      "['SleepCloud Backup for Sleep as Android', 'LIFESTYLE', '4.2', '2563', 'Varies with device', '100,000+', 'Free', '0', 'Everyone', 'Lifestyle', 'June 26, 2018', 'Varies with device', 'Varies with device']\n",
      "['Sleep as Android Unlock', 'LIFESTYLE', '4.5', '23966', '872k', '1,000,000+', 'Paid', '$5.99', 'Everyone', 'Lifestyle', 'June 27, 2018', '20180608', '4.0 and up']\n",
      "['Sleep as Android: Sleep cycle tracker, smart alarm', 'LIFESTYLE', '4.3', '246201', 'Varies with device', '10,000,000+', 'Free', '0', 'Everyone', 'Lifestyle', 'July 23, 2018', 'Varies with device', 'Varies with device']\n",
      "['CAPTCHA Pack for Sleep as Android', 'LIFESTYLE', '4.0', '448', '3.1M', '50,000+', 'Free', '0', 'Everyone', 'Lifestyle', 'June 8, 2018', '1.3', '2.3 and up']\n",
      "['Sleep as Microsoft Band Add-On', 'LIFESTYLE', '3.5', '28', '121k', '1,000+', 'Free', '0', 'Everyone', 'Lifestyle', 'January 23, 2016', '1.0.0.8', '4.2 and up']\n",
      "['Timely Alarm Clock', 'LIFESTYLE', '4.3', '258717', '9.4M', '10,000,000+', 'Free', '0', 'Everyone', 'Lifestyle', 'September 25, 2017', '1.3.1', '4.0.3 and up']\n",
      "['Alarm Clock Plus★', 'LIFESTYLE', '4.4', '155693', 'Varies with device', '5,000,000+', 'Free', '0', 'Everyone', 'Lifestyle', 'September 30, 2014', 'Varies with device', 'Varies with device']\n",
      "['Au Pair Legend', 'LIFESTYLE', '4.4', '28', '8.8M', '1,000+', 'Free', '0', 'Everyone', 'Lifestyle', 'July 19, 2018', '3.5', '5.0 and up']\n",
      "['view.com.au - Buy, Rent or Research Real Estate', 'LIFESTYLE', '3.1', '212', '12M', '50,000+', 'Free', '0', 'Everyone', 'Lifestyle', 'September 26, 2017', '2.1.4', '4.1 and up']\n",
      "['Neuvaine au Saint-Esprit', 'LIFESTYLE', '4.7', '57', '5.8M', '10,000+', 'Free', '0', 'Everyone', 'Lifestyle', 'September 18, 2017', '1.1', '4.0 and up']\n",
      "['Neuvaines et prières au Coeur Sacré de Jésus', 'LIFESTYLE', 'NaN', '17', '3.7M', '5,000+', 'Free', '0', 'Everyone', 'Lifestyle', 'September 5, 2017', '1.1', '4.0 and up']\n",
      "['Au Rubis les bijoutiers', 'LIFESTYLE', 'NaN', '0', '10M', '100+', 'Free', '0', 'Everyone', 'Lifestyle', 'July 24, 2018', '1.00.33', '4.1 and up']\n",
      "['AV MAX', 'LIFESTYLE', '4.1', '9', '8.7M', '1,000+', 'Free', '0', 'Everyone', 'Lifestyle', 'July 18, 2018', '7.2.2', '4.1 and up']\n",
      "['MyAV Remote for Denon & Marantz AV Receivers', 'LIFESTYLE', '3.8', '250', '7.3M', '50,000+', 'Free', '0', 'Everyone', 'Lifestyle', 'July 31, 2018', 'Cow V3.15', '4.3 and up']\n",
      "[\"Kinot Tisha'a Be'av - Ashkenaz\", 'LIFESTYLE', '4.5', '82', '8.7M', '5,000+', 'Free', '0', 'Everyone', 'Lifestyle', 'July 26, 2015', '2.1', '2.3.3 and up']\n",
      "['Armani Exchange Connected', 'LIFESTYLE', '4.1', '305', '44M', '10,000+', 'Free', '0', 'Everyone', 'Lifestyle', 'July 4, 2017', '1.5.0', '4.4 and up']\n",
      "['AX!OM', 'LIFESTYLE', 'NaN', '5', '28M', '50+', 'Free', '0', 'Everyone', 'Lifestyle', 'February 16, 2017', '1.3', '4.1 and up']\n",
      "['AX Selfie', 'LIFESTYLE', '4.6', '10', '3.4M', '500+', 'Free', '0', 'Everyone', 'Lifestyle', 'August 31, 2015', '1.0.0', '4.0 and up']\n",
      "['Ay Telekom Oim', 'LIFESTYLE', 'NaN', '6', '13M', '100+', 'Free', '0', 'Everyone', 'Lifestyle', 'February 17, 2018', '1.0.2', '4.1 and up']\n",
      "['Holy Quran Mehmet Emin Ay', 'LIFESTYLE', 'NaN', '649', '55M', '10,000+', 'Free', '0', 'Everyone', 'Lifestyle', 'March 14, 2017', '1.3.1', '4.0.3 and up']\n",
      "['Lunar Calendar', 'LIFESTYLE', '4.5', '484', 'Varies with device', '1,000+', 'Paid', '$4.99', 'Mature 17+', 'Lifestyle', 'July 17, 2018', 'Varies with device', 'Varies with device']\n",
      "['Lunar Calendar Lite', 'LIFESTYLE', '4.1', '2954', 'Varies with device', '100,000+', 'Free', '0', 'Mature 17+', 'Lifestyle', 'July 17, 2018', 'Varies with device', 'Varies with device']\n",
      "['Long Realty AZ Home Search', 'LIFESTYLE', '4.4', '132', '33M', '10,000+', 'Free', '0', 'Everyone', 'Lifestyle', 'March 6, 2018', '5.805.180306', '4.1 and up']\n",
      "['Graffiti Letters (A-Z)', 'LIFESTYLE', '3.9', '386', '7.9M', '50,000+', 'Free', '0', 'Everyone', 'Lifestyle', 'February 18, 2017', '2.1.5', '4.0 and up']\n",
      "['Barista Coffee Dictionary A-Z', 'LIFESTYLE', '4.3', '127', '5.5M', '10,000+', 'Free', '0', 'Everyone', 'Lifestyle', 'June 3, 2016', '3.0.0', '4.1 and up']\n",
      "['Ba Zi Fortune', 'LIFESTYLE', '3.9', '592', '2.5M', '100,000+', 'Free', '0', 'Everyone', 'Lifestyle', 'January 2, 2018', '1.0.23', '2.3 and up']\n",
      "['BC Liquor Stores', 'LIFESTYLE', '3.7', '492', '4.3M', '50,000+', 'Free', '0', 'Everyone', 'Lifestyle', 'October 5, 2015', '3.6', '2.2 and up']\n",
      "[\"BC's Pizza\", 'LIFESTYLE', '4.7', '113', '20M', '1,000+', 'Free', '0', 'Everyone', 'Lifestyle', 'September 30, 2016', '3.0.0', '4.0 and up']\n",
      "['BC Mobile Intro - Americas', 'LIFESTYLE', 'NaN', '0', '3.1M', '50+', 'Free', '0', 'Everyone', 'Lifestyle', 'June 21, 2018', '4.1.0', '4.0.3 and up']\n",
      "['BC Pizza', 'LIFESTYLE', '2.3', '3', '2.6M', '500+', 'Free', '0', 'Everyone', 'Lifestyle', 'January 12, 2016', '1.0', '4.2 and up']\n",
      "[\"bd's Mongolian Grill\", 'LIFESTYLE', '4.2', '120', '14M', '10,000+', 'Free', '0', 'Everyone', 'Lifestyle', 'February 23, 2018', '1.5.1', '4.1 and up']\n",
      "['Helping BD', 'LIFESTYLE', '5.0', '15', '4.5M', '100+', 'Free', '0', 'Everyone', 'Lifestyle', 'June 19, 2018', '2.1', '4.0.3 and up']\n",
      "['Be My Eyes - Helping the blind', 'LIFESTYLE', '4.9', '8418', '21M', '500,000+', 'Free', '0', 'Everyone', 'Lifestyle', 'July 11, 2018', '1.2.9', '4.4 and up']\n",
      "['CE BF', 'LIFESTYLE', 'NaN', '0', '24M', '50+', 'Free', '0', 'Everyone', 'Lifestyle', 'January 2, 2018', '1.0.1', '4.1 and up']\n",
      "['Freedom Christian BF', 'LIFESTYLE', 'NaN', '0', '12M', '10+', 'Free', '0', 'Everyone', 'Lifestyle', 'February 22, 2016', '1.0', '4.0.3 and up']\n",
      "['Cute Questions BF', 'LIFESTYLE', '4.0', '3', '3.3M', '1,000+', 'Free', '0', 'Everyone', 'Lifestyle', 'June 2, 2018', '3.0.0', '4.4 and up']\n",
      "['BG BRIDAL GALLERY', 'LIFESTYLE', '4.6', '17', '19M', '1,000+', 'Free', '0', 'Everyone', 'Lifestyle', 'June 27, 2018', '2.1.1', '4.4 and up']\n",
      "['Board Game Stats: Play tracking for tabletop games', 'LIFESTYLE', '4.6', '275', '3.9M', '5,000+', 'Paid', '$2.99', 'Everyone', 'Lifestyle', 'July 17, 2018', '2.8.3', '4.1 and up']\n",
      "['Photo Background Changer 2018 - Blur Background', 'LIFESTYLE', '3.7', '34079', '9.2M', '5,000,000+', 'Free', '0', 'Everyone', 'Lifestyle', 'May 21, 2018', 'Arrow-202', '4.1 and up']\n",
      "['Barbers.BH', 'LIFESTYLE', '5.0', '2', '6.0M', '10+', 'Free', '0', 'Everyone', 'Lifestyle', 'May 24, 2018', '2.1', '4.0.3 and up']\n",
      "['Lexus Tech BH Service Pro', 'LIFESTYLE', 'NaN', '0', '904k', '10+', 'Free', '0', 'Teen', 'Lifestyle', 'July 26, 2016', '5.0', '3.0 and up']\n",
      "[\"B'H BURGER HEIM\", 'LIFESTYLE', 'NaN', '0', '20M', '10+', 'Free', '0', 'Everyone', 'Lifestyle', 'May 26, 2016', '1.0', '4.0 and up']\n",
      "['BI-LO', 'LIFESTYLE', '3.5', '43', '30M', '10,000+', 'Free', '0', 'Everyone', 'Lifestyle', 'July 11, 2018', '2.0.0', '4.1 and up']\n",
      "['BI-LO Rx', 'LIFESTYLE', '3.9', '77', 'Varies with device', '10,000+', 'Free', '0', 'Everyone', 'Lifestyle', 'March 26, 2018', 'Varies with device', 'Varies with device']\n",
      "['happn – Local dating app', 'LIFESTYLE', '4.3', '1118201', 'Varies with device', '10,000,000+', 'Free', '0', 'Mature 17+', 'Lifestyle', 'July 24, 2018', 'Varies with device', 'Varies with device']\n",
      "['BMH-BJ Congregation', 'LIFESTYLE', 'NaN', '0', '5.1M', '10+', 'Free', '0', 'Everyone', 'Lifestyle', 'June 29, 2018', '1.22', '4.0.3 and up']\n",
      "['BURGER KING® App', 'LIFESTYLE', '4.0', '41747', '39M', '5,000,000+', 'Free', '0', 'Everyone', 'Lifestyle', 'January 12, 2017', '3.7.1', '4.1 and up']\n",
      "['BURGER KING® MOBILE APP', 'LIFESTYLE', '3.8', '19221', '13M', '5,000,000+', 'Free', '0', 'Everyone', 'Lifestyle', 'May 24, 2018', 'Varies with device', 'Varies with device']\n",
      "['Free Coupons for Burger King', 'LIFESTYLE', '2.8', '17', '3.1M', '5,000+', 'Free', '0', 'Everyone', 'Lifestyle', 'July 29, 2018', '1.1', '4.4 and up']\n",
      "['BK Murli Offline April 2017', 'LIFESTYLE', '4.8', '33', '2.4M', '5,000+', 'Free', '0', 'Everyone', 'Lifestyle', 'May 3, 2017', '1.0', '4.0.3 and up']\n",
      "['Read it easy for BK', 'LIFESTYLE', '5.0', '1', '3.2M', '50+', 'Free', '0', 'Everyone', 'Lifestyle', 'July 15, 2018', '1.2', '4.1 and up']\n",
      "['Dr Bk Sachin bhai', 'LIFESTYLE', '5.0', '19', '3.1M', '1,000+', 'Free', '0', 'Everyone', 'Lifestyle', 'December 7, 2017', '2.2', '4.1 and up']\n",
      "['BK Suraj bhai', 'LIFESTYLE', '4.6', '9', '3.1M', '1,000+', 'Free', '0', 'Everyone', 'Lifestyle', 'December 8, 2017', '2.2', '4.1 and up']\n",
      "['BK Shivani Videos', 'LIFESTYLE', '4.7', '29', '3.2M', '1,000+', 'Free', '0', 'Everyone', 'Lifestyle', 'July 25, 2018', '1.3', '4.0.3 and up']\n",
      "['Official Madhuban Murli', 'LIFESTYLE', '4.9', '301', '25M', '10,000+', 'Free', '0', 'Everyone', 'Lifestyle', 'July 21, 2018', '1.1.2', '4.4 and up']\n",
      "['Bk Usha behn', 'LIFESTYLE', '5.0', '10', '3.0M', '1,000+', 'Free', '0', 'Everyone', 'Lifestyle', 'January 14, 2018', '1.0', '4.1 and up']\n",
      "['Burger King Italia', 'LIFESTYLE', '4.0', '4160', '30M', '500,000+', 'Free', '0', 'Everyone', 'Lifestyle', 'July 6, 2018', '2.3.6', '4.0.3 and up']\n",
      "['bm offers', 'LIFESTYLE', '3.2', '320', '31M', '50,000+', 'Free', '0', 'Everyone', 'Lifestyle', 'December 13, 2017', '1.4', '4.2 and up']\n",
      "['BN PERKS™', 'LIFESTYLE', 'NaN', '0', '15M', '100+', 'Free', '0', 'Everyone', 'Lifestyle', 'June 2, 2018', '2.13', '4.0.3 and up']\n",
      "['Bangla Calendar 1425: (EN-BN-AR) Holiday', 'LIFESTYLE', '4.5', '31', '2.3M', '1,000+', 'Free', '0', 'Everyone', 'Lifestyle', 'April 21, 2018', '2.1.0', '4.1 and up']\n",
      "['Bee.Bo', 'LIFESTYLE', 'NaN', '11', '23M', '1,000+', 'Free', '0', 'Everyone', 'Lifestyle', 'April 13, 2017', '1.2.9', '4.1 and up']\n",
      "['BP and Sugar Test Prank', 'LIFESTYLE', '4.0', '7808', '5.0M', '1,000,000+', 'Free', '0', 'Everyone', 'Lifestyle', 'November 5, 2015', '1.2.1', '2.2 and up']\n",
      "['BP Log lite', 'LIFESTYLE', '5.0', '3', '1.5M', '100+', 'Free', '0', 'Everyone', 'Lifestyle', 'November 15, 2014', '1.1', '2.2 and up']\n",
      "['bp Magazine for Bipolar', 'LIFESTYLE', '1.8', '5', '18M', '1,000+', 'Free', '0', 'Everyone 10+', 'Lifestyle', 'February 12, 2018', '26.0', '4.1 and up']\n",
      "['Bar BQ Tonight Dublin', 'LIFESTYLE', 'NaN', '0', '22M', '50+', 'Free', '0', 'Everyone', 'Lifestyle', 'May 20, 2018', '1.1.9371', '4.0.3 and up']\n",
      "['Pick-a-Paint', 'LIFESTYLE', '1.6', '242', '36M', '50,000+', 'Free', '0', 'Everyone', 'Lifestyle', 'May 14, 2018', '1.2.1', '3.0 and up']\n",
      "['BR', 'LIFESTYLE', '3.0', '859', '3.5M', '100,000+', 'Free', '0', 'Everyone', 'Lifestyle', 'July 19, 2018', '1.7.7', '2.2 and up']\n",
      "['BT Church', 'LIFESTYLE', '4.9', '26', '8.4M', '1,000+', 'Free', '0', 'Teen', 'Lifestyle', 'June 25, 2018', '3.8.0', '4.1 and up']\n",
      "['MagicLight BT', 'LIFESTYLE', '2.7', '135', '6.5M', '10,000+', 'Free', '0', 'Everyone', 'Lifestyle', 'July 11, 2018', '1.2.1', '4.3 and up']\n",
      "['sustainability@BU', 'LIFESTYLE', '4.8', '10', '11M', '1,000+', 'Free', '0', 'Everyone', 'Lifestyle', 'January 18, 2018', '4.2.7', '4.1 and up']\n",
      "['On a Bu Pour Vous OBPV', 'LIFESTYLE', 'NaN', '0', '5.4M', '10+', 'Free', '0', 'Teen', 'Lifestyle', 'February 6, 2018', '3.0', '4.1 and up']\n",
      "['Büfe BU', 'LIFESTYLE', '4.1', '14', '13M', '100+', 'Free', '0', 'Everyone', 'Lifestyle', 'October 17, 2015', '2.0', '4.0.3 and up']\n",
      "['van Gennip Textiles BV', 'LIFESTYLE', 'NaN', '1', '4.0M', '100+', 'Free', '0', 'Everyone', 'Lifestyle', 'June 28, 2018', '1.1.5', '4.1 and up']\n",
      "['StartPage Private Search', 'LIFESTYLE', '4.6', '10198', '2.2M', '100,000+', 'Free', '0', 'Everyone', 'Lifestyle', 'August 21, 2017', '1.10', '2.1 and up']\n",
      "['Philips Hue', 'LIFESTYLE', '3.1', '10006', '53M', '1,000,000+', 'Free', '0', 'Everyone', 'Lifestyle', 'July 26, 2018', '3.2.0', '5.0 and up']\n",
      "['BW App', 'LIFESTYLE', '2.8', '48', '12M', '5,000+', 'Free', '0', 'Everyone', 'Lifestyle', 'September 27, 2017', '2.8.216.6-ba', '4.0 and up']\n",
      "['Bell and Wyson Camera BW Pix +', 'LIFESTYLE', '2.0', '8', '12M', '1,000+', 'Free', '0', 'Everyone', 'Lifestyle', 'November 14, 2016', '2.0.18.23', '2.3 and up']\n",
      "['One Today by Google', 'LIFESTYLE', '4.5', '2586', '9.4M', '100,000+', 'Free', '0', 'Everyone', 'Lifestyle', 'December 17, 2015', '1.9.0.110162364', '4.0.3 and up']\n",
      "['CA Speakers Free', 'LIFESTYLE', '4.8', '74', '2.9M', '5,000+', 'Free', '0', 'Teen', 'Lifestyle', 'September 30, 2015', '1.6', '2.3.3 and up']\n",
      "['CA Speakers', 'LIFESTYLE', '5.0', '12', '1.2M', '100+', 'Paid', '$0.99', 'Teen', 'Lifestyle', 'March 25, 2014', '1.0', '3.0 and up']\n",
      "['CB Underground', 'LIFESTYLE', '3.3', '3', '7.4M', '500+', 'Free', '0', 'Everyone', 'Lifestyle', 'September 15, 2015', '1.2', '3.2 and up']\n",
      "['Design innovation CD Cassette', 'LIFESTYLE', 'NaN', '5', '8.3M', '500+', 'Free', '0', 'Everyone', 'Lifestyle', 'February 6, 2017', '1.0', '2.3 and up']\n",
      "['DIY Crafts Cds', 'LIFESTYLE', '4.0', '209', '3.1M', '50,000+', 'Free', '0', 'Everyone', 'Lifestyle', 'January 24, 2017', '3.0', '3.0 and up']\n",
      "['CD Live - Club del Deportista', 'LIFESTYLE', 'NaN', '8', '9.2M', '500+', 'Free', '0', 'Everyone', 'Lifestyle', 'June 12, 2018', '4.1', '4.1 and up']\n",
      "['Creative CD Letter Holder', 'LIFESTYLE', 'NaN', '0', '13M', '10+', 'Free', '0', 'Everyone', 'Lifestyle', 'November 15, 2017', '7.1', '4.0 and up']\n",
      "['My Movies Pro - Movie & TV Collection Library', 'LIFESTYLE', '4.6', '6477', '20M', '10,000+', 'Paid', '$7.99', 'Everyone', 'Lifestyle', 'July 16, 2018', '2.26 Build 17', '4.1 and up']\n",
      "['Best Design CD Ideas', 'LIFESTYLE', 'NaN', '0', '13M', '10+', 'Free', '0', 'Everyone', 'Lifestyle', 'April 18, 2018', '1.0.0', '4.0.3 and up']\n",
      "['DIY cd rom ideas', 'LIFESTYLE', 'NaN', '5', '12M', '500+', 'Free', '0', 'Everyone', 'Lifestyle', 'October 17, 2016', '1.0', '2.3.3 and up']\n",
      "['DIY Recycled CD Wall Art', 'LIFESTYLE', 'NaN', '3', '7.9M', '1,000+', 'Free', '0', 'Everyone', 'Lifestyle', 'December 14, 2016', '1.0', '2.3 and up']\n",
      "['DIY CD Craft Ideas', 'LIFESTYLE', '4.4', '5', '4.6M', '1,000+', 'Free', '0', 'Everyone', 'Lifestyle', 'January 14, 2017', '1.0', '2.3 and up']\n",
      "['Music Collector Inventory Organizer UPC Discogs', 'LIFESTYLE', '3.5', '155', '12M', '10,000+', 'Free', '0', 'Everyone', 'Lifestyle', 'October 13, 2017', '3.1', '4.1 and up']\n",
      "['CE KISIO', 'LIFESTYLE', 'NaN', '1', '24M', '100+', 'Free', '0', 'Everyone', 'Lifestyle', 'February 5, 2018', '1.0.1', '4.1 and up']\n",
      "['CE AR LOG', 'LIFESTYLE', 'NaN', '0', '23M', '1+', 'Free', '0', 'Everyone', 'Lifestyle', 'July 11, 2018', '1.0.1', '4.1 and up']\n",
      "['CE Airbus', 'LIFESTYLE', 'NaN', '0', 'Varies with device', '100+', 'Free', '0', 'Everyone', 'Lifestyle', 'April 24, 2018', 'Varies with device', 'Varies with device']\n",
      "['CF SHOP!', 'LIFESTYLE', '2.8', '88', '43M', '10,000+', 'Free', '0', 'Everyone', 'Lifestyle', 'June 30, 2018', '1.8.1', '4.4 and up']\n",
      "['CF Appreciation', 'LIFESTYLE', '2.0', '11', '6.2M', '1,000+', 'Free', '0', 'Everyone', 'Lifestyle', 'June 12, 2018', '2.4.78-s', '4.1 and up']\n",
      "['Unity CF', 'LIFESTYLE', '5.0', '5', '8.3M', '100+', 'Free', '0', 'Everyone', 'Lifestyle', 'April 12, 2016', '1.0', '4.0.3 and up']\n",
      "['Overcomers CF - GA', 'LIFESTYLE', '5.0', '7', '11M', '100+', 'Free', '0', 'Everyone', 'Lifestyle', 'March 20, 2017', '1.1', '4.1 and up']\n",
      "['Team CF', 'LIFESTYLE', 'NaN', '0', '3.0M', '100+', 'Free', '0', 'Everyone', 'Lifestyle', 'June 7, 2018', '3.9.9.2', '2.3 and up']\n",
      "['CF Calculator', 'LIFESTYLE', '3.3', '25', '4.7M', '1,000+', 'Free', '0', 'Everyone', 'Lifestyle', 'March 10, 2015', '1.0.2', '4.0 and up']\n",
      "['CF Climb', 'LIFESTYLE', '1.5', '2', '3.0M', '100+', 'Free', '0', 'Everyone', 'Lifestyle', 'June 7, 2018', '3.9.9.2', '2.3 and up']\n",
      "['Villarreal CF Wallpapers 4 Fans', 'LIFESTYLE', 'NaN', '2', '3.2M', '50+', 'Free', '0', 'Everyone', 'Lifestyle', 'May 22, 2018', '1.0', '4.0 and up']\n",
      "['Valencia CF Wallpapers 4 Fans', 'LIFESTYLE', 'NaN', '4', '3.1M', '100+', 'Free', '0', 'Everyone', 'Lifestyle', 'May 22, 2018', '1.0', '4.0 and up']\n",
      "['Málaga CF Wallpapers 4 Fans', 'LIFESTYLE', 'NaN', '2', '3.1M', '10+', 'Free', '0', 'Everyone', 'Lifestyle', 'May 22, 2018', '1.0', '4.0 and up']\n",
      "['Calvary.ch App', 'LIFESTYLE', '4.4', '10', '7.7M', '500+', 'Free', '0', 'Teen', 'Lifestyle', 'June 25, 2018', '3.8.0', '4.1 and up']\n",
      "['autoricardo.ch – vehicles', 'LIFESTYLE', '3.3', '1045', '13M', '100,000+', 'Free', '0', 'Everyone', 'Lifestyle', 'March 13, 2018', '5.1', '4.0 and up']\n",
      "['Legit Check App by Ch Daniel', 'LIFESTYLE', '4.9', '66', '8.1M', '1,000+', 'Free', '0', 'Everyone', 'Lifestyle', 'July 18, 2018', '1.0', '4.1 and up']\n",
      "['usgang.ch', 'LIFESTYLE', '3.7', '492', 'Varies with device', '100,000+', 'Free', '0', 'Everyone 10+', 'Lifestyle', 'June 11, 2018', '3.0.7', '4.1 and up']\n",
      "['CI Staff App', 'LIFESTYLE', 'NaN', '0', '10M', '10+', 'Free', '0', 'Everyone', 'Lifestyle', 'October 4, 2017', '1.0.7', '4.1 and up']\n",
      "['Company Kitchen', 'LIFESTYLE', '2.8', '81', '7.7M', '10,000+', 'Free', '0', 'Everyone', 'Lifestyle', 'March 6, 2018', '2.0.0 (18.03.01)', '2.3.3 and up']\n",
      "['CK 初一 十五', 'LIFESTYLE', '4.0', '294', '153k', '10,000+', 'Free', '0', 'Everyone', 'Lifestyle', 'July 3, 2013', '1.0.12', '2.1 and up']\n",
      "['Ck Coif', 'LIFESTYLE', 'NaN', '0', '22M', '10+', 'Free', '0', 'Everyone', 'Lifestyle', 'April 30, 2016', '1.0', '2.3 and up']\n",
      "['DAILY: Free Classifieds App for Android', 'LIFESTYLE', '4.1', '5025', 'Varies with device', '500,000+', 'Free', '0', 'Mature 17+', 'Lifestyle', 'August 2, 2018', 'Varies with device', 'Varies with device']\n",
      "['App for Craigslist Pro - Buy & Sell Postings', 'LIFESTYLE', '4.3', '707', '5.0M', '100,000+', 'Free', '0', 'Everyone', 'Lifestyle', 'May 9, 2018', 'App copyright', '4.1 and up']\n",
      "['CL Pebble Apps', 'LIFESTYLE', '3.6', '67', '499k', '5,000+', 'Free', '0', 'Everyone', 'Lifestyle', 'December 23, 2015', '3.5', '4.0 and up']\n",
      "['E2CR CL', 'LIFESTYLE', 'NaN', '0', '25M', '10+', 'Free', '0', 'Everyone', 'Lifestyle', 'June 30, 2017', '1.0', '4.1 and up']\n",
      "['Color CL', 'LIFESTYLE', '5.0', '2', '1.3M', '100+', 'Free', '0', 'Everyone', 'Lifestyle', 'February 2, 2017', '1.01', '4.0.3 and up']\n",
      "['Brit + Co', 'LIFESTYLE', '3.9', '987', '4.5M', '10,000+', 'Free', '0', 'Everyone', 'Lifestyle', 'August 29, 2017', '2.0.4', '4.0 and up']\n",
      "['Co-op CRS', 'LIFESTYLE', '3.6', '581', '26M', '100,000+', 'Free', '0', 'Everyone', 'Lifestyle', 'March 4, 2018', '2.4.3', '4.4 and up']\n",
      "['VCalendar - VenkatRama and Co', 'LIFESTYLE', '4.3', '87', '3.9M', '10,000+', 'Free', '0', 'Everyone', 'Lifestyle', 'March 16, 2018', '1.2', '4.1 and up']\n",
      "['Aquarium Co-Op Podcast', 'LIFESTYLE', '4.9', '206', '3.9M', '1,000+', 'Free', '0', 'Everyone', 'Lifestyle', 'June 20, 2017', '2.3.13', '4.2 and up']\n",
      "['Co-Dependents Anonymous', 'LIFESTYLE', 'NaN', '0', '12M', '500+', 'Free', '0', 'Everyone', 'Lifestyle', 'February 28, 2018', '1.0.1', '4.1 and up']\n",
      "['Holl & Co Barbers', 'LIFESTYLE', '4.7', '12', '6.0M', '500+', 'Free', '0', 'Everyone', 'Lifestyle', 'February 26, 2018', '4.9.940', '4.0 and up']\n",
      "['CP Clicker', 'LIFESTYLE', '4.2', '251', '5.0M', '10,000+', 'Free', '0', 'Everyone', 'Lifestyle', 'March 22, 2018', '3.3.003', '4.1 and up']\n",
      "['CP HAPPS - Pittsburgh Events', 'LIFESTYLE', '3.8', '85', '5.6M', '5,000+', 'Free', '0', 'Teen', 'Lifestyle', 'March 6, 2015', '1.18.10', '4.0.3 and up']\n",
      "['CP Surprise', 'LIFESTYLE', '3.8', '2548', '4.9M', '100,000+', 'Free', '0', 'Everyone', 'Lifestyle', 'January 30, 2018', '4.4.2', '4.1 and up']\n",
      "['CP Parquet', 'LIFESTYLE', 'NaN', '2', '1.2M', '100+', 'Free', '0', 'Everyone', 'Lifestyle', 'May 11, 2016', '1.0.2', '4.0 and up']\n",
      "['theCut', 'LIFESTYLE', '4.7', '499', '6.9M', '50,000+', 'Free', '0', 'Everyone', 'Lifestyle', 'May 10, 2018', '1.2.7', '4.1 and up']\n",
      "['C.S. Lewis Daily Quotes', 'LIFESTYLE', '4.1', '75', '11M', '10,000+', 'Free', '0', 'Everyone', 'Lifestyle', 'January 14, 2018', '1.0.1', '4.1 and up']\n",
      "['The Church at CW', 'LIFESTYLE', '4.5', '2', '7.8M', '100+', 'Free', '0', 'Teen', 'Lifestyle', 'June 25, 2018', '3.8.0', '4.1 and up']\n",
      "['CX-95WIFI', 'LIFESTYLE', 'NaN', '6', '11M', '500+', 'Free', '0', 'Everyone', 'Lifestyle', 'June 2, 2017', '2.1', '4.0 and up']\n",
      "['Theme for Tecno Camon CX / C8', 'LIFESTYLE', '4.6', '147', '9.8M', '10,000+', 'Free', '0', 'Everyone', 'Lifestyle', 'May 2, 2017', '1.0.1', '4.0 and up']\n",
      "['Oración CX', 'LIFESTYLE', '5.0', '103', '3.8M', '5,000+', 'Free', '0', 'Everyone', 'Lifestyle', 'September 12, 2017', '5.1.10', '4.1 and up']\n",
      "['CX-41', 'LIFESTYLE', 'NaN', '1', '32M', '100+', 'Free', '0', 'Everyone', 'Lifestyle', 'December 14, 2017', '3.0', '4.1 and up']\n",
      "['Recycling Cy', 'LIFESTYLE', '4.0', '47', '4.5M', '1,000+', 'Free', '0', 'Everyone', 'Lifestyle', 'August 2, 2017', '2.0', '3.2 and up']\n",
      "['Cy-Fair Christian Church', 'LIFESTYLE', '5.0', '2', '9.3M', '100+', 'Free', '0', 'Everyone', 'Lifestyle', 'August 3, 2017', '24.8.1', '4.1 and up']\n",
      "['CZ-USA', 'LIFESTYLE', '4.5', '11', '3.4M', '1,000+', 'Free', '0', 'Everyone', 'Lifestyle', 'March 1, 2016', '1.0.2', '4.0.3 and up']\n",
      "['KFC CZ', 'LIFESTYLE', '2.8', '1189', '18M', '100,000+', 'Free', '0', 'Everyone', 'Lifestyle', 'June 27, 2018', '5.1.0', '4.0.3 and up']\n",
      "['Breweries (CZ/SK)', 'LIFESTYLE', '4.4', '1740', '4.4M', '50,000+', 'Free', '0', 'Teen', 'Lifestyle', 'July 27, 2017', '3.1.0', '4.1 and up']\n",
      "['Vira.cz Widget', 'LIFESTYLE', 'NaN', '86', '601k', '1,000+', 'Free', '0', 'Everyone', 'Lifestyle', 'June 15, 2016', '1.0', '2.2 and up']\n",
      "['DB HOME', 'LIFESTYLE', '5.0', '5', '3.2M', '100+', 'Free', '0', 'Everyone', 'Lifestyle', 'August 31, 2017', '1.0.1', '4.0 and up']\n",
      "['AC DC Power Monitor', 'LIFESTYLE', '5.0', '1', '1.2M', '10+', 'Paid', '$3.04', 'Everyone', 'Lifestyle', 'May 29, 2016', '1.2', '2.3 and up']\n",
      "['The Divine Feminine App: the DF App', 'LIFESTYLE', '5.0', '8', '6.7M', '1,000+', 'Free', '0', 'Everyone', 'Lifestyle', 'May 16, 2016', '0.0.4', '4.1 and up']\n",
      "['MexiRoomies - roomies, mexico, df, apt, house room', 'LIFESTYLE', 'NaN', '2', '32M', '500+', 'Free', '0', 'Everyone', 'Lifestyle', 'July 4, 2018', '1.9', '4.0.3 and up']\n",
      "['Aproveita DF', 'LIFESTYLE', 'NaN', '0', '3.3M', '1+', 'Free', '0', 'Everyone', 'Lifestyle', 'August 2, 2018', '1.0', '4.0 and up']\n",
      "['DG Hair', 'LIFESTYLE', 'NaN', '0', '3.0M', '10+', 'Free', '0', 'Everyone', 'Lifestyle', 'August 30, 2017', '1.0.0', '4.0 and up']\n",
      "['Daily Horoscope', 'LIFESTYLE', '4.7', '407589', 'Varies with device', '10,000,000+', 'Free', '0', 'Everyone', 'Lifestyle', 'July 20, 2018', 'Varies with device', 'Varies with device']\n",
      "['D-H Pharmacy', 'LIFESTYLE', '5.0', '6', '2.3M', '1,000+', 'Free', '0', 'Everyone', 'Lifestyle', 'May 4, 2016', 'v6.1', '2.2 and up']\n",
      "['DH Mariage', 'LIFESTYLE', 'NaN', '0', '4.9M', '50+', 'Free', '0', 'Everyone', 'Lifestyle', 'September 12, 2017', '1.0', '4.3 and up']\n",
      "['S-Home DK', 'LIFESTYLE', 'NaN', '4', '17M', '1,000+', 'Free', '0', 'Everyone', 'Lifestyle', 'October 18, 2017', '1.26', '4.0 and up']\n",
      "['Salah Widget (DK+Malmo)', 'LIFESTYLE', '4.5', '532', '6.4M', '10,000+', 'Free', '0', 'Everyone', 'Lifestyle', 'June 28, 2015', '0.9.9.14', '2.3 and up']\n",
      "['DK Childcare Centers', 'LIFESTYLE', 'NaN', '0', '13M', '500+', 'Free', '0', 'Everyone', 'Lifestyle', 'April 2, 2018', '1.0.2', '4.1 and up']\n",
      "['Dr. D.K. Olukoya Sermons', 'LIFESTYLE', 'NaN', '1', '3.0M', '100+', 'Free', '0', 'Everyone', 'Lifestyle', 'September 26, 2017', '1.0', '4.0 and up']\n",
      "['Dr D K Olukoya', 'LIFESTYLE', 'NaN', '0', '3.3M', '1+', 'Free', '0', 'Teen', 'Lifestyle', 'July 25, 2018', '1.0', '4.1 and up']\n",
      "['DK Hair Design', 'LIFESTYLE', 'NaN', '0', '2.5M', '10+', 'Free', '0', 'Everyone', 'Lifestyle', 'May 15, 2017', '1.0.0', '4.0 and up']\n",
      "['Notes : Colorful Notepad Note,To Do,Reminder,Memo', 'LIFESTYLE', '4.6', '10484', '9.0M', '1,000,000+', 'Free', '0', 'Everyone', 'Lifestyle', 'June 9, 2018', '1.4.9', '4.1 and up']\n",
      "['DP and Status Images | All Latest Status 2018', 'LIFESTYLE', '4.7', '25', '3.8M', '10,000+', 'Free', '0', 'Teen', 'Lifestyle', 'July 22, 2017', '1.0', '4.0 and up']\n",
      "['100000+ Messages - DP, Status, Jokes & GIF 2018', 'LIFESTYLE', '3.7', '121', '3.8M', '10,000+', 'Free', '0', 'Mature 17+', 'Lifestyle', 'December 29, 2017', 'DPSTATUS1.0.1', '4.0.3 and up']\n",
      "['Taco Bell', 'LIFESTYLE', '3.8', '28140', '16M', '1,000,000+', 'Free', '0', 'Everyone', 'Lifestyle', 'July 30, 2018', '5.0.4', '4.2 and up']\n",
      "[\"Culver's\", 'LIFESTYLE', '3.9', '1638', '4.9M', '100,000+', 'Free', '0', 'Everyone', 'Lifestyle', 'April 11, 2018', '1.20', '4.3 and up']\n",
      "['DT', 'LIFESTYLE', 'NaN', '0', '8.9M', '100+', 'Free', '0', 'Everyone', 'Lifestyle', 'July 24, 2018', '7.2.2', '4.1 and up']\n",
      "['The Secret Daily Teachings', 'LIFESTYLE', '4.3', '206', '32M', '1,000+', 'Paid', '$4.99', 'Everyone', 'Lifestyle', 'February 11, 2018', '14.0', '4.0.3 and up']\n",
      "['du app', 'LIFESTYLE', '3.5', '7578', '25M', '1,000,000+', 'Free', '0', 'Everyone', 'Lifestyle', 'July 24, 2018', '3.98', '4.2 and up']\n",
      "['Sports DV', 'LIFESTYLE', '2.1', '86', '29M', '10,000+', 'Free', '0', 'Everyone', 'Lifestyle', 'July 17, 2018', '3.0.3', '4.3 and up']\n",
      "['DV Youth', 'LIFESTYLE', '5.0', '5', '15M', '100+', 'Free', '0', 'Everyone', 'Lifestyle', 'April 25, 2016', '1.2', '4.0.3 and up']\n",
      "['White Classic Petite Watch Theme for DW', 'LIFESTYLE', 'NaN', '2', '3.0M', '500+', 'Free', '0', 'Everyone', 'Lifestyle', 'July 24, 2018', '1.1.1', '4.0 and up']\n",
      "['DX Alerts', 'LIFESTYLE', '4.5', '22', '23M', '1,000+', 'Free', '0', 'Everyone', 'Lifestyle', 'July 19, 2016', '2.0', '4.0.3 and up']\n",
      "['My Dy Dice - 3D Dice Roller', 'LIFESTYLE', '4.2', '9', '22M', '100+', 'Free', '0', 'Everyone', 'Lifestyle', 'September 20, 2016', '1.01', '4.1 and up']\n",
      "['dy n fly', 'LIFESTYLE', 'NaN', '1', '4.8M', '50+', 'Free', '0', 'Everyone', 'Lifestyle', 'March 5, 2018', '1.0.3', '4.0 and up']\n",
      "['EB Experience', 'LIFESTYLE', 'NaN', '0', '1.8M', '1+', 'Free', '0', 'Everyone', 'Lifestyle', 'October 19, 2017', '1.0', '4.0.3 and up']\n",
      "['TN Electricity (TNEB)', 'LIFESTYLE', '3.9', '73', '3.8M', '10,000+', 'Free', '0', 'Everyone', 'Lifestyle', 'December 21, 2016', '8.0', '2.3 and up']\n",
      "['EC Security', 'LIFESTYLE', '4.5', '13', '28M', '1,000+', 'Free', '0', 'Everyone', 'Lifestyle', 'May 9, 2017', '1.17.0.0', '2.3.3 and up']\n",
      "['ec.tv', 'LIFESTYLE', 'NaN', '0', '8.6M', '50+', 'Free', '0', 'Everyone', 'Lifestyle', 'November 11, 2016', '1.0', '4.1 and up']\n",
      "['ECナビ×シュフー', 'LIFESTYLE', '4.0', '576', '7.4M', '50,000+', 'Free', '0', 'Everyone', 'Lifestyle', 'June 7, 2018', '1.0.2', '4.0 and up']\n",
      "['Arrayanes EC', 'LIFESTYLE', 'NaN', '2', '7.9M', '100+', 'Free', '0', 'Everyone', 'Lifestyle', 'June 27, 2018', '3.5', '4.4 and up']\n",
      "['EG India', 'LIFESTYLE', '5.0', '3', '4.0M', '100+', 'Free', '0', 'Everyone', 'Lifestyle', 'July 29, 2018', '1.1.3', '4.0.3 and up']\n",
      "['Propertyfinder', 'LIFESTYLE', '4.2', '1506', '11M', '100,000+', 'Free', '0', 'Everyone', 'Lifestyle', 'August 7, 2018', '6.5.2', '4.4 and up']\n",
      "['EH!', 'LIFESTYLE', '4.6', '10', '8.7M', '1,000+', 'Free', '0', 'Everyone', 'Lifestyle', 'July 18, 2018', '7.2.2', '4.1 and up']\n",
      "['EJ Ecuador', 'LIFESTYLE', 'NaN', '9', '6.8M', '100+', 'Free', '0', 'Teen', 'Lifestyle', 'November 22, 2016', '3.0.16', '4.0 and up']\n",
      "['Nights Keeper (do not disturb)', 'LIFESTYLE', '4.5', '16426', '1.6M', '500,000+', 'Free', '0', 'Everyone', 'Lifestyle', 'February 26, 2017', '2.7.8', '2.2 and up']\n",
      "['EK Platinum', 'LIFESTYLE', '3.8', '52', '10M', '10,000+', 'Free', '0', 'Everyone', 'Lifestyle', 'December 26, 2017', '1.0.6®', '4.0 and up']\n",
      "['Ek Onkar Mantras', 'LIFESTYLE', '4.9', '82', '5.0M', '5,000+', 'Free', '0', 'Everyone', 'Lifestyle', 'August 7, 2016', '1.0', '4.1 and up']\n",
      "['Voice Lock Screen', 'LIFESTYLE', '3.7', '6667', '2.7M', '1,000,000+', 'Free', '0', 'Everyone', 'Lifestyle', 'April 2, 2018', '2.4.2', '4.0 and up']\n",
      "['The Holy Rosary', 'LIFESTYLE', '4.7', '56197', '15M', '1,000,000+', 'Free', '0', 'Everyone', 'Lifestyle', 'August 6, 2018', '1.6.17', '1.6 and up']\n",
      "['EO Bijbel Open', 'LIFESTYLE', '4.3', '102', '41M', '10,000+', 'Free', '0', 'Everyone', 'Lifestyle', 'November 24, 2016', '2.0.0', '4.0.3 and up']\n",
      "['EO LAC', 'LIFESTYLE', 'NaN', '0', '18M', '10+', 'Free', '0', 'Everyone', 'Lifestyle', 'January 17, 2017', '1.1', '4.1 and up']\n",
      "['EP Church Annapolis', 'LIFESTYLE', '5.0', '2', '8.8M', '100+', 'Free', '0', 'Everyone', 'Lifestyle', 'January 14, 2017', '1.0', '4.1 and up']\n",
      "['EP Horlogerie', 'LIFESTYLE', '4.9', '18', '24M', '1,000+', 'Free', '0', 'Everyone', 'Lifestyle', 'March 28, 2018', '4.0.2', '4.0.3 and up']\n",
      "['EP Joaillerie', 'LIFESTYLE', 'NaN', '54', '21M', '5,000+', 'Free', '0', 'Teen', 'Lifestyle', 'March 28, 2018', '4.0.2', '4.0.3 and up']\n",
      "['ER', 'LIFESTYLE', 'NaN', '2', '28M', '500+', 'Free', '0', 'Everyone', 'Lifestyle', 'September 1, 2017', '1.1.2', '2.3.3 and up']\n",
      "['EU Exit poll', 'LIFESTYLE', '5.0', '10', '9.4M', '100+', 'Free', '0', 'Everyone', 'Lifestyle', 'July 15, 2016', '1.6', '4.1 and up']\n",
      "['GastroHunter.EU', 'LIFESTYLE', 'NaN', '1', '1.5M', '10+', 'Free', '0', 'Everyone', 'Lifestyle', 'April 23, 2015', '1.0', '4.3 and up']\n",
      "['MOTOBAZAR EU', 'LIFESTYLE', 'NaN', '1', '2.0M', '100+', 'Free', '0', 'Everyone', 'Lifestyle', 'May 6, 2018', '1.2.36', '4.0.3 and up']\n",
      "[\"I'm Rich/Eu sou Rico/أنا غني/我很有錢\", 'LIFESTYLE', 'NaN', '0', '40M', '0+', 'Paid', '$399.99', 'Everyone', 'Lifestyle', 'December 1, 2017', 'MONEY', '4.1 and up']\n",
      "['NissanConnect® EV & Services', 'LIFESTYLE', '2.3', '853', '88M', '50,000+', 'Free', '0', 'Everyone', 'Lifestyle', 'July 20, 2018', '6.2.0', '4.4 and up']\n",
      "['Emerge EV App (eBike App)', 'LIFESTYLE', '3.0', '26', 'Varies with device', '1,000+', 'Free', '0', 'Everyone', 'Lifestyle', 'May 15, 2018', 'Varies with device', '6.0 and up']\n",
      "['EV Real Estate Search', 'LIFESTYLE', '4.1', '88', '20M', '5,000+', 'Free', '0', 'Everyone', 'Lifestyle', 'July 13, 2018', '5.600.49', '4.0.3 and up']\n",
      "['Ev Dizayn', 'LIFESTYLE', '3.6', '30', '5.2M', '5,000+', 'Free', '0', 'Everyone', 'Lifestyle', 'March 4, 2015', '1.0', '4.0 and up']\n",
      "['myChevrolet', 'LIFESTYLE', '3.5', '6747', 'Varies with device', '1,000,000+', 'Free', '0', 'Everyone', 'Lifestyle', 'June 11, 2018', 'Varies with device', 'Varies with device']\n",
      "['EvAk Smart Home', 'LIFESTYLE', 'NaN', '14', 'Varies with device', '500+', 'Free', '0', 'Everyone', 'Lifestyle', 'March 13, 2018', '1.1.1', '4.1 and up']\n",
      "['Ex Quotes', 'LIFESTYLE', '4.4', '129', '8.1M', '50,000+', 'Free', '0', 'Everyone 10+', 'Lifestyle', 'June 16, 2018', '3.0.1', '4.1 and up']\n",
      "['How To Get Your Ex Back Fast', 'LIFESTYLE', '4.0', '22', '19M', '5,000+', 'Free', '0', 'Everyone', 'Lifestyle', 'February 7, 2018', '15.0', '4.0.3 and up']\n",
      "['EY Staff ENTERTAINER', 'LIFESTYLE', '4.3', '218', '19M', '10,000+', 'Free', '0', 'Everyone', 'Lifestyle', 'January 16, 2017', '1.0.3', '2.3 and up']\n",
      "['My EZ-Link Mobile', 'LIFESTYLE', '2.8', '3187', '11M', '100,000+', 'Free', '0', 'Everyone', 'Lifestyle', 'January 27, 2017', '1.0.11', '4.0 and up']\n",
      "['Comunidad De Fe Minitries', 'LIFESTYLE', '5.0', '19', '11M', '500+', 'Free', '0', 'Everyone', 'Lifestyle', 'March 1, 2018', '1.1', '4.1 and up']\n",
      "['Ríos de Fe', 'LIFESTYLE', '5.0', '141', '15M', '1,000+', 'Free', '0', 'Everyone', 'Lifestyle', 'March 24, 2018', '1.8', '4.1 and up']\n",
      "['Candy simply-Fi', 'LIFESTYLE', '2.1', '2390', '35M', '100,000+', 'Free', '0', 'Everyone', 'Lifestyle', 'July 17, 2018', '1.8.4.7', '4.4 and up']\n",
      "['Tassa.fi Finland', 'LIFESTYLE', '3.6', '346', '7.5M', '50,000+', 'Free', '0', 'Everyone', 'Lifestyle', 'May 22, 2018', '5.5', '4.0 and up']\n",
      "['Lennox iComfort Wi-Fi', 'LIFESTYLE', '3.0', '552', '7.6M', '50,000+', 'Free', '0', 'Everyone', 'Lifestyle', 'March 22, 2017', '2.0.15', '2.3.3 and up']\n",
      "['Fish|Hunt FL', 'LIFESTYLE', '3.6', '853', '34M', '100,000+', 'Free', '0', 'Everyone', 'Lifestyle', 'March 22, 2018', '3.2.0', '4.1 and up']\n",
      "['Discovery Church Florida', 'LIFESTYLE', '4.7', '40', '8.0M', '1,000+', 'Free', '0', 'Teen', 'Lifestyle', 'June 25, 2018', '3.8.0', '4.1 and up']\n",
      "['South Florida AA Meetings', 'LIFESTYLE', '5.0', '10', '21M', '1,000+', 'Free', '0', 'Everyone', 'Lifestyle', 'May 24, 2018', '2.18', '4.1 and up']\n",
      "['Trinity Church Deltona, FL', 'LIFESTYLE', '5.0', '33', '28M', '500+', 'Free', '0', 'Everyone', 'Lifestyle', 'May 7, 2018', '1.9.0.0', '2.3.3 and up']\n",
      "['Beacon Baptist Jupiter, FL', 'LIFESTYLE', '5.0', '14', '2.6M', '100+', 'Free', '0', 'Everyone', 'Lifestyle', 'October 13, 2017', '2.4', '4.0.3 and up']\n",
      "['Alachua County Sheriff FL', 'LIFESTYLE', '3.2', '5', '9.5M', '100+', 'Free', '0', 'Everyone', 'Lifestyle', 'May 13, 2015', '1.0', '4.0 and up']\n",
      "['Jax Sheriff (FL)', 'LIFESTYLE', '4.2', '53', '16M', '5,000+', 'Free', '0', 'Everyone', 'Lifestyle', 'June 25, 2018', '2.0.1', '4.1 and up']\n",
      "['My MLS App', 'LIFESTYLE', '4.1', '1213', '13M', '100,000+', 'Free', '0', 'Everyone', 'Lifestyle', 'June 4, 2018', '2.8.4', '4.0.3 and up']\n",
      "['LifePoint Church - FL', 'LIFESTYLE', 'NaN', '1', '7.6M', '50+', 'Free', '0', 'Everyone', 'Lifestyle', 'December 9, 2015', '1.1', '4.0.3 and up']\n",
      "['Gainesville Florida Police Department', 'LIFESTYLE', '4.8', '4', '15M', '500+', 'Free', '0', 'Everyone', 'Lifestyle', 'November 22, 2017', '1.1', '4.1 and up']\n",
      "['South Florida MLS', 'LIFESTYLE', '4.4', '133', '13M', '10,000+', 'Free', '0', 'Everyone', 'Lifestyle', 'June 2, 2018', '2.8.4', '4.0.3 and up']\n",
      "['F N Bail Bonds', 'LIFESTYLE', '3.8', '4', '14M', '500+', 'Free', '0', 'Everyone', 'Lifestyle', 'January 6, 2017', '1.4', '4.0.3 and up']\n",
      "['Sona - Nær við allastaðni', 'LIFESTYLE', '4.2', '31', '25M', '1,000+', 'Free', '0', 'Everyone', 'Lifestyle', 'August 2, 2018', '1.6.3', '4.4 and up']\n",
      "['GKPB FP Online Church', 'LIFESTYLE', '5.0', '32', '7.9M', '1,000+', 'Free', '0', 'Everyone', 'Lifestyle', 'December 31, 2017', '0.7.1', '4.4 and up']\n",
      "['FQ Magazine', 'LIFESTYLE', 'NaN', '1', '12M', '100+', 'Free', '0', 'Everyone', 'Lifestyle', 'December 12, 2016', '1.0', '4.1 and up']\n",
      "['FQ India', 'LIFESTYLE', 'NaN', '0', '8.9M', '10+', 'Free', '0', 'Everyone', 'Lifestyle', 'July 31, 2018', '7.2.2', '4.1 and up']\n",
      "['Fuel Rewards® program', 'LIFESTYLE', '4.6', '32433', '46M', '1,000,000+', 'Free', '0', 'Everyone', 'Lifestyle', 'June 26, 2018', '2.9.1', '5.0 and up']\n",
      "['Scoreboard FR', 'LIFESTYLE', '4.3', '3', '15M', '100+', 'Free', '0', 'Everyone', 'Lifestyle', 'August 7, 2018', '2.1', '4.2 and up']\n",
      "['lesparticuliers.fr', 'LIFESTYLE', 'NaN', '96', '1.0M', '50,000+', 'Free', '0', 'Everyone', 'Lifestyle', 'November 25, 2014', '1.5', '2.3 and up']\n",
      "['iHoroscope - 2018 Daily Horoscope & Astrology', 'LIFESTYLE', '4.5', '398307', '19M', '10,000,000+', 'Free', '0', 'Everyone', 'Lifestyle', 'July 25, 2018', 'Varies with device', 'Varies with device']\n"
     ]
    }
   ],
   "source": [
    "for i in android:\n",
    "    if i[-4] == \"Lifestyle\":\n",
    "        print(i)"
   ]
  },
  {
   "cell_type": "code",
   "execution_count": 20,
   "metadata": {},
   "outputs": [
    {
     "data": {
      "text/plain": [
       "128523"
      ]
     },
     "execution_count": 20,
     "metadata": {},
     "output_type": "execute_result"
    }
   ],
   "source": [
    "ord(\"😋\")"
   ]
  },
  {
   "cell_type": "code",
   "execution_count": 21,
   "metadata": {},
   "outputs": [
    {
     "data": {
      "text/plain": [
       "'😋'"
      ]
     },
     "execution_count": 21,
     "metadata": {},
     "output_type": "execute_result"
    }
   ],
   "source": [
    "chr(128523)"
   ]
  },
  {
   "cell_type": "code",
   "execution_count": 22,
   "metadata": {},
   "outputs": [
    {
     "data": {
      "text/plain": [
       "['Life Made WI-Fi Touchscreen Photo Frame',\n",
       " 'LIFESTYLE',\n",
       " '1.9',\n",
       " '19',\n",
       " '3.0M',\n",
       " '1,000+',\n",
       " 'Free',\n",
       " '0',\n",
       " 'Everyone',\n",
       " 'Lifestyle',\n",
       " 'February 11, 2018',\n",
       " '1.0.19',\n",
       " '4.0 and up']"
      ]
     },
     "execution_count": 22,
     "metadata": {},
     "output_type": "execute_result"
    }
   ],
   "source": [
    "android[10472][-4] = \"Lifestyle\"\n",
    "android[10472]"
   ]
  },
  {
   "cell_type": "markdown",
   "metadata": {},
   "source": [
    "### Removing Duplicates Apps"
   ]
  },
  {
   "cell_type": "code",
   "execution_count": 23,
   "metadata": {},
   "outputs": [
    {
     "name": "stdout",
     "output_type": "stream",
     "text": [
      "['Instagram', 'SOCIAL', '4.5', '66577313', 'Varies with device', '1,000,000,000+', 'Free', '0', 'Teen', 'Social', 'July 31, 2018', 'Varies with device', 'Varies with device']\n",
      "['Instagram', 'SOCIAL', '4.5', '66577446', 'Varies with device', '1,000,000,000+', 'Free', '0', 'Teen', 'Social', 'July 31, 2018', 'Varies with device', 'Varies with device']\n",
      "['Instagram', 'SOCIAL', '4.5', '66577313', 'Varies with device', '1,000,000,000+', 'Free', '0', 'Teen', 'Social', 'July 31, 2018', 'Varies with device', 'Varies with device']\n",
      "['Instagram', 'SOCIAL', '4.5', '66509917', 'Varies with device', '1,000,000,000+', 'Free', '0', 'Teen', 'Social', 'July 31, 2018', 'Varies with device', 'Varies with device']\n"
     ]
    }
   ],
   "source": [
    "for i in android:\n",
    "    if i[0] == \"Instagram\":\n",
    "        print(i)"
   ]
  },
  {
   "cell_type": "code",
   "execution_count": 24,
   "metadata": {},
   "outputs": [],
   "source": [
    "duplicate_app = [] # [Instgram]\n",
    "unique_app = [] # [Instgram]\n",
    "\n",
    "for i in android:\n",
    "    app = i[0] # Instagram\n",
    "    if app in unique_app: # \n",
    "        duplicate_app.append(app)\n",
    "    else:\n",
    "        unique_app.append(app) # Instgram"
   ]
  },
  {
   "cell_type": "code",
   "execution_count": 25,
   "metadata": {},
   "outputs": [
    {
     "data": {
      "text/plain": [
       "1181"
      ]
     },
     "execution_count": 25,
     "metadata": {},
     "output_type": "execute_result"
    }
   ],
   "source": [
    "len(duplicate_app)"
   ]
  },
  {
   "cell_type": "code",
   "execution_count": 26,
   "metadata": {},
   "outputs": [
    {
     "data": {
      "text/plain": [
       "9660"
      ]
     },
     "execution_count": 26,
     "metadata": {},
     "output_type": "execute_result"
    }
   ],
   "source": [
    "len(unique_app)"
   ]
  },
  {
   "cell_type": "markdown",
   "metadata": {},
   "source": [
    "* SET"
   ]
  },
  {
   "cell_type": "code",
   "execution_count": 27,
   "metadata": {},
   "outputs": [
    {
     "data": {
      "text/plain": [
       "set"
      ]
     },
     "execution_count": 27,
     "metadata": {},
     "output_type": "execute_result"
    }
   ],
   "source": [
    "st = {\"Anas\",\"Mubashir\",\"Daniyal\",\"Daniyal\"}\n",
    "type(st)"
   ]
  },
  {
   "cell_type": "code",
   "execution_count": 28,
   "metadata": {},
   "outputs": [
    {
     "data": {
      "text/plain": [
       "{'Anas', 'Daniyal', 'Mubashir'}"
      ]
     },
     "execution_count": 28,
     "metadata": {},
     "output_type": "execute_result"
    }
   ],
   "source": [
    "st"
   ]
  },
  {
   "cell_type": "code",
   "execution_count": 29,
   "metadata": {},
   "outputs": [
    {
     "data": {
      "text/plain": [
       "10841"
      ]
     },
     "execution_count": 29,
     "metadata": {},
     "output_type": "execute_result"
    }
   ],
   "source": [
    "app_name = []\n",
    "\n",
    "for i in android:\n",
    "    app_name.append(i[0])\n",
    "\n",
    "len(app_name)"
   ]
  },
  {
   "cell_type": "code",
   "execution_count": 30,
   "metadata": {},
   "outputs": [
    {
     "data": {
      "text/plain": [
       "9660"
      ]
     },
     "execution_count": 30,
     "metadata": {},
     "output_type": "execute_result"
    }
   ],
   "source": [
    "unique = set(app_name)\n",
    "len(unique)"
   ]
  },
  {
   "cell_type": "code",
   "execution_count": 31,
   "metadata": {},
   "outputs": [
    {
     "data": {
      "text/plain": [
       "1181"
      ]
     },
     "execution_count": 31,
     "metadata": {},
     "output_type": "execute_result"
    }
   ],
   "source": [
    "10841 - 9660"
   ]
  },
  {
   "cell_type": "code",
   "execution_count": 32,
   "metadata": {},
   "outputs": [
    {
     "name": "stdout",
     "output_type": "stream",
     "text": [
      "['Instagram', 'SOCIAL', '4.5', '66577313', 'Varies with device', '1,000,000,000+', 'Free', '0', 'Teen', 'Social', 'July 31, 2018', 'Varies with device', 'Varies with device']\n",
      "['Instagram', 'SOCIAL', '4.5', '66577446', 'Varies with device', '1,000,000,000+', 'Free', '0', 'Teen', 'Social', 'July 31, 2018', 'Varies with device', 'Varies with device']\n",
      "['Instagram', 'SOCIAL', '4.5', '66577313', 'Varies with device', '1,000,000,000+', 'Free', '0', 'Teen', 'Social', 'July 31, 2018', 'Varies with device', 'Varies with device']\n",
      "['Instagram', 'SOCIAL', '4.5', '66509917', 'Varies with device', '1,000,000,000+', 'Free', '0', 'Teen', 'Social', 'July 31, 2018', 'Varies with device', 'Varies with device']\n"
     ]
    }
   ],
   "source": [
    "for i in android:\n",
    "    if i[0] == \"Instagram\":\n",
    "        print(i)"
   ]
  },
  {
   "cell_type": "code",
   "execution_count": 33,
   "metadata": {},
   "outputs": [
    {
     "name": "stdout",
     "output_type": "stream",
     "text": [
      "['App', 'Category', 'Rating', 'Reviews', 'Size', 'Installs', 'Type', 'Price', 'Content Rating', 'Genres', 'Last Updated', 'Current Ver', 'Android Ver']\n"
     ]
    }
   ],
   "source": [
    "print(header)"
   ]
  },
  {
   "cell_type": "code",
   "execution_count": 34,
   "metadata": {},
   "outputs": [],
   "source": [
    "review = {}\n",
    "\n",
    "for i in android:\n",
    "    app_name = i[0]\n",
    "    n_reviews = int(i[3])\n",
    "    if app_name in duplicate_app:\n",
    "        if app_name in review:\n",
    "            if n_reviews > review[app_name]:\n",
    "                review[app_name] = n_reviews\n",
    "        else:\n",
    "            review[app_name] = n_reviews"
   ]
  },
  {
   "cell_type": "code",
   "execution_count": 35,
   "metadata": {},
   "outputs": [
    {
     "data": {
      "text/plain": [
       "66577446"
      ]
     },
     "execution_count": 35,
     "metadata": {},
     "output_type": "execute_result"
    }
   ],
   "source": [
    "review[\"Instagram\"]"
   ]
  },
  {
   "cell_type": "code",
   "execution_count": 36,
   "metadata": {},
   "outputs": [
    {
     "data": {
      "text/plain": [
       "798"
      ]
     },
     "execution_count": 36,
     "metadata": {},
     "output_type": "execute_result"
    }
   ],
   "source": [
    "len(review)"
   ]
  },
  {
   "cell_type": "code",
   "execution_count": 37,
   "metadata": {},
   "outputs": [
    {
     "data": {
      "text/plain": [
       "10841"
      ]
     },
     "execution_count": 37,
     "metadata": {},
     "output_type": "execute_result"
    }
   ],
   "source": [
    "len(android)"
   ]
  },
  {
   "cell_type": "code",
   "execution_count": 38,
   "metadata": {},
   "outputs": [
    {
     "data": {
      "text/plain": [
       "['Photo Editor & Candy Camera & Grid & ScrapBook',\n",
       " 'ART_AND_DESIGN',\n",
       " '4.1',\n",
       " '159',\n",
       " '19M',\n",
       " '10,000+',\n",
       " 'Free',\n",
       " '0',\n",
       " 'Everyone',\n",
       " 'Art & Design',\n",
       " 'January 7, 2018',\n",
       " '1.0.0',\n",
       " '4.0.3 and up']"
      ]
     },
     "execution_count": 38,
     "metadata": {},
     "output_type": "execute_result"
    }
   ],
   "source": [
    "android[0]"
   ]
  },
  {
   "cell_type": "code",
   "execution_count": 39,
   "metadata": {},
   "outputs": [],
   "source": [
    "# high_rev = {} # {\"Instagram\": 12}\n",
    "\n",
    "# for i in android:\n",
    "    \n",
    "#     app_name = i[0] # Instagram\n",
    "#     review = int(i[3]) # 12\n",
    "    \n",
    "#     if app_name not in high_rev:\n",
    "#         high_rev[app_name] = reviews\n",
    "        \n",
    "#     else:\n",
    "#         if high_rev[app_name] < reviews:\n",
    "#             high_rev[app_name] = reviews # 12"
   ]
  },
  {
   "cell_type": "code",
   "execution_count": 40,
   "metadata": {},
   "outputs": [],
   "source": [
    "# len(high_rev)"
   ]
  },
  {
   "cell_type": "code",
   "execution_count": 41,
   "metadata": {},
   "outputs": [],
   "source": [
    "reviews = {} # {Instagram:12}\n",
    "\n",
    "for i in android:\n",
    "    app_name = i[0] # Instagram\n",
    "    n_review = int(i[3]) # 12\n",
    "    if app_name not in reviews:\n",
    "        reviews[app_name] = n_review\n",
    "    elif app_name in reviews and n_review > reviews[app_name]:\n",
    "        reviews[app_name] = n_review"
   ]
  },
  {
   "cell_type": "code",
   "execution_count": 42,
   "metadata": {},
   "outputs": [
    {
     "data": {
      "text/plain": [
       "9660"
      ]
     },
     "execution_count": 42,
     "metadata": {},
     "output_type": "execute_result"
    }
   ],
   "source": [
    "len(reviews)"
   ]
  },
  {
   "cell_type": "code",
   "execution_count": 43,
   "metadata": {},
   "outputs": [
    {
     "data": {
      "text/plain": [
       "10841"
      ]
     },
     "execution_count": 43,
     "metadata": {},
     "output_type": "execute_result"
    }
   ],
   "source": [
    "len(android)"
   ]
  },
  {
   "cell_type": "code",
   "execution_count": 44,
   "metadata": {},
   "outputs": [],
   "source": [
    "android_clean = []\n",
    "\n",
    "for i in android:\n",
    "    app_name = i[0] # Instagram\n",
    "    n_review = int(i[3]) # 12\n",
    "#     print(app_name, n_review)\n",
    "    if n_review == reviews[app_name]: # 12 == 12\n",
    "        android_clean.append(i)"
   ]
  },
  {
   "cell_type": "code",
   "execution_count": 45,
   "metadata": {},
   "outputs": [
    {
     "data": {
      "text/plain": [
       "10055"
      ]
     },
     "execution_count": 45,
     "metadata": {},
     "output_type": "execute_result"
    }
   ],
   "source": [
    "len(android_clean)"
   ]
  },
  {
   "cell_type": "code",
   "execution_count": 46,
   "metadata": {
    "scrolled": true
   },
   "outputs": [
    {
     "name": "stdout",
     "output_type": "stream",
     "text": [
      "['ZOOM Cloud Meetings', 'BUSINESS', '4.4', '31614', '37M', '10,000,000+', 'Free', '0', 'Everyone', 'Business', 'July 20, 2018', '4.1.28165.0716', '4.0 and up']\n",
      "['ZOOM Cloud Meetings', 'BUSINESS', '4.4', '31614', '37M', '10,000,000+', 'Free', '0', 'Everyone', 'Business', 'July 20, 2018', '4.1.28165.0716', '4.0 and up']\n"
     ]
    }
   ],
   "source": [
    "for i in android_clean:\n",
    "    if i[0] == \"ZOOM Cloud Meetings\":\n",
    "        print(i)"
   ]
  },
  {
   "cell_type": "code",
   "execution_count": 47,
   "metadata": {},
   "outputs": [
    {
     "data": {
      "text/plain": [
       "['Quick PDF Scanner + OCR FREE',\n",
       " 'Box',\n",
       " 'Google My Business',\n",
       " 'ZOOM Cloud Meetings',\n",
       " 'join.me - Simple Meetings',\n",
       " 'Box',\n",
       " 'Zenefits',\n",
       " 'Google Ads',\n",
       " 'Google My Business',\n",
       " 'Slack',\n",
       " 'FreshBooks Classic',\n",
       " 'Insightly CRM',\n",
       " 'QuickBooks Accounting: Invoicing & Expenses',\n",
       " 'HipChat - Chat Built for Teams',\n",
       " 'Xero Accounting Software',\n",
       " 'MailChimp - Email, Marketing Automation',\n",
       " 'Crew - Free Messaging and Scheduling',\n",
       " 'Asana: organize team projects',\n",
       " 'Google Analytics',\n",
       " 'AdWords Express',\n",
       " 'Accounting App - Zoho Books',\n",
       " 'Invoice & Time Tracking - Zoho',\n",
       " 'join.me - Simple Meetings',\n",
       " 'Invoice 2go — Professional Invoices and Estimates',\n",
       " 'SignEasy | Sign and Fill PDF and other Documents',\n",
       " 'Quick PDF Scanner + OCR FREE',\n",
       " 'Genius Scan - PDF Scanner',\n",
       " 'Tiny Scanner - PDF Scanner App',\n",
       " 'Fast Scanner : Free PDF Scan',\n",
       " 'Mobile Doc Scanner (MDScan) Lite',\n",
       " 'TurboScan: scan documents and receipts in PDF',\n",
       " 'Tiny Scanner Pro: PDF Doc Scan',\n",
       " 'Docs To Go™ Free Office Suite',\n",
       " 'OfficeSuite : Free Office + PDF Editor',\n",
       " 'Slack',\n",
       " 'QuickBooks Accounting: Invoicing & Expenses',\n",
       " 'WhatsApp Messenger',\n",
       " 'Messenger – Text and Video Chat for Free',\n",
       " 'imo free video calls and chat',\n",
       " 'Viber Messenger',\n",
       " 'Hangouts',\n",
       " 'WeChat',\n",
       " 'Telegram',\n",
       " 'Who',\n",
       " 'Google Voice',\n",
       " 'Android Messages',\n",
       " 'Firefox Focus: The privacy browser',\n",
       " 'Google Allo',\n",
       " 'Google Chrome: Fast & Secure',\n",
       " 'Firefox Browser fast & private',\n",
       " 'Puffin Web Browser',\n",
       " 'Opera Browser: Fast and Secure',\n",
       " 'Opera Mini - fast web browser',\n",
       " 'UC Browser Mini -Tiny Fast Private & Secure',\n",
       " 'UC Browser - Fast Download Private & Secure',\n",
       " 'Calls & Text by Mo+',\n",
       " 'Viber Messenger',\n",
       " 'Call Blocker',\n",
       " 'Gmail',\n",
       " 'Yahoo Mail – Stay Organized',\n",
       " 'Hangouts',\n",
       " 'imo free video calls and chat',\n",
       " 'free video calls and chat',\n",
       " 'Viber Messenger',\n",
       " 'Skype - free IM & video calls',\n",
       " 'WeChat',\n",
       " 'Glide - Video Chat Messenger',\n",
       " 'Talkray - Free Calls & Texts',\n",
       " 'LINE: Free Calls & Messages',\n",
       " 'KakaoTalk: Free Calls & Text',\n",
       " 'OkCupid Dating',\n",
       " 'CMB Free Dating App',\n",
       " 'Hily: Dating, Chat, Match, Meet & Hook up',\n",
       " 'Hinge: Dating & Relationships',\n",
       " 'BBW Dating & Plus Size Chat',\n",
       " 'Casual Dating & Adult Singles - Joyride',\n",
       " 'EliteSingles – Dating for Single Professionals',\n",
       " 'Clover Dating App',\n",
       " 'Moco - Chat, Meet People',\n",
       " 'Hot or Not - Find someone right now',\n",
       " 'Just She - Top Lesbian Dating',\n",
       " 'Once - Quality Matches Every day',\n",
       " 'Sudy – Meet Elite & Rich Single',\n",
       " 'muzmatch: Muslim & Arab Singles, Marriage & Dating',\n",
       " 'Chispa, the Dating App for Latino, Latina Singles',\n",
       " 'Blendr - Chat, Flirt & Meet',\n",
       " 'Find Real Love — YouLove Premium Dating',\n",
       " 'Cougar Dating Life : Date Older Women Sugar Mummy',\n",
       " 'stranger chat - anonymous chat',\n",
       " 'Millionaire Match: Rich Singles Dating App',\n",
       " 'Dating for 50 plus Mature Singles – FINALLY',\n",
       " 'Moco+ - Chat, Meet People',\n",
       " 'Chat Rooms, Avatars, Date - Galaxy',\n",
       " 'FastMeet: Chat, Dating, Love',\n",
       " 'Christian Dating For Free App',\n",
       " 'Meet24 - Love, Chat, Singles',\n",
       " 'Black White Interracial Dating - Interracial Match',\n",
       " 'Gay Sugar Daddy Dating & Hookup – Sudy Gay',\n",
       " 'Adult Dirty Emojis',\n",
       " 'Hide App, Private Dating, Safe Chat - PrivacyHider',\n",
       " 'Meet4U - Chat, Love, Singles!',\n",
       " '95Live -SG#1 Live Streaming App',\n",
       " 'Just She - Top Lesbian Dating',\n",
       " 'Hily: Dating, Chat, Match, Meet & Hook up',\n",
       " 'O-Star',\n",
       " 'Random Video Chat',\n",
       " 'Black People Meet Singles Date',\n",
       " 'Howlr',\n",
       " 'Free Dating & Flirt Chat - Choice of Love',\n",
       " 'Cardi B Live Stream Video Chat - Prank',\n",
       " 'Chat Kids - Chat Room For Kids',\n",
       " 'muzmatch: Muslim & Arab Singles, Marriage & Dating',\n",
       " 'BBW Dating & Plus Size Chat',\n",
       " 'Transenger – Ts Dating and Chat for Free',\n",
       " 'BBW Dating & Curvy Singles Chat- LargeFriends',\n",
       " 'MouseMingle',\n",
       " 'FlirtChat - ♥Free Dating/Flirting App♥',\n",
       " 'Live Talk - Free Text and Video Chat',\n",
       " 'Adult Dirty Emojis',\n",
       " 'Free Cam Girls - Live Webcam',\n",
       " 'Random Video Chat App With Strangers',\n",
       " 'Live Girls Talk - Free Video Chat',\n",
       " 'Girls Live Chat - Free Text & Video Chat',\n",
       " 'Free Dating App - Meet Local Singles - Flirt Chat',\n",
       " 'iPair-Meet, Chat, Dating',\n",
       " 'Free Dating Hook Up Messenger',\n",
       " 'Free Dating App - YoCutie - Flirt, Chat & Meet',\n",
       " 'Khan Academy',\n",
       " 'TED',\n",
       " 'Lumosity: #1 Brain Games & Cognitive Training App',\n",
       " 'Udemy - Online Courses',\n",
       " 'Khan Academy',\n",
       " 'TED',\n",
       " 'Duolingo: Learn Languages Free',\n",
       " 'Quizlet: Learn Languages & Vocab with Flashcards',\n",
       " 'Coursera: Online courses',\n",
       " 'Udemy - Online Courses',\n",
       " 'Udacity - Lifelong Learning',\n",
       " 'edX - Online Courses by Harvard, MIT & more',\n",
       " 'Lynda - Online Training Videos',\n",
       " 'Learn languages, grammar & vocabulary with Memrise',\n",
       " 'Brilliant',\n",
       " 'Babbel – Learn Languages',\n",
       " 'Duolingo: Learn Languages Free',\n",
       " 'Rosetta Stone: Learn to Speak & Read New Languages',\n",
       " 'Learn languages, grammar & vocabulary with Memrise',\n",
       " 'Learn English with Wlingua',\n",
       " 'Quizlet: Learn Languages & Vocab with Flashcards',\n",
       " 'Google Classroom',\n",
       " 'Duolingo: Learn Languages Free',\n",
       " 'Learn 50 languages',\n",
       " 'Mango Languages: Lovable Language Courses',\n",
       " 'Rosetta Stone: Learn to Speak & Read New Languages',\n",
       " 'Learn languages, grammar & vocabulary with Memrise',\n",
       " 'Babbel – Learn Languages',\n",
       " 'busuu: Learn Languages - Spanish, English & More',\n",
       " 'My Class Schedule: Timetable',\n",
       " 'Socratic - Math Answers & Homework Help',\n",
       " 'Google Classroom',\n",
       " 'ClassDojo',\n",
       " 'HelloTalk — Chat, Speak & Learn Foreign Languages',\n",
       " 'Quizlet: Learn Languages & Vocab with Flashcards',\n",
       " 'busuu: Learn Languages - Spanish, English & More',\n",
       " 'Rosetta Stone: Learn to Speak & Read New Languages',\n",
       " 'Movies by Flixster, with Rotten Tomatoes',\n",
       " 'IMDb Movies & TV',\n",
       " 'Netflix',\n",
       " 'IMDb Movies & TV',\n",
       " 'Netflix',\n",
       " 'Tubi TV - Free Movies & TV',\n",
       " 'Crunchyroll - Everything Anime',\n",
       " 'STARZ',\n",
       " 'Crackle - Free TV & Movies',\n",
       " 'CBS - Full Episodes & Live TV',\n",
       " 'Nick',\n",
       " 'Hulu: Stream TV, Movies & more',\n",
       " 'FOX NOW - On Demand & Live TV',\n",
       " 'The CW',\n",
       " 'HISTORY: Watch TV Show Full Episodes & Specials',\n",
       " 'HBO NOW: Stream TV & Movies',\n",
       " 'A&E - Watch Full Episodes of TV Shows',\n",
       " 'VH1',\n",
       " 'Lifetime - Watch Full Episodes & Original Movies',\n",
       " 'BET NOW - Watch Shows',\n",
       " 'Netflix',\n",
       " 'Tubi TV - Free Movies & TV',\n",
       " 'Crackle - Free TV & Movies',\n",
       " 'Crunchyroll - Everything Anime',\n",
       " 'Nick',\n",
       " 'STARZ',\n",
       " 'Hulu: Stream TV, Movies & more',\n",
       " 'Food Network',\n",
       " 'FOX NOW - On Demand & Live TV',\n",
       " 'Movies by Flixster, with Rotten Tomatoes',\n",
       " 'HISTORY: Watch TV Show Full Episodes & Specials',\n",
       " 'Viki: Asian TV Dramas & Movies',\n",
       " 'The CW',\n",
       " 'Univision NOW - Live TV and On Demand',\n",
       " 'HBO NOW: Stream TV & Movies',\n",
       " 'A&E - Watch Full Episodes of TV Shows',\n",
       " 'VH1',\n",
       " 'SHOWTIME',\n",
       " 'MTV',\n",
       " 'Lifetime - Watch Full Episodes & Original Movies',\n",
       " 'Comedy Central',\n",
       " 'BET NOW - Watch Shows',\n",
       " 'FOX',\n",
       " 'Telemundo Now',\n",
       " 'Viki: Asian TV Dramas & Movies',\n",
       " 'Nick',\n",
       " 'Fandango Movies - Times + Tickets',\n",
       " 'Google Pay',\n",
       " 'Wells Fargo Daily Change',\n",
       " 'Credit Karma',\n",
       " 'Robinhood - Investing, No Fees',\n",
       " 'Digit Save Money Automatically',\n",
       " 'Acorns - Invest Spare Change',\n",
       " 'Money Lover: Expense Tracker, Budget Planner',\n",
       " 'Mint: Budget, Bills, Finance',\n",
       " 'Simple - Better Banking',\n",
       " 'PayPal',\n",
       " 'Google Pay',\n",
       " 'Wells Fargo Mobile',\n",
       " 'Capital One® Mobile',\n",
       " 'Grubhub: Food Delivery',\n",
       " 'Postmates Food Delivery: Order Eats & Alcohol',\n",
       " \"Domino's Pizza USA\",\n",
       " 'Chick-fil-A',\n",
       " 'Zomato - Restaurant Finder and Food Delivery App',\n",
       " 'Run with Map My Run',\n",
       " 'Weight Loss Running by Verv',\n",
       " 'Nike+ Run Club',\n",
       " 'Runtastic Running App & Mile Tracker',\n",
       " '8fit Workouts & Meal Planner',\n",
       " 'Daily Yoga - Yoga Fitness Plans',\n",
       " 'Pocket Yoga',\n",
       " 'Calorie Counter - MyFitnessPal',\n",
       " 'Weight Loss Running by Verv',\n",
       " 'Nike+ Run Club',\n",
       " 'Seven - 7 Minute Workout Training Challenge',\n",
       " 'Weight Watchers Mobile',\n",
       " 'Walk with Map My Walk',\n",
       " 'Workout Trainer: fitness coach',\n",
       " 'Run with Map My Run',\n",
       " 'Nike Training Club - Workouts & Fitness Plans',\n",
       " 'Fitbit Coach',\n",
       " 'Calorie Counter - MyFitnessPal',\n",
       " 'Endomondo - Running & Walking',\n",
       " 'Runkeeper - GPS Track Run Walk',\n",
       " 'Nike+ Run Club',\n",
       " 'Runtastic Running App & Mile Tracker',\n",
       " 'Calorie Counter - MyFitnessPal',\n",
       " 'Lose It! - Calorie Counter',\n",
       " 'Calorie Counter - MyNetDiary',\n",
       " '10 Best Foods for You',\n",
       " 'MyPlate Calorie Tracker',\n",
       " 'Weight Loss Tracker - RecStyle',\n",
       " 'Calorie Counter by FatSecret',\n",
       " 'Calorie Counter - Macros',\n",
       " 'My Diet Diary Calorie Counter',\n",
       " 'Lark - 24/7 Health Coach',\n",
       " 'Weight Watchers Mobile',\n",
       " 'Calorie Counter & Diet Tracker',\n",
       " 'MealLogger-Photo Food Journal',\n",
       " 'Health and Nutrition Guide',\n",
       " 'Food Calorie Calculator',\n",
       " 'Calorie Counter - MyFitnessPal',\n",
       " 'Lose It! - Calorie Counter',\n",
       " 'Relax Meditation: Sleep with Sleep Sounds',\n",
       " 'Meditation Music - Relax, Yoga',\n",
       " '21-Day Meditation Experience',\n",
       " 'Fabulous: Motivate Me! Meditate, Relax, Sleep',\n",
       " 'Calm - Meditate, Sleep, Relax',\n",
       " 'Relax Melodies: Sleep Sounds',\n",
       " 'Simple Habit Meditation',\n",
       " 'Headspace: Meditation & Mindfulness',\n",
       " 'Daily Yoga - Yoga Fitness Plans',\n",
       " 'Houzz Interior Design Ideas',\n",
       " 'Mortgage by Zillow: Calculator & Rates',\n",
       " 'Redfin Real Estate',\n",
       " 'Apartment List: Housing, Apt, and Property Rentals',\n",
       " 'Realtor.com Real Estate: Homes for Sale and Rent',\n",
       " 'Trulia Real Estate & Rentals',\n",
       " 'Zillow: Find Houses for Sale & Apartments for Rent',\n",
       " 'Apartments & Rentals - Zillow',\n",
       " 'Trulia Rent Apartments & Homes',\n",
       " 'Apartments.com Rental Search',\n",
       " 'Houzz Interior Design Ideas',\n",
       " 'Vaniday - Beauty Booking App',\n",
       " 'StyleSeat',\n",
       " 'JOANN - Crafts & Coupons',\n",
       " 'Fashion in Vogue',\n",
       " 'Wheretoget: Shop in style',\n",
       " 'My Dressing - Fashion closet',\n",
       " 'Chictopia',\n",
       " 'Scarf Fashion Designer',\n",
       " 'Fashion in Vogue',\n",
       " 'Zara',\n",
       " 'Subway Surfers',\n",
       " 'ROBLOX',\n",
       " 'Pou',\n",
       " '8 Ball Pool',\n",
       " 'Clash of Clans',\n",
       " 'Candy Crush Saga',\n",
       " 'Plants vs. Zombies FREE',\n",
       " 'My Talking Angela',\n",
       " 'Bubble Shooter',\n",
       " 'Word Search',\n",
       " 'Candy Crush Soda Saga',\n",
       " 'Fishdom',\n",
       " 'Block Puzzle',\n",
       " 'Clash Royale',\n",
       " 'Sniper 3D Gun Shooter: Free Shooting Games - FPS',\n",
       " 'Granny',\n",
       " 'Galaxy Attack: Alien Shooter',\n",
       " 'Angry Birds Rio',\n",
       " 'Zombie Catchers',\n",
       " 'Zombie Hunter King',\n",
       " 'Temple Run 2',\n",
       " 'Zombie Tsunami',\n",
       " 'Farm Heroes Saga',\n",
       " 'Super Jim Jump - pixel 3d',\n",
       " 'slither.io',\n",
       " 'Angry Birds Classic',\n",
       " 'Flow Free',\n",
       " 'ROBLOX',\n",
       " 'Helix Jump',\n",
       " 'Subway Surfers',\n",
       " 'Candy Crush Saga',\n",
       " 'Toon Blast',\n",
       " 'Granny',\n",
       " '8 Ball Pool',\n",
       " 'Sniper 3D Gun Shooter: Free Shooting Games - FPS',\n",
       " 'slither.io',\n",
       " 'Temple Run 2',\n",
       " 'Kick the Buddy',\n",
       " 'Magic Tiles 3',\n",
       " 'Bowmasters',\n",
       " 'Wordscapes',\n",
       " 'Block Craft 3D: Building Simulator Games For Free',\n",
       " 'Helix Jump',\n",
       " 'PUBG MOBILE',\n",
       " 'Wordscapes',\n",
       " 'DRAGON BALL LEGENDS',\n",
       " 'ROBLOX',\n",
       " 'Candy Crush Saga',\n",
       " '8 Ball Pool',\n",
       " 'Harry Potter: Hogwarts Mystery',\n",
       " 'PUBG MOBILE',\n",
       " 'MARVEL Strike Force',\n",
       " 'Merge Dragons!',\n",
       " 'Honkai Impact 3rd',\n",
       " 'Candy Crush Saga',\n",
       " 'ROBLOX',\n",
       " '8 Ball Pool',\n",
       " 'Subway Surfers',\n",
       " 'Candy Crush Soda Saga',\n",
       " 'Zombie Hunter King',\n",
       " 'Bubble Shooter',\n",
       " 'Toon Blast',\n",
       " 'Toy Blast',\n",
       " 'Clash Royale',\n",
       " 'Clash of Clans',\n",
       " 'Farm Heroes Saga',\n",
       " 'Plants vs. Zombies FREE',\n",
       " 'Word Search',\n",
       " 'Block Puzzle',\n",
       " 'Super Jim Jump - pixel 3d',\n",
       " 'Pou',\n",
       " 'Temple Run 2',\n",
       " 'Flow Free',\n",
       " 'Homescapes',\n",
       " 'Wordscapes',\n",
       " 'My Talking Angela',\n",
       " 'slither.io',\n",
       " 'Cooking Fever',\n",
       " 'Gardenscapes',\n",
       " 'Fishdom',\n",
       " 'Galaxy Attack: Alien Shooter',\n",
       " 'Score! Hero',\n",
       " 'Zombie Catchers',\n",
       " 'Magic Tiles 3',\n",
       " 'Granny',\n",
       " 'Dream League Soccer 2018',\n",
       " 'Fruits Bomb',\n",
       " 'Angry Birds Classic',\n",
       " 'Talking Tom Gold Run',\n",
       " 'Bowmasters',\n",
       " 'My Talking Tom',\n",
       " 'Hill Climb Racing',\n",
       " 'Sniper 3D Gun Shooter: Free Shooting Games - FPS',\n",
       " 'Pixel Art: Color by Number Game',\n",
       " 'Rider',\n",
       " 'Zombie Tsunami',\n",
       " 'Garena Free Fire',\n",
       " 'Subway Surfers',\n",
       " 'Helix Jump',\n",
       " 'Temple Run 2',\n",
       " 'slither.io',\n",
       " 'Bowmasters',\n",
       " 'Talking Tom Gold Run',\n",
       " 'Zombie Catchers',\n",
       " 'Sniper 3D Gun Shooter: Free Shooting Games - FPS',\n",
       " 'Miraculous Ladybug & Cat Noir - The Official Game',\n",
       " 'Kick the Buddy',\n",
       " 'DRAGON BALL LEGENDS',\n",
       " 'Zombie Hunter King',\n",
       " 'Garena Free Fire',\n",
       " 'Candy Crush Saga',\n",
       " 'Plants vs. Zombies FREE',\n",
       " 'Block Puzzle',\n",
       " 'Helix Jump',\n",
       " '8 Ball Pool',\n",
       " 'Bubble Shooter',\n",
       " 'Solitaire',\n",
       " 'Traffic Racer',\n",
       " 'Hill Climb Racing',\n",
       " 'Earn to Die 2',\n",
       " 'Bubble Shooter 2',\n",
       " 'Flow Free',\n",
       " 'Zombie Catchers',\n",
       " 'Angry Birds Rio',\n",
       " 'Candy Crush Jelly Saga',\n",
       " 'Cut the Rope FULL FREE',\n",
       " 'Jewels Star: OZ adventure',\n",
       " 'Hungry Shark Evolution',\n",
       " 'Angry Birds Classic',\n",
       " 'Best Fiends - Free Puzzle Game',\n",
       " 'Hill Climb Racing 2',\n",
       " 'Swamp Attack',\n",
       " 'Bowmasters',\n",
       " 'Magic Tiles 3',\n",
       " 'Block Puzzle Classic Legend !',\n",
       " 'Pixel Art: Color by Number Game',\n",
       " 'Score! Hero',\n",
       " 'Zombie Tsunami',\n",
       " 'DEAD TARGET: FPS Zombie Apocalypse Survival Games',\n",
       " 'Word Search',\n",
       " 'Farm Heroes Saga',\n",
       " 'YouTube Kids',\n",
       " 'Candy Bomb',\n",
       " 'ROBLOX',\n",
       " 'Solitaire',\n",
       " 'Princess Coloring Book',\n",
       " 'Hello Kitty Nail Salon',\n",
       " 'Dog Run - Pet Dog Simulator',\n",
       " 'Coloring book moana',\n",
       " 'Bubble Shooter',\n",
       " 'Barbie™ Fashion Closet',\n",
       " 'Minion Rush: Despicable Me Official Game',\n",
       " 'No.Draw - Colors by Number 2018',\n",
       " 'Duolingo: Learn Languages Free',\n",
       " 'Super ABC! Learning games for kids! Preschool apps',\n",
       " 'ROBLOX',\n",
       " 'PJ Masks: Moonlight Heroes',\n",
       " 'Minion Rush: Despicable Me Official Game',\n",
       " 'Dog Run - Pet Dog Simulator',\n",
       " 'Hot Wheels: Race Off',\n",
       " 'Farming Simulator 14',\n",
       " 'Mcqueen Coloring pages',\n",
       " 'Monster Truck Driver & Racing',\n",
       " 'Strawberry Shortcake BerryRush',\n",
       " 'DC Super Hero Girls™',\n",
       " 'Toca Kitchen 2',\n",
       " 'DC Super Hero Girls™',\n",
       " 'Strawberry Shortcake BerryRush',\n",
       " 'Disney Magic Kingdoms: Build Your Own Magical Park',\n",
       " 'Toca Life: City',\n",
       " 'Papumba Academy - Fun Learning For Kids',\n",
       " 'Kids Balloon Pop Game Free 🎈',\n",
       " 'Sounds for Toddlers FREE',\n",
       " 'Elmo Calls by Sesame Street',\n",
       " 'Sago Mini Friends',\n",
       " 'Papumba Academy - Fun Learning For Kids',\n",
       " 'Tee and Mo Bath Time Free',\n",
       " 'Bita and the Animals - Pelos Ares',\n",
       " 'TO-FU Oh!SUSHI',\n",
       " 'DreamWorks Friends',\n",
       " 'Avokiddo Emotions',\n",
       " 'Nighty Night Circus',\n",
       " 'Sago Mini Babies',\n",
       " \"Dr. Panda & Toto's Treehouse\",\n",
       " 'ROBLOX',\n",
       " 'PlayKids - Educational cartoons and games for kids',\n",
       " 'YouTube Kids',\n",
       " 'Baby Panda Care',\n",
       " 'Monster High™',\n",
       " 'Duolingo: Learn Languages Free',\n",
       " 'Shopkins World!',\n",
       " 'DisneyNOW – TV Shows & Games',\n",
       " 'Equestria Girls',\n",
       " 'Frozen Free Fall',\n",
       " 'Nick',\n",
       " 'Thomas & Friends: Race On!',\n",
       " 'Inside Out Thought Bubbles',\n",
       " 'Sago Mini Friends',\n",
       " 'School of Dragons',\n",
       " 'Peak – Brain Games & Training',\n",
       " 'Period Tracker',\n",
       " 'Vargo Anesthesia Mega App',\n",
       " 'Monash Uni Low FODMAP Diet',\n",
       " 'mySugr: the blood sugar tracker made just for you',\n",
       " 'Human Anatomy Atlas 2018: Complete 3D Human Body',\n",
       " 'ASCCP Mobile',\n",
       " 'Paramedic Protocol Provider',\n",
       " '2017 EMRA Antibiotic Guide',\n",
       " 'Essential Anatomy 3',\n",
       " 'EMT PASS',\n",
       " 'Block Buddy',\n",
       " 'EMT Review Plus',\n",
       " 'Journal Club: Medicine',\n",
       " 'Pedi STAT',\n",
       " 'AnatomyMapp',\n",
       " 'Diabetes & Diet Tracker',\n",
       " 'A Manual of Acupuncture',\n",
       " 'PTA Content Master',\n",
       " 'Muscle Premium - Human Anatomy, Kinesiology, Bones',\n",
       " 'Cardiac diagnosis (heart rate, arrhythmia)',\n",
       " 'Medical ID - In Case of Emergency (ICE)',\n",
       " 'IBM Micromedex Drug Info',\n",
       " 'Advanced Comprehension Therapy',\n",
       " 'Hospitalist Handbook',\n",
       " 'Teladoc Member',\n",
       " 'Ada - Your Health Guide',\n",
       " 'Ovia Fertility Tracker & Ovulation Calculator',\n",
       " 'Youper - AI Therapy',\n",
       " 'MoodSpace',\n",
       " 'Super Hearing Super Ear Amplifier',\n",
       " 'Penn State Health OnDemand',\n",
       " 'ScriptSave WellRx Rx Discounts',\n",
       " 'Free Blood Pressure',\n",
       " 'All Mental disorders',\n",
       " 'Nurse Grid',\n",
       " 'JH Blood Pressure Monitor',\n",
       " 'Blood Pressure',\n",
       " 'RT 516 VET',\n",
       " 'Anthem Anywhere',\n",
       " 'Sway Medical',\n",
       " \"fred's Pharmacy\",\n",
       " 'Breastfeeding Tracker Baby Log',\n",
       " 'Banfield Pet Health Tracker',\n",
       " '1800 Contacts - Lens Store',\n",
       " 'TextNow - free text + calls',\n",
       " 'Tumblr',\n",
       " 'Snapchat',\n",
       " 'Instagram',\n",
       " 'Periscope - Live Video',\n",
       " 'Snapchat',\n",
       " 'Instagram',\n",
       " 'Pinterest',\n",
       " 'MeetMe: Chat & Meet New People',\n",
       " 'ooVoo Video Calls, Messaging & Stories',\n",
       " 'LinkedIn',\n",
       " 'Tango - Live Video Broadcast',\n",
       " 'SayHi Chat, Meet New People',\n",
       " 'Tapatalk - 100,000+ Forums',\n",
       " 'Badoo - Free Chat & Dating App',\n",
       " 'Nextdoor - Local neighborhood news & classifieds',\n",
       " 'MeetMe: Chat & Meet New People',\n",
       " 'Meetup',\n",
       " 'Text Free: WiFi Calling App',\n",
       " 'textPlus: Free Text & Calls',\n",
       " 'Meetup',\n",
       " 'POF Free Dating App',\n",
       " 'MeetMe: Chat & Meet New People',\n",
       " 'Tagged - Meet, Chat & Dating',\n",
       " 'LOVOO',\n",
       " 'SKOUT - Meet, Chat, Go Live',\n",
       " 'Badoo - Free Chat & Dating App',\n",
       " 'Jaumo Dating, Flirt & Live Video',\n",
       " 'SayHi Chat, Meet New People',\n",
       " 'Couple - Relationship App',\n",
       " 'Meetup',\n",
       " 'Wish - Shopping Made Fun',\n",
       " 'SnipSnap Coupon App',\n",
       " 'Extreme Coupon Finder',\n",
       " 'Checkout 51: Grocery coupons',\n",
       " 'The Coupons App',\n",
       " 'RetailMeNot - Coupons, Deals & Discount Shopping',\n",
       " 'Groupon - Shop Deals, Discounts & Coupons',\n",
       " 'Stocard - Rewards Cards Wallet',\n",
       " 'Extreme Coupon Finder',\n",
       " 'eBay: Buy & Sell this Summer - Discover Deals Now!',\n",
       " 'Checkout 51: Grocery coupons',\n",
       " 'Gyft - Mobile Gift Card Wallet',\n",
       " 'Shopkick: Free Gift Cards, Shop Rewards & Deals',\n",
       " 'The Coupons App',\n",
       " 'Shopular: Coupons, Weekly Ads & Shopping Deals',\n",
       " 'Wish - Shopping Made Fun',\n",
       " 'Carousell: Snap-Sell, Chat-Buy',\n",
       " 'Walmart',\n",
       " 'Ibotta: Cash Back Savings, Rewards & Coupons App',\n",
       " 'AliExpress - Smarter Shopping, Better Living',\n",
       " 'LivingSocial - Local Deals',\n",
       " 'Amazon Shopping',\n",
       " 'RetailMeNot - Coupons, Deals & Discount Shopping',\n",
       " 'Poshmark - Buy & Sell Fashion',\n",
       " 'Target - now with Cartwheel',\n",
       " 'ZALORA Fashion Shopping',\n",
       " 'eBay: Buy & Sell this Summer - Discover Deals Now!',\n",
       " 'Fancy',\n",
       " \"Modcloth – Unique Indie Women's Fashion & Style\",\n",
       " 'Gyft - Mobile Gift Card Wallet',\n",
       " \"JackThreads: Men's Shopping\",\n",
       " 'LivingSocial - Local Deals',\n",
       " 'Zappos – Shoe shopping made simple',\n",
       " 'Wanelo Shopping',\n",
       " 'Etsy: Handmade & Vintage Goods',\n",
       " 'Groupon - Shop Deals, Discounts & Coupons',\n",
       " 'eBay: Buy & Sell this Summer - Discover Deals Now!',\n",
       " \"JackThreads: Men's Shopping\",\n",
       " 'AliExpress - Smarter Shopping, Better Living',\n",
       " 'Slickdeals: Coupons & Shopping',\n",
       " 'Target - now with Cartwheel',\n",
       " 'Wish - Shopping Made Fun',\n",
       " 'Fancy',\n",
       " 'ASOS',\n",
       " 'Google Photos',\n",
       " 'Shutterfly: Free Prints, Photo Books, Cards, Gifts',\n",
       " 'InstaBeauty -Makeup Selfie Cam',\n",
       " 'B612 - Beauty & Filter Camera',\n",
       " 'BeautyPlus - Easy Photo Editor & Selfie Camera',\n",
       " 'YouCam Perfect - Selfie Photo Editor',\n",
       " 'Google Photos',\n",
       " 'Muzy - Share photos & collages',\n",
       " 'QuickPic - Photo Gallery with Google Drive Support',\n",
       " 'Flickr',\n",
       " 'Shutterfly: Free Prints, Photo Books, Cards, Gifts',\n",
       " 'Open Camera',\n",
       " 'Camera for Android',\n",
       " 'Cymera Camera- Photo Editor, Filter,Collage,Layout',\n",
       " 'Candy Camera - selfie, beauty camera, photo editor',\n",
       " 'Camera360: Selfie Photo Editor with Funny Sticker',\n",
       " 'Facetune - For Free',\n",
       " 'Photo Editor Selfie Camera Filter & Mirror Image',\n",
       " 'HD Camera for Android',\n",
       " 'Photo Editor Pro',\n",
       " 'YouCam Makeup - Magic Selfie Makeovers',\n",
       " 'Photo Editor-',\n",
       " 'Camera for Android',\n",
       " 'Photo Editor',\n",
       " 'Cymera Camera- Photo Editor, Filter,Collage,Layout',\n",
       " 'Adobe Photoshop Express:Photo Editor Collage Maker',\n",
       " 'BeautyPlus - Easy Photo Editor & Selfie Camera',\n",
       " 'InstaSize Photo Filters & Collage Editor',\n",
       " 'Candy Camera - selfie, beauty camera, photo editor',\n",
       " 'YouCam Perfect - Selfie Photo Editor',\n",
       " 'Camera360: Selfie Photo Editor with Funny Sticker',\n",
       " 'Facetune - For Free',\n",
       " 'Shutterfly: Free Prints, Photo Books, Cards, Gifts',\n",
       " 'BeautyPlus - Easy Photo Editor & Selfie Camera',\n",
       " 'CBS Sports App - Scores, News, Stats & Watch Live',\n",
       " 'Yahoo Fantasy Sports - #1 Rated Fantasy App',\n",
       " 'ESPN',\n",
       " 'NFL',\n",
       " 'Bleacher Report: sports news, scores, & highlights',\n",
       " 'ESPN Fantasy Sports',\n",
       " 'theScore: Live Sports Scores, News, Stats & Videos',\n",
       " 'CBS Sports App - Scores, News, Stats & Watch Live',\n",
       " 'ESPN',\n",
       " 'MLB At Bat',\n",
       " 'CBS Sports App - Scores, News, Stats & Watch Live',\n",
       " 'WatchESPN',\n",
       " 'Hole19: Golf GPS App, Rangefinder & Scorecard',\n",
       " 'Yahoo Fantasy Sports - #1 Rated Fantasy App',\n",
       " 'ESPN Fantasy Sports',\n",
       " 'CBS Sports Fantasy',\n",
       " 'ESPN',\n",
       " 'Bleacher Report: sports news, scores, & highlights',\n",
       " 'theScore: Live Sports Scores, News, Stats & Videos',\n",
       " 'CBS Sports App - Scores, News, Stats & Watch Live',\n",
       " 'ESPN',\n",
       " 'Bleacher Report: sports news, scores, & highlights',\n",
       " 'MLB At Bat',\n",
       " 'theScore: Live Sports Scores, News, Stats & Videos',\n",
       " 'CBS Sports App - Scores, News, Stats & Watch Live',\n",
       " 'Yahoo Sports - scores, stats, news, & highlights',\n",
       " 'WatchESPN',\n",
       " 'FotMob - Live Soccer Scores',\n",
       " 'Yahoo Fantasy Sports - #1 Rated Fantasy App',\n",
       " 'ESPN',\n",
       " 'NFL',\n",
       " 'US Open Tennis Championships 2018',\n",
       " 'Bleacher Report: sports news, scores, & highlights',\n",
       " 'MLB At Bat',\n",
       " 'FIFA - Tournaments, Soccer News & Live Scores',\n",
       " 'theScore: Live Sports Scores, News, Stats & Videos',\n",
       " 'Golfshot: Golf GPS + Tee Times',\n",
       " 'BBC Sport',\n",
       " 'CBS Sports App - Scores, News, Stats & Watch Live',\n",
       " 'Yahoo Sports - scores, stats, news, & highlights',\n",
       " 'WatchESPN',\n",
       " 'MLB Ballpark',\n",
       " 'FOX Sports: Live Streaming, Scores & News',\n",
       " 'Fantasy Football',\n",
       " 'PGA TOUR',\n",
       " 'UFC',\n",
       " 'trivago: Hotels & Travel',\n",
       " 'Expedia Hotels, Flights & Car Rental Travel Deals',\n",
       " 'TripAdvisor Hotels Flights Restaurants Attractions',\n",
       " 'Skyscanner',\n",
       " 'Booking.com Travel Deals',\n",
       " 'TripAdvisor Hotels Flights Restaurants Attractions',\n",
       " 'Priceline Hotel Deals, Rental Cars & Flights',\n",
       " 'United Airlines',\n",
       " 'Expedia Hotels, Flights & Car Rental Travel Deals',\n",
       " 'Southwest Airlines',\n",
       " 'Hopper - Watch & Book Flights',\n",
       " 'Fly Delta',\n",
       " 'KAYAK Flights, Hotels & Cars',\n",
       " 'American Airlines',\n",
       " 'Skyscanner',\n",
       " 'Priceline Hotel Deals, Rental Cars & Flights',\n",
       " 'trivago: Hotels & Travel',\n",
       " 'Expedia Hotels, Flights & Car Rental Travel Deals',\n",
       " 'KAYAK Flights, Hotels & Cars',\n",
       " 'Orbitz - Hotels, Flights & Package Deals',\n",
       " 'Skyscanner',\n",
       " 'Hotels.com: Book Hotel Rooms & Find Vacation Deals',\n",
       " 'Booking.com Travel Deals',\n",
       " 'Hostelworld: Hostels & Cheap Hotels Travel App',\n",
       " 'TripAdvisor Hotels Flights Restaurants Attractions',\n",
       " 'Airbnb',\n",
       " 'Skyscanner',\n",
       " 'HotelTonight: Book amazing deals at great hotels',\n",
       " 'Maps - Navigate & Explore',\n",
       " 'Google Street View',\n",
       " 'Calculator',\n",
       " 'Gboard - the Google Keyboard',\n",
       " 'ZEDGE™ Ringtones & Wallpapers',\n",
       " 'ZEDGE™ Ringtones & Wallpapers',\n",
       " 'Nova Launcher',\n",
       " 'Apex Launcher',\n",
       " 'Smart Launcher 5',\n",
       " 'Google Keep',\n",
       " 'Evernote – Organizer, Planner for Notes & Memos',\n",
       " 'ES File Explorer File Manager',\n",
       " 'Microsoft Word',\n",
       " 'Google Drive',\n",
       " 'Adobe Acrobat Reader',\n",
       " 'Google PDF Viewer',\n",
       " 'Microsoft Excel',\n",
       " 'Google Docs',\n",
       " 'Microsoft PowerPoint',\n",
       " 'Microsoft OneNote',\n",
       " 'Google Calendar',\n",
       " 'Google Keep',\n",
       " 'Wunderlist: To-Do List & Tasks',\n",
       " 'Evernote – Organizer, Planner for Notes & Memos',\n",
       " 'Any.do: To-do list, Calendar, Reminders & Planner',\n",
       " 'Todoist: To-do lists for task management & errands',\n",
       " 'Microsoft OneNote',\n",
       " 'Planner Pro-Personal Organizer',\n",
       " 'Google Calendar',\n",
       " 'Google Drive',\n",
       " 'Microsoft OneDrive',\n",
       " 'Dropbox',\n",
       " 'MX Player',\n",
       " 'Video Editor',\n",
       " 'Google News',\n",
       " 'Flipboard: News For Our Time',\n",
       " 'BBC News',\n",
       " 'Fox News – Breaking News, Live Video & News Alerts',\n",
       " 'USA TODAY',\n",
       " 'CNN Breaking US & World News',\n",
       " 'Twitter',\n",
       " 'BBC News',\n",
       " 'NPR News',\n",
       " 'Fox News – Breaking News, Live Video & News Alerts',\n",
       " 'Haystack TV: Local & World News - Free',\n",
       " 'ABC News - US & World News',\n",
       " 'USA TODAY',\n",
       " 'NBC News',\n",
       " 'The Wall Street Journal: Business & Market News',\n",
       " 'CNN Breaking US & World News',\n",
       " 'NYTimes - Latest News',\n",
       " 'Newsroom: News Worth Sharing',\n",
       " 'Google News',\n",
       " 'BuzzFeed: News, Tasty, Quizzes',\n",
       " 'Flipboard: News For Our Time',\n",
       " 'Snapchat',\n",
       " 'Flashlight',\n",
       " 'Pou',\n",
       " 'Agar.io',\n",
       " 'Angry Birds Classic',\n",
       " 'My Talking Tom',\n",
       " 'Netflix',\n",
       " 'Bubble Shooter',\n",
       " 'Adobe Acrobat Reader',\n",
       " 'Subway Surfers',\n",
       " 'LEGO® Juniors Create & Cruise',\n",
       " 'WhatsApp Messenger',\n",
       " 'Google Translate',\n",
       " 'Pokémon GO',\n",
       " 'Instagram',\n",
       " 'My Talking Angela',\n",
       " 'YouTube Kids',\n",
       " 'PAC-MAN',\n",
       " 'Colorfy: Coloring Book for Adults - Free',\n",
       " 'Toca Kitchen 2',\n",
       " 'Amazon Shopping',\n",
       " 'Chick-fil-A',\n",
       " 'YouTube',\n",
       " 'Flow Free',\n",
       " 'Microsoft Word',\n",
       " \"Alto's Adventure\",\n",
       " 'Zombie Tsunami',\n",
       " 'Facebook',\n",
       " 'B612 - Beauty & Filter Camera',\n",
       " 'Block Craft 3D: Building Simulator Games For Free',\n",
       " '8 Ball Pool',\n",
       " 'VPN Free - Betternet Hotspot VPN & Private Browser',\n",
       " 'EMT Tutor NREMT-B Study Guide',\n",
       " 'EMT-B Pocket Prep',\n",
       " 'UC Browser - Fast Download Private & Secure',\n",
       " 'Hungry Shark Evolution',\n",
       " 'Diary with lock',\n",
       " 'Clash of Clans',\n",
       " 'Clash Royale',\n",
       " 'C Programming',\n",
       " 'CppDroid - C/C++ IDE',\n",
       " 'Candy Crush Saga',\n",
       " 'Google Chrome: Fast & Secure',\n",
       " 'Learn C++',\n",
       " 'Hill Climb Racing',\n",
       " 'ZEDGE™ Ringtones & Wallpapers',\n",
       " 'Minion Rush: Despicable Me Official Game',\n",
       " 'Google Duo - High Quality Video Calls',\n",
       " 'Crossy Road',\n",
       " 'Temple Run 2',\n",
       " 'Dropbox',\n",
       " 'Sniper 3D Gun Shooter: Free Shooting Games - FPS',\n",
       " 'Plants vs. Zombies FREE',\n",
       " 'Dream League Soccer 2018',\n",
       " 'eBay: Buy & Sell this Summer - Discover Deals Now!',\n",
       " 'ESPN',\n",
       " 'ES File Explorer File Manager',\n",
       " 'Firefox Browser fast & private',\n",
       " 'E*TRADE Mobile',\n",
       " 'WWE',\n",
       " 'Amazon Kindle',\n",
       " 'Evernote – Organizer, Planner for Notes & Memos',\n",
       " 'Microsoft Edge',\n",
       " 'Microsoft Outlook',\n",
       " 'Pinterest',\n",
       " 'ClassDojo',\n",
       " 'The Coupons App',\n",
       " 'Ebook Reader',\n",
       " 'Gmail',\n",
       " 'Maps - Navigate & Explore',\n",
       " 'AliExpress - Smarter Shopping, Better Living',\n",
       " 'Flipkart Online Shopping App',\n",
       " 'Wish - Shopping Made Fun',\n",
       " 'Messenger – Text and Video Chat for Free',\n",
       " 'Facebook Lite',\n",
       " 'Messenger Lite: Free Calls & Messages',\n",
       " 'Twitter',\n",
       " 'LINE: Free Calls & Messages',\n",
       " 'imo beta free calls and text',\n",
       " 'Geometry Dash World',\n",
       " 'Google+',\n",
       " 'PUBG MOBILE',\n",
       " 'Gboard - the Google Keyboard',\n",
       " 'Granny',\n",
       " 'Google',\n",
       " 'Hangouts',\n",
       " 'G Cloud Backup',\n",
       " 'Google Drive',\n",
       " 'Helix Jump',\n",
       " 'H&M',\n",
       " 'H TV',\n",
       " 'Talking Ben the Dog',\n",
       " 'imo free video calls and chat',\n",
       " 'free video calls and chat',\n",
       " 'slither.io',\n",
       " 'POF Free Dating App',\n",
       " 'Skype - free IM & video calls',\n",
       " 'Sonic Dash',\n",
       " 'Text Free: WiFi Calling App',\n",
       " 'Talkatone: Free Texts, Calls & Phone Number',\n",
       " 'Textgram - write on photos',\n",
       " 'Zombie Catchers',\n",
       " 'Jetpack Joyride',\n",
       " 'Anger of stick 5 : zombie',\n",
       " 'Cut the Rope FULL FREE',\n",
       " 'Turbo FAST',\n",
       " 'K PLUS',\n",
       " 'PowerDirector Video Editor App: 4K, Slow Mo & More',\n",
       " 'Fuzzy Numbers: Pre-K Number Foundation',\n",
       " 'KakaoTalk: Free Calls & Text',\n",
       " 'LiveMe - Video chat, new friends, and make money',\n",
       " 'Talking Tom Gold Run',\n",
       " 'letgo: Buy & Sell Used Stuff, Cars & Real Estate',\n",
       " 'Love Balls',\n",
       " 'Last Day on Earth: Survival',\n",
       " 'Minecraft',\n",
       " 'MEGA',\n",
       " 'MX Player',\n",
       " 'I’m Expecting - Pregnancy App',\n",
       " 'Diabetes:M',\n",
       " 'Opera Mini - fast web browser',\n",
       " 'Opera Browser: Fast and Secure',\n",
       " 'O-Star',\n",
       " 'PicsArt Photo Studio: Collage Maker & Pic Editor',\n",
       " 'Quora',\n",
       " 'ROBLOX',\n",
       " 'SHAREit - Transfer & Share',\n",
       " 'Tumblr',\n",
       " 'Topbuzz: Breaking News, Videos & Funny GIFs',\n",
       " 'Twitch: Livestream Multiplayer Games & Esports',\n",
       " 'Telegram',\n",
       " 'myAT&T',\n",
       " 'Truecaller: Caller ID, SMS spam blocking & Dialer',\n",
       " 'Showtime Anytime',\n",
       " 'UC Browser Mini -Tiny Fast Private & Secure',\n",
       " 'Uber',\n",
       " 'Viber Messenger',\n",
       " 'VLC for Android',\n",
       " 'Vigo Video',\n",
       " 'WeChat',\n",
       " 'Wattpad 📖 Free Books',\n",
       " 'Waze - GPS, Maps, Traffic Alerts & Live Navigation',\n",
       " 'Dating App, Flirt & Chat : W-Match',\n",
       " 'WPS Office - Word, Docs, PDF, Note, Slide & Sheet',\n",
       " 'LINE WEBTOON - Free Comics',\n",
       " 'WhatsApp Business',\n",
       " 'We Heart It',\n",
       " 'TripAdvisor Hotels Flights Restaurants Attractions',\n",
       " 'Telegram X',\n",
       " 'Share Music & Transfer Files - Xender',\n",
       " 'Yandex Browser with Protect',\n",
       " 'YouTube Studio',\n",
       " 'Yahoo Mail – Stay Organized',\n",
       " 'PBS KIDS Video',\n",
       " 'YouTube Gaming',\n",
       " 'GO Keyboard - Emoticon keyboard, Free Theme, GIF',\n",
       " 'Zello PTT Walkie Talkie',\n",
       " 'Z Camera - Photo Editor, Beauty Selfie, Collage',\n",
       " 'Six Pack in 30 Days - Abs Workout',\n",
       " 'Angry Birds 2',\n",
       " 'Angry Birds Rio',\n",
       " 'AC - Tips & News for Android™',\n",
       " 'CM Browser - Ad Blocker , Fast Download , Privacy',\n",
       " 'Google Ads',\n",
       " 'Mobi Calculator free & AD free!',\n",
       " 'Flipp - Weekly Shopping',\n",
       " 'A&E - Watch Full Episodes of TV Shows',\n",
       " 'Camera FV-5 Lite',\n",
       " 'Cardiac diagnosis (heart rate, arrhythmia)',\n",
       " 'Open Camera',\n",
       " 'All Football - Latest News & Videos',\n",
       " 'Maricopa AH',\n",
       " 'Youper - AI Therapy',\n",
       " 'Animal Jam - Play Wild!',\n",
       " 'RULES OF SURVIVAL',\n",
       " 'Amazon for Tablets',\n",
       " 'Final Fantasy XV: A New Empire',\n",
       " 'The Sims™ FreePlay',\n",
       " 'Text free - Free Text + Call',\n",
       " 'Google Photos',\n",
       " '365Scores - Live Scores',\n",
       " 'DINO HUNTER: DEADLY SHORES',\n",
       " 'AP Mobile - Breaking News',\n",
       " 'Reuters News',\n",
       " 'Puffin Web Browser',\n",
       " 'AccuWeather: Daily Forecast & Live Weather Reports',\n",
       " 'Moovit: Bus Time & Train Time Live Info',\n",
       " 'Jurassic World™ Alive',\n",
       " 'Houzz Interior Design Ideas',\n",
       " 'NYTimes - Latest News',\n",
       " 'Overstock – Home Decor, Furniture Shopping',\n",
       " 'Google Voice',\n",
       " 'Choices: Stories You Play',\n",
       " 'Runtastic Sleep Better: Sleep Cycle & Smart Alarm',\n",
       " 'Google Pay',\n",
       " 'Ringtone Maker',\n",
       " 'Google Allo',\n",
       " 'Plants vs. Zombies™ Heroes',\n",
       " 'CM FILE MANAGER HD',\n",
       " 'MLB At Bat',\n",
       " 'HotelTonight: Book amazing deals at great hotels',\n",
       " 'realestate.com.au - Buy, Rent & Sell Property',\n",
       " 'Video Player All Format',\n",
       " 'DEER HUNTER 2018',\n",
       " 'Video Editor',\n",
       " 'Google Play Games',\n",
       " 'ai.type Free Emoji Keyboard',\n",
       " 'Manga AZ - Manga Comic Reader',\n",
       " 'British Airways',\n",
       " 'American Airlines',\n",
       " 'Anthem BC Anywhere',\n",
       " 'Transit: Real-Time Transit App',\n",
       " 'PMHNP-BC Pocket Prep',\n",
       " 'BeautyPlus - Easy Photo Editor & Selfie Camera',\n",
       " 'Bowmasters',\n",
       " 'Nick',\n",
       " 'mySugr: the blood sugar tracker made just for you',\n",
       " 'Backgrounds HD (Wallpapers)',\n",
       " 'Blur Image Background',\n",
       " 'Newegg Mobile',\n",
       " ...]"
      ]
     },
     "execution_count": 47,
     "metadata": {},
     "output_type": "execute_result"
    }
   ],
   "source": [
    "duplicate_app"
   ]
  },
  {
   "cell_type": "code",
   "execution_count": 48,
   "metadata": {},
   "outputs": [],
   "source": [
    "android_clean = [] # [[instagram record]]\n",
    "already_added = [] # [\"Instagram\"]\n",
    "\n",
    "for i in android:\n",
    "    app_name = i[0] # Instagram\n",
    "    n_review = int(i[3]) # 12\n",
    "#     print(app_name, n_review)\n",
    "    if n_review == reviews[app_name] and app_name not in already_added:  # 12 == 12 & \n",
    "        android_clean.append(i)\n",
    "        already_added.append(app_name)"
   ]
  },
  {
   "cell_type": "code",
   "execution_count": 49,
   "metadata": {},
   "outputs": [
    {
     "data": {
      "text/plain": [
       "9660"
      ]
     },
     "execution_count": 49,
     "metadata": {},
     "output_type": "execute_result"
    }
   ],
   "source": [
    "len(android_clean)"
   ]
  },
  {
   "cell_type": "code",
   "execution_count": 50,
   "metadata": {},
   "outputs": [
    {
     "data": {
      "text/plain": [
       "'中国語 AQリスニング'"
      ]
     },
     "execution_count": 50,
     "metadata": {},
     "output_type": "execute_result"
    }
   ],
   "source": [
    "android_clean[4412][0]"
   ]
  },
  {
   "cell_type": "code",
   "execution_count": 51,
   "metadata": {},
   "outputs": [
    {
     "data": {
      "text/plain": [
       "'لعبة تقدر تربح DZ'"
      ]
     },
     "execution_count": 51,
     "metadata": {},
     "output_type": "execute_result"
    }
   ],
   "source": [
    "android_clean[7940][0]"
   ]
  },
  {
   "cell_type": "code",
   "execution_count": 52,
   "metadata": {},
   "outputs": [
    {
     "data": {
      "text/plain": [
       "'B'"
      ]
     },
     "execution_count": 52,
     "metadata": {},
     "output_type": "execute_result"
    }
   ],
   "source": [
    "chr(66)"
   ]
  },
  {
   "cell_type": "code",
   "execution_count": 53,
   "metadata": {},
   "outputs": [
    {
     "data": {
      "text/plain": [
       "'e'"
      ]
     },
     "execution_count": 53,
     "metadata": {},
     "output_type": "execute_result"
    }
   ],
   "source": [
    "chr(101)"
   ]
  },
  {
   "cell_type": "code",
   "execution_count": 54,
   "metadata": {},
   "outputs": [
    {
     "data": {
      "text/plain": [
       "'Z'"
      ]
     },
     "execution_count": 54,
     "metadata": {},
     "output_type": "execute_result"
    }
   ],
   "source": [
    "chr(90)"
   ]
  },
  {
   "cell_type": "code",
   "execution_count": 55,
   "metadata": {},
   "outputs": [
    {
     "data": {
      "text/plain": [
       "73"
      ]
     },
     "execution_count": 55,
     "metadata": {},
     "output_type": "execute_result"
    }
   ],
   "source": [
    "ord(\"I\")"
   ]
  },
  {
   "cell_type": "code",
   "execution_count": 56,
   "metadata": {},
   "outputs": [],
   "source": [
    "def is_english(app_name): # Instagram \n",
    "    lst = [] # [True,True,True,True,True,True,True,False]\n",
    "    for i in app_name: # I\n",
    "        if ord(i) <= 127: # 7777 <= 127\n",
    "            lst.append(True)\n",
    "        else:\n",
    "            lst.append(False)\n",
    "    \n",
    "    check = set(lst)\n",
    "    if False in check:\n",
    "        return False\n",
    "    else:\n",
    "        return True"
   ]
  },
  {
   "cell_type": "code",
   "execution_count": 57,
   "metadata": {},
   "outputs": [
    {
     "data": {
      "text/plain": [
       "False"
      ]
     },
     "execution_count": 57,
     "metadata": {},
     "output_type": "execute_result"
    }
   ],
   "source": [
    "is_english(\"Instagram😋\")"
   ]
  },
  {
   "cell_type": "code",
   "execution_count": 58,
   "metadata": {},
   "outputs": [
    {
     "data": {
      "text/plain": [
       "128523"
      ]
     },
     "execution_count": 58,
     "metadata": {},
     "output_type": "execute_result"
    }
   ],
   "source": [
    "ord(\"😋\")"
   ]
  },
  {
   "cell_type": "code",
   "execution_count": 59,
   "metadata": {},
   "outputs": [],
   "source": [
    "def is_english(app_name): # Instagram \n",
    "    lst = [] # [True,True,True,True,True,True,True,False]\n",
    "    for i in app_name: # I\n",
    "        if ord(i) <= 127: # 7777 <= 127\n",
    "            lst.append(True)\n",
    "        else:\n",
    "            lst.append(False)\n",
    "    \n",
    "    non_ascii = 0\n",
    "    for j in lst:\n",
    "        if j == False:\n",
    "            non_ascii += 1\n",
    "    \n",
    "    if non_ascii > 3:\n",
    "        return False\n",
    "    else:\n",
    "        return True"
   ]
  },
  {
   "cell_type": "code",
   "execution_count": 60,
   "metadata": {},
   "outputs": [],
   "source": [
    "lst = [True,True,True,True,True,True,True,False]"
   ]
  },
  {
   "cell_type": "code",
   "execution_count": 61,
   "metadata": {},
   "outputs": [
    {
     "data": {
      "text/plain": [
       "1"
      ]
     },
     "execution_count": 61,
     "metadata": {},
     "output_type": "execute_result"
    }
   ],
   "source": [
    "fls = 0\n",
    "for i in lst:\n",
    "    if i == False:\n",
    "        fls += 1\n",
    "fls"
   ]
  },
  {
   "cell_type": "code",
   "execution_count": 62,
   "metadata": {},
   "outputs": [
    {
     "data": {
      "text/plain": [
       "False"
      ]
     },
     "execution_count": 62,
     "metadata": {},
     "output_type": "execute_result"
    }
   ],
   "source": [
    "is_english(\"Instagram😋😋😋😋\")"
   ]
  },
  {
   "cell_type": "code",
   "execution_count": 63,
   "metadata": {},
   "outputs": [
    {
     "data": {
      "text/plain": [
       "1"
      ]
     },
     "execution_count": 63,
     "metadata": {},
     "output_type": "execute_result"
    }
   ],
   "source": [
    "lst.count(False)"
   ]
  },
  {
   "cell_type": "code",
   "execution_count": 64,
   "metadata": {},
   "outputs": [
    {
     "data": {
      "text/plain": [
       "9615"
      ]
     },
     "execution_count": 64,
     "metadata": {},
     "output_type": "execute_result"
    }
   ],
   "source": [
    "android_english = []\n",
    "\n",
    "for i in android_clean:\n",
    "    if is_english(i[0]):\n",
    "        android_english.append(i)\n",
    "\n",
    "len(android_english)"
   ]
  },
  {
   "cell_type": "code",
   "execution_count": 65,
   "metadata": {},
   "outputs": [
    {
     "data": {
      "text/plain": [
       "8865"
      ]
     },
     "execution_count": 65,
     "metadata": {},
     "output_type": "execute_result"
    }
   ],
   "source": [
    "android_final = []\n",
    "\n",
    "for i in android_english:\n",
    "    if i[7] == \"0\":\n",
    "        android_final.append(i)\n",
    "\n",
    "len(android_final)"
   ]
  },
  {
   "cell_type": "code",
   "execution_count": 66,
   "metadata": {},
   "outputs": [],
   "source": [
    "categories = []\n",
    "\n",
    "for i in android_final:\n",
    "    categories.append(i[1])"
   ]
  },
  {
   "cell_type": "code",
   "execution_count": 67,
   "metadata": {},
   "outputs": [
    {
     "data": {
      "text/plain": [
       "33"
      ]
     },
     "execution_count": 67,
     "metadata": {},
     "output_type": "execute_result"
    }
   ],
   "source": [
    "uni_cat = set(categories)\n",
    "len(uni_cat)"
   ]
  },
  {
   "cell_type": "code",
   "execution_count": 68,
   "metadata": {},
   "outputs": [
    {
     "name": "stdout",
     "output_type": "stream",
     "text": [
      "['DATING', 'VIDEO_PLAYERS', 'BEAUTY', 'PARENTING', 'AUTO_AND_VEHICLES', 'COMMUNICATION', 'ENTERTAINMENT', 'SHOPPING', 'NEWS_AND_MAGAZINES', 'COMICS', 'EVENTS', 'TOOLS', 'GAME', 'TRAVEL_AND_LOCAL', 'FAMILY', 'LIBRARIES_AND_DEMO', 'SPORTS', 'EDUCATION', 'MEDICAL', 'SOCIAL', 'BUSINESS', 'MAPS_AND_NAVIGATION', 'LIFESTYLE', 'FINANCE', 'BOOKS_AND_REFERENCE', 'PHOTOGRAPHY', 'ART_AND_DESIGN', 'PRODUCTIVITY', 'FOOD_AND_DRINK', 'PERSONALIZATION', 'HOUSE_AND_HOME', 'WEATHER', 'HEALTH_AND_FITNESS']\n"
     ]
    }
   ],
   "source": [
    "uni_cat = list(uni_cat)\n",
    "print(uni_cat)"
   ]
  },
  {
   "cell_type": "code",
   "execution_count": 69,
   "metadata": {},
   "outputs": [
    {
     "name": "stdout",
     "output_type": "stream",
     "text": [
      "['App', 'Category', 'Rating', 'Reviews', 'Size', 'Installs', 'Type', 'Price', 'Content Rating', 'Genres', 'Last Updated', 'Current Ver', 'Android Ver']\n"
     ]
    }
   ],
   "source": [
    "print(header)"
   ]
  },
  {
   "cell_type": "code",
   "execution_count": 70,
   "metadata": {},
   "outputs": [
    {
     "name": "stdout",
     "output_type": "stream",
     "text": [
      "['DATING', 'VIDEO_PLAYERS', 'BEAUTY', 'PARENTING', 'AUTO_AND_VEHICLES', 'COMMUNICATION', 'ENTERTAINMENT', 'SHOPPING', 'NEWS_AND_MAGAZINES', 'COMICS', 'EVENTS', 'TOOLS', 'GAME', 'TRAVEL_AND_LOCAL', 'FAMILY', 'LIBRARIES_AND_DEMO', 'SPORTS', 'EDUCATION', 'MEDICAL', 'SOCIAL', 'BUSINESS', 'MAPS_AND_NAVIGATION', 'LIFESTYLE', 'FINANCE', 'BOOKS_AND_REFERENCE', 'PHOTOGRAPHY', 'ART_AND_DESIGN', 'PRODUCTIVITY', 'FOOD_AND_DRINK', 'PERSONALIZATION', 'HOUSE_AND_HOME', 'WEATHER', 'HEALTH_AND_FITNESS']\n"
     ]
    }
   ],
   "source": [
    "print(uni_cat)"
   ]
  },
  {
   "cell_type": "code",
   "execution_count": 71,
   "metadata": {},
   "outputs": [
    {
     "data": {
      "text/plain": [
       "[[38456119.17, 'COMMUNICATION'],\n",
       " [24727872.45, 'VIDEO_PLAYERS'],\n",
       " [23253652.13, 'SOCIAL'],\n",
       " [17840110.4, 'PHOTOGRAPHY'],\n",
       " [16787331.34, 'PRODUCTIVITY'],\n",
       " [15588015.6, 'GAME'],\n",
       " [13984077.71, 'TRAVEL_AND_LOCAL'],\n",
       " [11640705.88, 'ENTERTAINMENT'],\n",
       " [10801391.3, 'TOOLS'],\n",
       " [9549178.47, 'NEWS_AND_MAGAZINES']]"
      ]
     },
     "execution_count": 71,
     "metadata": {},
     "output_type": "execute_result"
    }
   ],
   "source": [
    "avg_installation = []\n",
    "\n",
    "for cat in uni_cat:\n",
    "    total_int = 0\n",
    "    no_ins = 0\n",
    "    \n",
    "    for i in android_final:\n",
    "        categories = i[1]\n",
    "        if cat == categories:\n",
    "            n_install = i[5]\n",
    "            n_install = int(n_install.replace(\",\",\"\").strip(\"+\"))\n",
    "            total_int += n_install \n",
    "            no_ins += 1\n",
    "            \n",
    "    avg_ins = round((total_int/no_ins), 2)\n",
    "    avg_installation.append([avg_ins,cat])\n",
    "    \n",
    "sorted_list = sorted(avg_installation, reverse = True)\n",
    "sorted_list[:10]\n",
    "\n",
    "# 'GAME': 13356869450,\n",
    "#  'COMMUNICATION': 11036906201,\n",
    "#  'TOOLS': 8001043474,\n",
    "#  'FAMILY': 6209995690,\n",
    "#  'PRODUCTIVITY': 5791629314,"
   ]
  },
  {
   "cell_type": "code",
   "execution_count": 72,
   "metadata": {},
   "outputs": [
    {
     "name": "stdout",
     "output_type": "stream",
     "text": [
      "WhatsApp Messenger 1,000,000,000+\n",
      "Messenger for SMS 10,000,000+\n",
      "My Tele2 5,000,000+\n",
      "imo beta free calls and text 100,000,000+\n",
      "Contacts 50,000,000+\n",
      "Call Free – Free Call 5,000,000+\n",
      "Web Browser & Explorer 5,000,000+\n",
      "Browser 4G 10,000,000+\n",
      "MegaFon Dashboard 10,000,000+\n",
      "ZenUI Dialer & Contacts 10,000,000+\n",
      "Cricket Visual Voicemail 10,000,000+\n",
      "TracFone My Account 1,000,000+\n",
      "Xperia Link™ 10,000,000+\n",
      "TouchPal Keyboard - Fun Emoji & Android Keyboard 10,000,000+\n",
      "Skype Lite - Free Video Call & Chat 5,000,000+\n",
      "My magenta 1,000,000+\n",
      "Android Messages 100,000,000+\n",
      "Google Duo - High Quality Video Calls 500,000,000+\n",
      "Seznam.cz 1,000,000+\n",
      "Antillean Gold Telegram (original version) 100,000+\n",
      "AT&T Visual Voicemail 10,000,000+\n",
      "GMX Mail 10,000,000+\n",
      "Omlet Chat 10,000,000+\n",
      "My Vodacom SA 5,000,000+\n",
      "Microsoft Edge 5,000,000+\n",
      "Messenger – Text and Video Chat for Free 1,000,000,000+\n",
      "imo free video calls and chat 500,000,000+\n",
      "Calls & Text by Mo+ 5,000,000+\n",
      "free video calls and chat 50,000,000+\n",
      "Skype - free IM & video calls 1,000,000,000+\n",
      "Who 100,000,000+\n",
      "GO SMS Pro - Messenger, Free Themes, Emoji 100,000,000+\n",
      "Messaging+ SMS, MMS Free 1,000,000+\n",
      "chomp SMS 10,000,000+\n",
      "Glide - Video Chat Messenger 10,000,000+\n",
      "Text SMS 10,000,000+\n",
      "Talkray - Free Calls & Texts 10,000,000+\n",
      "LINE: Free Calls & Messages 500,000,000+\n",
      "GroupMe 10,000,000+\n",
      "mysms SMS Text Messaging Sync 1,000,000+\n",
      "2ndLine - Second Phone Number 1,000,000+\n",
      "Google Chrome: Fast & Secure 1,000,000,000+\n",
      "Firefox Browser fast & private 100,000,000+\n",
      "Ninesky Browser 1,000,000+\n",
      "Dolphin Browser - Fast, Private & Adblock🐬 50,000,000+\n",
      "UC Browser - Fast Download Private & Secure 500,000,000+\n",
      "Ghostery Privacy Browser 1,000,000+\n",
      "InBrowser - Incognito Browsing 1,000,000+\n",
      "Lightning Web Browser 500,000+\n",
      "Web Browser 500,000+\n",
      "Contacts+ 10,000,000+\n",
      "ExDialer - Dialer & Contacts 10,000,000+\n",
      "PHONE for Google Voice & GTalk 1,000,000+\n",
      "Safest Call Blocker 1,000,000+\n",
      "Full Screen Caller ID 5,000,000+\n",
      "Hiya - Caller ID & Block 10,000,000+\n",
      "Mr. Number-Block calls & spam 10,000,000+\n",
      "Should I Answer? 1,000,000+\n",
      "RocketDial Dialer & Contacts 1,000,000+\n",
      "CIA - Caller ID & Call Blocker 5,000,000+\n",
      "Calls Blacklist - Call Blocker 10,000,000+\n",
      "Call Control - Call Blocker 5,000,000+\n",
      "True Contact - Real Caller ID 1,000,000+\n",
      "Video Caller Id 1,000,000+\n",
      "Sync.ME – Caller ID & Block 5,000,000+\n",
      "Burner - Free Phone Number 1,000,000+\n",
      "Caller ID + 1,000,000+\n",
      "Gmail 1,000,000,000+\n",
      "K-9 Mail 5,000,000+\n",
      "myMail – Email for Hotmail, Gmail and Outlook Mail 10,000,000+\n",
      "Email TypeApp - Mail App 1,000,000+\n",
      "All Email Providers 1,000,000+\n",
      "Newton Mail - Email App for Gmail, Outlook, IMAP 1,000,000+\n",
      "GO Notifier 10,000,000+\n",
      "Mail.Ru - Email App 50,000,000+\n",
      "Mail1Click - Secure Mail 10,000+\n",
      "Daum Mail - Next Mail 5,000,000+\n",
      "mail.com mail 1,000,000+\n",
      "SolMail - All-in-One email app 500,000+\n",
      "Hangouts 1,000,000,000+\n",
      "Vonage Mobile® Call Video Text 1,000,000+\n",
      "JusTalk - Free Video Calls and Fun Video Chat 5,000,000+\n",
      "Azar 50,000,000+\n",
      "LokLok: Draw on a Lock Screen 500,000+\n",
      "Discord - Chat for Gamers 10,000,000+\n",
      "Messenger Lite: Free Calls & Messages 100,000,000+\n",
      "AntennaPict β 1,000,000+\n",
      "Talkatone: Free Texts, Calls & Phone Number 10,000,000+\n",
      "Kik 100,000,000+\n",
      "K-@ Mail - Email App 100,000+\n",
      "KakaoTalk: Free Calls & Text 100,000,000+\n",
      "K-9 Material (unofficial) 5,000+\n",
      "M star Dialer 100,000+\n",
      "Free WiFi Connect 10,000,000+\n",
      "m:go BiH 10,000+\n",
      "N-Com Wizard 50,000+\n",
      "Opera Mini - fast web browser 100,000,000+\n",
      "Opera Browser: Fast and Secure 100,000,000+\n",
      "Opera Mini browser beta 10,000,000+\n",
      "Psiphon Pro - The Internet Freedom VPN 10,000,000+\n",
      "ICQ — Video Calls & Chat Messenger 10,000,000+\n",
      "Telegram 100,000,000+\n",
      "AT&T Messages for Tablet 1,000,000+\n",
      "T-Mobile DIGITS 100,000+\n",
      "Truecaller: Caller ID, SMS spam blocking & Dialer 100,000,000+\n",
      "Portable Wi-Fi hotspot 10,000,000+\n",
      "AT&T Call Protect 5,000,000+\n",
      "U - Webinars, Meetings & Messenger 500,000+\n",
      "UC Browser Mini -Tiny Fast Private & Secure 100,000,000+\n",
      "/u/app 10,000+\n",
      "[verify-U] VideoIdent 10,000+\n",
      "Viber Messenger 500,000,000+\n",
      "WeChat 100,000,000+\n",
      "WhatsApp Business 10,000,000+\n",
      "WhatsCall Free Global Phone Call App & Cheap Calls 10,000,000+\n",
      "X Browser 50,000+\n",
      "Yahoo Mail – Stay Organized 100,000,000+\n",
      "Free Adblocker Browser - Adblock & Popup Blocker 10,000,000+\n",
      "Adblock Browser for Android 10,000,000+\n",
      "CM Browser - Ad Blocker , Fast Download , Privacy 50,000,000+\n",
      "Adblock Plus for Samsung Internet - Browse safe. 1,000,000+\n",
      "Ad Blocker Turbo - Adblocker Browser 10,000+\n",
      "Brave Browser: Fast AdBlocker 5,000,000+\n",
      "AG Contacts, Lite edition 5,000+\n",
      "Oklahoma Ag Co-op Council 10+\n",
      "Bee'ah Employee App 100+\n",
      "tournaments and more.aj.2 100+\n",
      "Aj.Petra 100+\n",
      "AK Phone 5,000+\n",
      "PlacarTv Futebol Ao Vivo 100,000+\n",
      "WiFi Access Point (hotspot) 100,000+\n",
      "Access Point Names 10,000+\n",
      "Puffin Web Browser 10,000,000+\n",
      "ClanHQ 10,000+\n",
      "Ear Agent: Super Hearing 5,000,000+\n",
      "Google Voice 10,000,000+\n",
      "Google Allo 10,000,000+\n",
      "AU Call Blocker - Block Unwanted Calls Texts 2018 1,000+\n",
      "Baby Monitor AV 100,000+\n",
      "AV Phone 1,000+\n",
      "AW - free video calls and chat 1,000,000+\n",
      "Katalogen.ax 100+\n",
      "AZ Browser. Private & Download 100,000+\n",
      "BA SALES 1+\n",
      "BD Data Plan (3G & 4G) 500,000+\n",
      "BD Internet Packages (Updated) 50,000+\n",
      "BD Dialer 10,000+\n",
      "BD Live Call 5,000+\n",
      "Best Browser BD social networking 10+\n",
      "Traffic signs BD 500+\n",
      "BF Browser by Betfilter - Stop Gambling Today! 10,000+\n",
      "My BF App 50,000+\n",
      "BH Mail 1,000+\n",
      "Zalo – Video Call 50,000,000+\n",
      "BJ - Confidential 10+\n",
      "BK Chat 1,000+\n",
      "Of the wall Arapaho bk 5+\n",
      "AC-BL 50+\n",
      "BBM - Free Calls & Messages 100,000,000+\n",
      "DMR BrandMeister Tool 10,000+\n",
      "BBMoji - Your personalized BBM Stickers 1,000,000+\n",
      "BN MALLORCA Radio 1,000+\n",
      "BQ Partners 1,000+\n",
      "BS-Mobile 50+\n",
      "ATC Unico BS 500+\n",
      "BT One Voice mobile access 5,000+\n",
      "BT Messenger 50,000+\n",
      "BT One Phone Mobile App 10,000+\n",
      "SW-100.tch by Callstel 1,000,000+\n",
      "BT MeetMe with Dolby Voice 100,000+\n",
      "Bluetooth Auto Connect 5,000,000+\n",
      "AudioBT: BT audio GPS/SMS/Text 50,000+\n",
      "BV 100+\n",
      "Feel Performer 10,000+\n",
      "Tiny Call Confirm 1,000,000+\n",
      "CB Radio Chat - for friends! 1,000,000+\n",
      "CB On Mobile 100,000+\n",
      "Virtual Walkie Talkie 1,000,000+\n",
      "Channel 19 100,000+\n",
      "Cb browser 50+\n",
      "CF Chat: Connecting Friends 100+\n",
      "retteMi.ch 5,000+\n",
      "Chrome Dev 5,000,000+\n",
      "CJ Browser - Fast & Private 100+\n",
      "CJ DVD Rentals 100+\n",
      "CK Call NEW 10+\n",
      "CM Transfer - Share any files with friends nearby 5,000,000+\n",
      "mail.co.uk Mail 5,000+\n",
      "ClanPlay: Community and Tools for Gamers 1,000,000+\n",
      "CQ-Mobile 1,000+\n",
      "CQ-Alert 500+\n",
      "QRZ Assistant 100,000+\n",
      "Pocket Prefix Plus 10,000+\n",
      "Ham Radio Prefixes 10,000+\n",
      "CS Customizer 1,000+\n",
      "CS Browser | #1 & BEST BROWSER 1,000+\n",
      "CS Browser Beta 5,000+\n",
      "My Vodafone (GR) 1,000,000+\n",
      "IZ2UUF Morse Koch CW 50,000+\n",
      "C W Browser 100+\n",
      "CW Bluetooth SPP 100+\n",
      "CW BLE Peripheral Simulator 500+\n",
      "Morse Code Reader 100,000+\n",
      "Learn Morse Code - G0HYN Learn Morse 5,000+\n",
      "Ring 10,000+\n",
      "Hyundai CX Conference 50+\n",
      "Cy Messenger 100+\n",
      "Amadeus GR & CY 100+\n",
      "Hlášenírozhlasu.cz 10+\n",
      "SMS Sender - sluzba.cz 1,000+\n",
      "WEB.DE Mail 10,000,000+\n",
      "Your Freedom VPN Client 5,000,000+\n",
      "CallApp: Caller ID, Blocker & Phone Call Recorder 10,000,000+\n",
      "Rádio Sol Nascente DF 500+\n",
      "DG Card 100+\n",
      "Whoscall - Caller ID & Block 10,000,000+\n",
      "DK Browser 10+\n",
      "cluster.dk 1,000+\n",
      "DK TEL Dialer 50+\n",
      "DM for WhatsApp 5,000+\n",
      "DM Talk New 5,000+\n",
      "DM - The Offical Messaging App 10+\n",
      "DM Tracker 1,000+\n",
      "Call Blocker & Blacklist 1,000+\n",
      "ReadyOp DT 1,000+\n",
      "DU Browser—Browse fast & fun 10,000,000+\n",
      "Caller ID & Call Block - DU Caller 5,000,000+\n",
      "BlueDV AMBE 1,000+\n",
      "DW Contacts & Phone & Dialer 1,000,000+\n",
      "Deaf World DW 10,000+\n",
      "Ham DX Cluster & Spots Finder 5,000+\n",
      "Mircules DX Cluster Lite 5,000+\n",
      "3G DZ Configuration 50,000+\n",
      "chat dz 100+\n",
      "love sms good morning 5,000+\n",
      "Goodbox - Mega App 100,000+\n",
      "Call Blocker - Blacklist, SMS Blocker 1,000,000+\n",
      "[EF]ShoutBox 100+\n",
      "Eg Call 10,000+\n",
      "ei 10+\n",
      "EJ messenger 10+\n",
      "Ek IRA 10+\n",
      "Orfox: Tor Browser for Android 10,000,000+\n",
      "EO Mumbai 10+\n",
      "EP RSS Reader 100+\n",
      "Voxer Walkie Talkie Messenger 10,000,000+\n",
      "ES-1 500+\n",
      "Hangouts Dialer - Call Phones 10,000,000+\n",
      "EU Council 1,000+\n",
      "Council Voting Calculator 5,000+\n",
      "Have your say on Europe 500+\n",
      "Programi podrške EU 100+\n",
      "Inbox.eu 10,000+\n",
      "Web Browser for Android 1,000,000+\n",
      "Everbridge 100,000+\n",
      "Best Auto Call Recorder Free 500+\n",
      "EZ Wifi Notification 10,000+\n",
      "Test Server SMS FA 5+\n",
      "Lite for Facebook Messenger 1,000,000+\n",
      "FC Browser - Focus Privacy Browser 1,000+\n",
      "EHiN-FH conferenceapp 100+\n",
      "Carpooling FH Hagenberg 100+\n",
      "Wi-Fi Auto-connect 1,000,000+\n",
      "Talkie - Wi-Fi Calling, Chats, File Sharing 500,000+\n",
      "WeFi - Free Fast WiFi Connect & Find Wi-Fi Map 1,000,000+\n",
      "Sat-Fi 5,000+\n",
      "Portable Wi-Fi hotspot Free 100,000+\n",
      "TownWiFi | Wi-Fi Everywhere 500,000+\n",
      "Jazz Wi-Fi 10,000+\n",
      "Sat-Fi Voice 1,000+\n",
      "Free Wi-fi HotspoT 50,000+\n",
      "FN Web Radio 10+\n",
      "FNH Payment Info 10+\n",
      "MARKET FO 100+\n",
      "FO OP St-Nazaire 100+\n",
      "FO SODEXO 100+\n",
      "FO RCBT 100+\n",
      "FO Interim 100+\n",
      "FO PSA Sept-Fons 100+\n",
      "FO AIRBUS TLSE 1,000+\n",
      "FO STELIA Méaulte 100+\n",
      "FO AIRBUS Nantes 100+\n",
      "Firefox Focus: The privacy browser 1,000,000+\n",
      "FP Connect 100+\n",
      "FreedomPop Messaging Phone/SIM 500,000+\n",
      "FP Live 10+\n",
      "HipChat - beta version 50,000+\n"
     ]
    }
   ],
   "source": [
    "for i in android_final:\n",
    "    if i[1] == 'COMMUNICATION':\n",
    "        print(i[0],i[5])"
   ]
  },
  {
   "cell_type": "code",
   "execution_count": 73,
   "metadata": {},
   "outputs": [
    {
     "name": "stdout",
     "output_type": "stream",
     "text": [
      "WhatsApp Messenger 1,000,000,000+\n",
      "imo beta free calls and text 100,000,000+\n",
      "Android Messages 100,000,000+\n",
      "Google Duo - High Quality Video Calls 500,000,000+\n",
      "Messenger – Text and Video Chat for Free 1,000,000,000+\n",
      "imo free video calls and chat 500,000,000+\n",
      "Skype - free IM & video calls 1,000,000,000+\n",
      "Who 100,000,000+\n",
      "GO SMS Pro - Messenger, Free Themes, Emoji 100,000,000+\n",
      "LINE: Free Calls & Messages 500,000,000+\n",
      "Google Chrome: Fast & Secure 1,000,000,000+\n",
      "Firefox Browser fast & private 100,000,000+\n",
      "UC Browser - Fast Download Private & Secure 500,000,000+\n",
      "Gmail 1,000,000,000+\n",
      "Hangouts 1,000,000,000+\n",
      "Messenger Lite: Free Calls & Messages 100,000,000+\n",
      "Kik 100,000,000+\n",
      "KakaoTalk: Free Calls & Text 100,000,000+\n",
      "Opera Mini - fast web browser 100,000,000+\n",
      "Opera Browser: Fast and Secure 100,000,000+\n",
      "Telegram 100,000,000+\n",
      "Truecaller: Caller ID, SMS spam blocking & Dialer 100,000,000+\n",
      "UC Browser Mini -Tiny Fast Private & Secure 100,000,000+\n",
      "Viber Messenger 500,000,000+\n",
      "WeChat 100,000,000+\n",
      "Yahoo Mail – Stay Organized 100,000,000+\n",
      "BBM - Free Calls & Messages 100,000,000+\n"
     ]
    }
   ],
   "source": [
    " for i in android_final:\n",
    "    if i[1] == 'COMMUNICATION' and (i[5] == \"1,000,000,000+\" or\n",
    "                                   i[5] == \"500,000,000+\" or\n",
    "                                   i[5] == \"100,000,000+\"):\n",
    "        print(i[0],i[5])"
   ]
  },
  {
   "cell_type": "code",
   "execution_count": 74,
   "metadata": {},
   "outputs": [
    {
     "name": "stdout",
     "output_type": "stream",
     "text": [
      "YouTube 1,000,000,000+\n",
      "Motorola Gallery 100,000,000+\n",
      "VLC for Android 100,000,000+\n",
      "Google Play Movies & TV 1,000,000,000+\n",
      "MX Player 500,000,000+\n",
      "Dubsmash 100,000,000+\n",
      "VivaVideo - Video Editor & Photo Movie 100,000,000+\n",
      "VideoShow-Video Editor, Video Maker, Beauty Camera 100,000,000+\n",
      "Motorola FM Radio 100,000,000+\n"
     ]
    }
   ],
   "source": [
    " for i in android_final:\n",
    "    if i[1] == 'VIDEO_PLAYERS' and (i[5] == \"1,000,000,000+\" or\n",
    "                                   i[5] == \"500,000,000+\" or\n",
    "                                   i[5] == \"100,000,000+\"):\n",
    "        print(i[0],i[5])"
   ]
  },
  {
   "cell_type": "code",
   "execution_count": 75,
   "metadata": {},
   "outputs": [
    {
     "name": "stdout",
     "output_type": "stream",
     "text": [
      "B612 - Beauty & Filter Camera 100,000,000+\n",
      "YouCam Makeup - Magic Selfie Makeovers 100,000,000+\n",
      "Sweet Selfie - selfie camera, beauty cam, photo edit 100,000,000+\n",
      "Google Photos 1,000,000,000+\n",
      "Retrica 100,000,000+\n",
      "Photo Editor Pro 100,000,000+\n",
      "BeautyPlus - Easy Photo Editor & Selfie Camera 100,000,000+\n",
      "PicsArt Photo Studio: Collage Maker & Pic Editor 100,000,000+\n",
      "Photo Collage Editor 100,000,000+\n",
      "Z Camera - Photo Editor, Beauty Selfie, Collage 100,000,000+\n",
      "PhotoGrid: Video & Pic Collage Maker, Photo Editor 100,000,000+\n",
      "Candy Camera - selfie, beauty camera, photo editor 100,000,000+\n",
      "YouCam Perfect - Selfie Photo Editor 100,000,000+\n",
      "Camera360: Selfie Photo Editor with Funny Sticker 100,000,000+\n",
      "S Photo Editor - Collage Maker , Photo Collage 100,000,000+\n",
      "AR effect 100,000,000+\n",
      "Cymera Camera- Photo Editor, Filter,Collage,Layout 100,000,000+\n",
      "LINE Camera - Photo editor 100,000,000+\n",
      "Photo Editor Collage Maker Pro 100,000,000+\n"
     ]
    }
   ],
   "source": [
    " for i in android_final:\n",
    "    if i[1] == 'PHOTOGRAPHY' and (i[5] == \"1,000,000,000+\" or\n",
    "                                   i[5] == \"500,000,000+\" or\n",
    "                                   i[5] == \"100,000,000+\"):\n",
    "        print(i[0],i[5])"
   ]
  },
  {
   "cell_type": "code",
   "execution_count": 76,
   "metadata": {},
   "outputs": [
    {
     "name": "stdout",
     "output_type": "stream",
     "text": [
      "Microsoft Word 500,000,000+\n",
      "Microsoft Outlook 100,000,000+\n",
      "Power Booster - Junk Cleaner & CPU Cooler & Boost 1,000,000+\n",
      "Microsoft OneDrive 100,000,000+\n",
      "Microsoft OneNote 100,000,000+\n",
      "Google Keep 100,000,000+\n",
      "ES File Explorer File Manager 100,000,000+\n",
      "MyMTN 1,000,000+\n",
      "Dropbox 500,000,000+\n",
      "Google Docs 100,000,000+\n",
      "Microsoft PowerPoint 100,000,000+\n",
      "Samsung Notes 100,000,000+\n",
      "SwiftKey Keyboard 100,000,000+\n",
      "Hacker's Keyboard 1,000,000+\n",
      "Security & Privacy 1,000,000+\n",
      "Loop - Habit Tracker 1,000,000+\n",
      "TickTick: To Do List with Reminder, Day Planner 1,000,000+\n",
      "Pushbullet - SMS on PC 1,000,000+\n",
      "Planner Pro-Personal Organizer 1,000,000+\n",
      "Cozi Family Organizer 1,000,000+\n",
      "IFTTT 1,000,000+\n",
      "Dashlane Free Password Manager 1,000,000+\n",
      "Solid Explorer Classic 1,000,000+\n",
      "Solid Explorer File Manager 1,000,000+\n",
      "Smart File Manager 1,000,000+\n",
      "Google Drive 1,000,000,000+\n",
      "Adobe Acrobat Reader 100,000,000+\n",
      "Google Sheets 100,000,000+\n",
      "Microsoft Excel 100,000,000+\n",
      "WPS Office - Word, Docs, PDF, Note, Slide & Sheet 100,000,000+\n",
      "Google Slides 100,000,000+\n",
      "ColorNote Notepad Notes 100,000,000+\n",
      "Simple Notepad 1,000,000+\n",
      "Sticky Note + : Sync Notes 1,000,000+\n",
      "Squid - Take Notes & Markup PDFs 1,000,000+\n",
      "JotterPad - Writer, Screenplay, Novel 1,000,000+\n",
      "Evernote – Organizer, Planner for Notes & Memos 100,000,000+\n",
      "Calendar+ Schedule Planner App 1,000,000+\n",
      "Today Calendar 2017 1,000,000+\n",
      "To-Do Calendar Planner 1,000,000+\n",
      "New Calendar 1,000,000+\n",
      "Time Recording - Timesheet App 1,000,000+\n",
      "Google Calendar 500,000,000+\n",
      "Amazon Drive 1,000,000+\n",
      "SugarSync 1,000,000+\n",
      "pCloud: Free Cloud Storage 1,000,000+\n",
      "Cloud Print 500,000,000+\n",
      "EX File Explorer File Manager 1,000,000+\n",
      "Emoji Android L Keyboard 1,000,000+\n",
      "Multiling O Keyboard + emoji 1,000,000+\n",
      "S’more - Earn Cash Rewards 1,000,000+\n",
      "Můj T-Mobile Business 1,000,000+\n",
      "Adblock Fast 1,000,000+\n",
      "Google AdSense 1,000,000+\n",
      "Extreme- Personal Voice Assistant 1,000,000+\n",
      "Lyra Virtual Assistant 1,000,000+\n",
      "AL Voice Recorder 1,000,000+\n",
      "ALL-IN-ONE PACKAGE TRACKING 1,000,000+\n",
      "Chrome Canary (Unstable) 1,000,000+\n",
      "Ultimate Chest Tracker 1,000,000+\n",
      "CamScanner - Phone PDF Creator 100,000,000+\n",
      "Resume Free 1,000,000+\n",
      "CY Security Antivirus Cleaner 1,000,000+\n",
      "Phone Clean Best Speed Booster 1,000,000+\n",
      "e-Boks.dk 1,000,000+\n",
      "Mahalaxmi Dindarshika 2018 1,000,000+\n",
      "Microsoft To-Do: List, Task & Reminder 1,000,000+\n",
      "To Do Reminder with Alarm 1,000,000+\n",
      "Do it (Tomorrow) 1,000,000+\n",
      "To-Do List Widget 1,000,000+\n",
      "NoteToDo. Notes. To do list 1,000,000+\n",
      "Cal - Google Calendar + Widget 1,000,000+\n",
      "Adobe Fill & Sign: Easy PDF Form Filler 1,000,000+\n",
      "DS file 1,000,000+\n",
      "Epson iProjection 1,000,000+\n",
      "ES Material Theme for Pro 1,000,000+\n",
      "Chelsea FC Official Keyboard 1,000,000+\n",
      "Avast Wi-Fi Finder 1,000,000+\n"
     ]
    }
   ],
   "source": [
    " for i in android_final:\n",
    "    if i[1] == 'PRODUCTIVITY' and (i[5] == \"1,000,000,000+\" or\n",
    "                                   i[5] == \"500,000,000+\" or\n",
    "                                   i[5] == \"100,000,000+\"or \n",
    "                                  i[5] == \"1,000,000+\"):\n",
    "        print(i[0],i[5])"
   ]
  },
  {
   "cell_type": "code",
   "execution_count": null,
   "metadata": {},
   "outputs": [],
   "source": []
  }
 ],
 "metadata": {
  "kernelspec": {
   "display_name": "Python 3",
   "language": "python",
   "name": "python3"
  },
  "language_info": {
   "codemirror_mode": {
    "name": "ipython",
    "version": 3
   },
   "file_extension": ".py",
   "mimetype": "text/x-python",
   "name": "python",
   "nbconvert_exporter": "python",
   "pygments_lexer": "ipython3",
   "version": "3.8.5"
  }
 },
 "nbformat": 4,
 "nbformat_minor": 4
}
