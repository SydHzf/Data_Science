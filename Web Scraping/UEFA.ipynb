{
 "cells": [
  {
   "cell_type": "code",
   "execution_count": 1,
   "metadata": {},
   "outputs": [],
   "source": [
    "import requests\n",
    "from bs4 import BeautifulSoup"
   ]
  },
  {
   "cell_type": "code",
   "execution_count": 2,
   "metadata": {},
   "outputs": [
    {
     "data": {
      "text/plain": [
       "<Response [403]>"
      ]
     },
     "execution_count": 2,
     "metadata": {},
     "output_type": "execute_result"
    }
   ],
   "source": [
    "base_site = \"https://www.livesoccertv.com/competitions/international/uefa-champions-league/\"\n",
    "response = requests.get(base_site)\n",
    "response"
   ]
  },
  {
   "cell_type": "code",
   "execution_count": 3,
   "metadata": {},
   "outputs": [
    {
     "data": {
      "text/plain": [
       "<!DOCTYPE html>\n",
       "\n",
       "<html lang=\"en-US\">\n",
       "<head>\n",
       "<title>Just a moment...</title>\n",
       "<meta content=\"text/html; charset=utf-8\" http-equiv=\"Content-Type\"/>\n",
       "<meta content=\"IE=Edge\" http-equiv=\"X-UA-Compatible\"/>\n",
       "<meta content=\"noindex,nofollow\" name=\"robots\"/>\n",
       "<meta content=\"width=device-width,initial-scale=1\" name=\"viewport\"/>\n",
       "<link href=\"/cdn-cgi/styles/cf-errors.css\" rel=\"stylesheet\"/>\n",
       "<script>\n",
       "    (function(){\n",
       "        window._cf_chl_opt={\n",
       "            cvId: '2',\n",
       "            cType: 'managed',\n",
       "            cNounce: '45179',\n",
       "            cRay: '73f65ad78e036c99',\n",
       "            cHash: '2e8ed65442fd3fb',\n",
       "            cUPMDTk: \"\\/competitions\\/international\\/uefa-champions-league\\/?__cf_chl_tk=QCE_yj2JKOusgnVKIqPbSZw_3S7Wj6vzRv6hjTSjbK0-1661283992-0-gaNycGzNBz0\",\n",
       "            cFPWv: 'g',\n",
       "            cTTimeMs: '1000',\n",
       "            cTplV: 3,\n",
       "            cRq: {\n",
       "                ru: 'aHR0cHM6Ly93d3cubGl2ZXNvY2NlcnR2LmNvbS9jb21wZXRpdGlvbnMvaW50ZXJuYXRpb25hbC91ZWZhLWNoYW1waW9ucy1sZWFndWUv',\n",
       "                ra: 'cHl0aG9uLXJlcXVlc3RzLzIuMjguMQ==',\n",
       "                rm: 'R0VU',\n",
       "                d: '625y0QN8/4/3D7YHH4Fdta1uBRJHKVzUxXsMl9phIcJnmguhnm2HUSdyO48CkjEK+9/9pgcUDoTdncMCcgtUlEfBlhx1lhWsS3msW8XeN1SKnf+ewBlq68x6zv0+vkzrwlYjHDLGu2dLF1miyqAm7nnOcpqKIQeEgQlT+24k2DxrLLGJf0FTiJAmbE7WsA0ZZQ1A9YOh88DAhdQ1ae4Mvknilcy3p/4uXVK3xqpqvk0pEcVT9vgrCbun0HnO39VN+ohSvBrunTYzeSltINYihHXj5ThSOPKVN98y3kHtd1WP/EVaEB47Utl688ZZjiJ+fRtLNFAZahklmE/281xzb7e62V1QdH1VO1KmPZFO04jOy2VXZcdwqbXGXCdAsrPKd0rAdEZsioNRNxpdupp+VAIRYoWyFRghht7lpVzRr507vSWnGM+71fcGVU+3MIjprrB5VIqjUrKGCqSFKKBioupIne64OEOmuRlRP3jkavQqImN5DF5fGgjpWo3IKVAVsQvqF75/FKIvgEelEh8E3g4UlHLTjDxZcajgw5e+6idb40NYdSYGNjAEuldQThyavcmSXZLjaVwM6uEdFqk/4lzLxpDypKk+DJQeuohsdNHhfYR91vAD0ikxZz8SFLZyS05JXOzRNDed3CRc6eWUT+klwrT4pDd665e0Pp9nBe9V1QmMBcikvPUSi+ZB96kv',\n",
       "                t: 'MTY2MTI4Mzk5Mi4yNDkwMDA=',\n",
       "                m: '3EVUNicAnSUdat7VAt+YbrBrT5nhIbltZljx4f65SNI=',\n",
       "                i1: 'hF4tAz/oEzdvn2xtzQ0LkA==',\n",
       "                i2: 'iguySro5AmjKIz2tX89OaQ==',\n",
       "                zh: 'P7OCVYddfK4J/BZPT41PxtC++fvgHVoDVxrr1g8WuMU=',\n",
       "                uh: 'SLdVolODg++SO356HusO5I/hbfOpiiOxQXj62i/MUkA=',\n",
       "                hh: 'pVhATN8dnZuw4/rYt89ApusgbLtM4xxmeQbGGq2V4hA=',\n",
       "            }\n",
       "        }\n",
       "        window._cf_chl_enter = function(){window._cf_chl_opt.p=1};\n",
       "    })();\n",
       "</script>\n",
       "</head>\n",
       "<body class=\"no-js\">\n",
       "<div class=\"main-wrapper\" role=\"main\">\n",
       "<div class=\"main-content\">\n",
       "<h1 class=\"zone-name-title h1\">\n",
       "<img class=\"heading-favicon\" onerror=\"this.onerror=null;this.parentNode.removeChild(this)\" src=\"/favicon.ico\"/>\n",
       "            www.livesoccertv.com\n",
       "        </h1>\n",
       "<h2 class=\"h2\" id=\"cf-challenge-running\">\n",
       "            Checking if the site connection is secure\n",
       "        </h2>\n",
       "<noscript>\n",
       "<div id=\"cf-challenge-error-title\">\n",
       "<div class=\"h2\">\n",
       "<span class=\"icon-wrapper\">\n",
       "<div class=\"heading-icon warning-icon\"></div>\n",
       "</span>\n",
       "<span id=\"cf-challenge-error-text\">\n",
       "                        Enable JavaScript and cookies to continue\n",
       "                    </span>\n",
       "</div>\n",
       "</div>\n",
       "</noscript>\n",
       "<div id=\"trk_jschal_js\" style=\"display:none;background-image:url('/cdn-cgi/images/trace/managed/nojs/transparent.gif?ray=73f65ad78e036c99')\"></div>\n",
       "<div class=\"core-msg spacer\" id=\"cf-challenge-body-text\">\n",
       "            www.livesoccertv.com needs to review the security of your connection before\n",
       "            proceeding.\n",
       "        </div>\n",
       "<form action=\"/competitions/international/uefa-champions-league/?__cf_chl_f_tk=QCE_yj2JKOusgnVKIqPbSZw_3S7Wj6vzRv6hjTSjbK0-1661283992-0-gaNycGzNBz0\" enctype=\"application/x-www-form-urlencoded\" id=\"challenge-form\" method=\"POST\">\n",
       "<input name=\"md\" type=\"hidden\" value=\"8GvNxrHC8yRbg0L2.QhtdWql5.TkXu4BndwkT4OeJDs-1661283992-0-AZ6ZFUMEvL6CL4qo0_ixXoPIYmicjHQHFpIhCc59yD_lappJ6Tu4lzAoWv7JO_O4bzgBZu1okX1Vg5FRO1qrphWkTeFv80HX3ANvjE9jiQBkq-NeYte1g4ytNpF7biYtyMU4wuccBrRcqs2TyZiSOwIZJUBBTCi_FBxw7XlQAOk_ZAS4PZoxC7PZ5VKOd_vTz5oVgvRm6FjcDNfb_jU-vzkAT3PxBD0rBDv6TV5k1b9rCw6C5tAGsMwPcGVEEFgTpS4u7G4EtpQqlNi7XbRAWjoZvNQOht9tVMmBsU2N7_W8tqHdnBe2ZsceMWA6W5edRgBP85T9ARe2KUnZ8jsinRNr8ML4TBPQ4RyIkBiYstP1mptCFhwL5_n4bPeaw3nRltdB2ztEq01Gk11DvN9PC2BJcbhqRf7zRcmJVR5Wd_7nKwsnXXlNJ7VAX7HmWwXR_H-CQQN6RCWf3PcuH3kUQp-2tCZc78YaUz98DeTKS80dBXJNkOmis2H2JM3zaWBk1kNQ5lTmLRqRY17hT_0LOab6mCPbXhwoakdawfCh3SKntYlI5FrAHka99fJkPXgOWlWdygEd71I2OEozk4sdOji6yDVMT8bOJ236JcCGs8mKqJm2PSwC_kafrEzk4wm4gBa0dmOKSOKp2JCdyKkr28R58sk3T4d3HCkZamqGv_J1V_VooHtCnIC9C02tgcXUg7zDGcE4a-dKgnFoZRB9mQkyq_gMF1TI9O1Pj9YdgqdEeAEEl44SsXW4mTH7vSunO--13AZlgox5FBwSvtWZbPwXLXC1JFwIN1k7S6WE-DkarsV7_TNDdjnwiR69YcZdLbxncqpcfTWQdD6q95sbf0zIGXGK1JPUij4iAG7IIkyorZ1rsc1maxAsVseTnirSAA\"/>\n",
       "<input name=\"r\" type=\"hidden\" value=\"XuEu4TByD3MpTHt1GdF7cSxrfhOvc.3res8mY34DX1U-1661283992-0-AUExM3mdJ75VGj0lqwzXM4W7WazOqq2qK8kewK91iZvCPDHAHe8r7+4O/V8HRs7cx2/Vo8eEM6Lrhcv32Gb4QDgQ2EizlxSh8P/yzKfFEHM2aCQP2EMc4z0iU1j4do12FtRl6GiUv8lrHK1W6j9dPGMLl1qIx6NEU2Z3LXsoSLna010+YaiWwaGrhKDm15UBReIree+kJd1MMeYZc5gBEipiQr2wkXVRAFTorWHoV3B5QBAtsY59Sfl2JVe7OPVpZ/G1bPDajPnbxSOSZlXgg8H1B9YWWFAKyaWhi7whtx1MDJf11hY0j5jD9myvnsZi4IxnSgQEOUgEwWzfdrbStwqChJuXIFzFxb3cy7kX2kP7gWyTVm7kLx7xIOJzj1IMUgXFW8fRPkXAE4eBjTfPNVYAR2aAQlH6gzDOxkuPE7HxIUcaT9WRDs0hUsC1mMHReZzX/LlgT516TuR/Y6HmHDAh3+0DtVW+tDSxyMXlS45fsAH/oXHLrlZwLP+qgXlv1i9KboppRhGqlfVYegenIEc6Ty/L3Uxm8Yid+iVTcuzRk1SzN6Hf+6pY0irWos65j5Snij0Ad2u/abJCvJp83085UIZZnABIPUqWqIef0GhcyWPSpVthwK97GjGetZNDVu601rRVzOdEZogksbz2VOufN3S8+wNYa9Wn83KmvaFxZyHVytn/+SEx054BdAruap0cBnEpWw49JfrfsmwqSvzzFMmFqi4r0kxznw/W7w8XlXQ2daTdoa0a95WuNvHJH+5sCMX3MhoYSdXDSVfQ36RTDzHq2UqUey9FBlu+QX0fZthpU3mozBE/AEXs2+A28eiRxf8VZiZYt5xeY4VtHfJurIzK1ExWARjxCePur8pxUVc75cekpQnZpIutAXMvEdugOnJ5IFIigermcTl3WWb07WhCCCO6MOjFSP66yRPp2O2uquZy8h/24dQW/sLn5Jxu1jCF3uc/2IM8NIf6uBJnHhz6JLhGPcW5C5U0yh72pHsooemSWtQkdgt+UbqjB1eN+w9VELwCIPl40Vkq0kLsjcvu95GFQFhjMKwVG3ryDCcoQIsgaXH56yMZJy/7NHb6BN8jyfBsWAdlsIJeUsjMmKkHne3ZprSYKpa69jyWLS+PDYohaPRk7OLSqEPQjQlfc7aNoZTEDXxPtZA2dD9NSBbXR8W46GZXTTWOm4hlECA2O5nHqa2My6gEDiqEbcQIBTxPrAAtJTknNbbL48h/T4rZY7qjwA1GmCQJwW2ZzZ3VA//lR9gDeFx3ZQ5fVM8F91jU8MSrNtNnFVj4sSZ1tlug+rEKz5nxzSGhccpHQ6GIcfbDNJ9HIPWmcQGUzgl9otT3tBcLpgiyiYB/E6HfVdC+Yn0uNNDuP7qJTt0zgtoS0wQ7MUJQLW6995NMoYRAYYjiXIw9YHHRGLPUUEaAqGjXoJ7shvJldx6nBxLuWbcVlqx1sf/9OnFbhhL2IFpnc955mkmy0QlZPVTL/e4eDvWNdDgeGwHqAKHP0/G+IGtOpYhgXonfaFpKImyq/y/7JYh2DJVstlk2IW5a9xmOQMzxzOQ5BALy+sImQcx1Xra2PdgF5gETixuQyQIFl9CbUOHwksCP95KSARI52PEnGn2OhlKY2gKjGC5vmE3pa0ZhrYYOIzosgbX87qPQA/EKzcSNVJ2kwsfmDQqmn79eWvkor1vvI/70HxStb6TJARCQrv0vtH3nmNrKpnUf7so0xzizFEjXdj9sVHlQW5Lria6yXbRy6kVZwuPkRFDCObKtw6ni68Q46KTWCI968A==\"/>\n",
       "</form>\n",
       "</div>\n",
       "</div>\n",
       "<script>\n",
       "    (function(){\n",
       "        var trkjs = document.createElement('img');\n",
       "        trkjs.setAttribute('src', '/cdn-cgi/images/trace/managed/js/transparent.gif?ray=73f65ad78e036c99');\n",
       "        trkjs.setAttribute('style', 'display: none');\n",
       "        document.body.appendChild(trkjs);\n",
       "        var cpo = document.createElement('script');\n",
       "        cpo.src = '/cdn-cgi/challenge-platform/h/g/orchestrate/managed/v1?ray=73f65ad78e036c99';\n",
       "        window._cf_chl_opt.cOgUHash = location.hash === '' && location.href.indexOf('#') !== -1 ? '#' : location.hash;\n",
       "        window._cf_chl_opt.cOgUQuery = location.search === '' && location.href.slice(0, -window._cf_chl_opt.cOgUHash.length).indexOf('?') !== -1 ? '?' : location.search;\n",
       "        if (window.history && window.history.replaceState) {\n",
       "            var ogU = location.pathname + window._cf_chl_opt.cOgUQuery + window._cf_chl_opt.cOgUHash;\n",
       "            history.replaceState(null, null, \"\\/competitions\\/international\\/uefa-champions-league\\/?__cf_chl_rt_tk=QCE_yj2JKOusgnVKIqPbSZw_3S7Wj6vzRv6hjTSjbK0-1661283992-0-gaNycGzNBz0\" + window._cf_chl_opt.cOgUHash);\n",
       "            cpo.onload = function() {\n",
       "                history.replaceState(null, null, ogU);\n",
       "            };\n",
       "        }\n",
       "        document.getElementsByTagName('head')[0].appendChild(cpo);\n",
       "    }());\n",
       "</script>\n",
       "<div class=\"footer\" role=\"contentinfo\">\n",
       "<div class=\"footer-inner\">\n",
       "<div class=\"clearfix diagnostic-wrapper\">\n",
       "<div class=\"ray-id\">Ray ID: <code>73f65ad78e036c99</code></div>\n",
       "</div>\n",
       "<div class=\"text-center\">\n",
       "                Performance &amp; security by\n",
       "                <a href=\"https://www.cloudflare.com?utm_source=challenge&amp;utm_campaign=m\" rel=\"noopener noreferrer\" target=\"_blank\">Cloudflare</a>\n",
       "</div>\n",
       "</div>\n",
       "</div>\n",
       "</body>\n",
       "</html>"
      ]
     },
     "execution_count": 3,
     "metadata": {},
     "output_type": "execute_result"
    }
   ],
   "source": [
    "html = response.text\n",
    "soup = BeautifulSoup(html,\"html.parser\")\n",
    "soup"
   ]
  },
  {
   "cell_type": "code",
   "execution_count": 4,
   "metadata": {},
   "outputs": [
    {
     "data": {
      "text/plain": [
       "[]"
      ]
     },
     "execution_count": 4,
     "metadata": {},
     "output_type": "execute_result"
    }
   ],
   "source": [
    "table = soup.find_all(\"table\", class_ = \"medium\")\n",
    "table"
   ]
  },
  {
   "cell_type": "code",
   "execution_count": 5,
   "metadata": {},
   "outputs": [
    {
     "ename": "IndexError",
     "evalue": "list index out of range",
     "output_type": "error",
     "traceback": [
      "\u001b[1;31m---------------------------------------------------------------------------\u001b[0m",
      "\u001b[1;31mIndexError\u001b[0m                                Traceback (most recent call last)",
      "Input \u001b[1;32mIn [5]\u001b[0m, in \u001b[0;36m<cell line: 1>\u001b[1;34m()\u001b[0m\n\u001b[1;32m----> 1\u001b[0m tr \u001b[38;5;241m=\u001b[39m \u001b[43mtable\u001b[49m\u001b[43m[\u001b[49m\u001b[38;5;241;43m0\u001b[39;49m\u001b[43m]\u001b[49m\u001b[38;5;241m.\u001b[39mfind_all(\u001b[38;5;124m\"\u001b[39m\u001b[38;5;124mtr\u001b[39m\u001b[38;5;124m\"\u001b[39m) \n\u001b[0;32m      2\u001b[0m tr\n",
      "\u001b[1;31mIndexError\u001b[0m: list index out of range"
     ]
    }
   ],
   "source": [
    "tr = table[0].find_all(\"tr\") \n",
    "tr"
   ]
  },
  {
   "cell_type": "code",
   "execution_count": null,
   "metadata": {},
   "outputs": [],
   "source": [
    "test_data = []\n",
    "for i in tr:\n",
    "    if i.find_all(\"th\") != []:\n",
    "#         print(i.find_all(\"th\"))\n",
    "         test_data.append([i.text for i in i.find_all(\"th\")])  \n",
    "    elif i.find_all(\"td\") != []:\n",
    "#         print(i.find_all(\"td\"))\n",
    "        test_data.append([i.text for i in i.find_all(\"td\")])"
   ]
  },
  {
   "cell_type": "code",
   "execution_count": null,
   "metadata": {},
   "outputs": [],
   "source": [
    "test_data"
   ]
  },
  {
   "cell_type": "markdown",
   "metadata": {},
   "source": [
    "# ghar say karna ha (bhool na jana)"
   ]
  },
  {
   "cell_type": "code",
   "execution_count": null,
   "metadata": {},
   "outputs": [],
   "source": []
  }
 ],
 "metadata": {
  "kernelspec": {
   "display_name": "Python 3 (ipykernel)",
   "language": "python",
   "name": "python3"
  },
  "language_info": {
   "codemirror_mode": {
    "name": "ipython",
    "version": 3
   },
   "file_extension": ".py",
   "mimetype": "text/x-python",
   "name": "python",
   "nbconvert_exporter": "python",
   "pygments_lexer": "ipython3",
   "version": "3.8.5"
  }
 },
 "nbformat": 4,
 "nbformat_minor": 4
}
