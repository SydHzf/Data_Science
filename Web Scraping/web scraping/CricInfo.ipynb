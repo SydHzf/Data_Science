{
 "cells": [
  {
   "cell_type": "code",
   "execution_count": 1,
   "metadata": {},
   "outputs": [],
   "source": [
    "import requests\n",
    "from bs4 import BeautifulSoup"
   ]
  },
  {
   "cell_type": "code",
   "execution_count": 2,
   "metadata": {},
   "outputs": [],
   "source": [
    "base_site = \"https://www.espncricinfo.com/rankings/content/page/211271.html\""
   ]
  },
  {
   "cell_type": "code",
   "execution_count": 3,
   "metadata": {},
   "outputs": [
    {
     "data": {
      "text/plain": [
       "True"
      ]
     },
     "execution_count": 3,
     "metadata": {},
     "output_type": "execute_result"
    }
   ],
   "source": [
    "response = requests.get(base_site)\n",
    "response.status_code\n",
    "response.ok"
   ]
  },
  {
   "cell_type": "code",
   "execution_count": 4,
   "metadata": {},
   "outputs": [],
   "source": [
    "html = response.text"
   ]
  },
  {
   "cell_type": "code",
   "execution_count": 5,
   "metadata": {},
   "outputs": [],
   "source": [
    "read = BeautifulSoup(html, \"html.parser\")"
   ]
  },
  {
   "cell_type": "code",
   "execution_count": 9,
   "metadata": {},
   "outputs": [],
   "source": [
    "all_tables = read.find_all(\"table\", class_ = \"StoryengineTable\")"
   ]
  },
  {
   "cell_type": "code",
   "execution_count": 10,
   "metadata": {},
   "outputs": [
    {
     "data": {
      "text/plain": [
       "5"
      ]
     },
     "execution_count": 10,
     "metadata": {},
     "output_type": "execute_result"
    }
   ],
   "source": [
    "len(all_tables)"
   ]
  },
  {
   "cell_type": "code",
   "execution_count": 14,
   "metadata": {},
   "outputs": [
    {
     "data": {
      "text/plain": [
       "'01 July 2021'"
      ]
     },
     "execution_count": 14,
     "metadata": {},
     "output_type": "execute_result"
    }
   ],
   "source": [
    "odis = all_tables[1]\n",
    "odis.caption.text"
   ]
  },
  {
   "cell_type": "code",
   "execution_count": 17,
   "metadata": {
    "collapsed": true
   },
   "outputs": [
    {
     "name": "stdout",
     "output_type": "stream",
     "text": [
      "\n",
      "01 July 2021\n",
      "\n",
      "Pos\n",
      "Team\n",
      "Matches\n",
      "Points\n",
      "Rating\n",
      "\n",
      "\n",
      "1\n",
      "New Zealand\n",
      "17\n",
      "2054\n",
      "121\n",
      "\n",
      "\n",
      "2\n",
      "Australia\n",
      "25\n",
      "2945\n",
      "118\n",
      "\n",
      "\n",
      "3\n",
      "England\n",
      "29\n",
      "3356\n",
      "116\n",
      "\n",
      "\n",
      "4\n",
      "India\n",
      "29\n",
      "3344\n",
      "115\n",
      "\n",
      "\n",
      "5\n",
      "South Africa\n",
      "20\n",
      "2137\n",
      "107\n",
      "\n",
      "\n",
      "6\n",
      "Pakistan\n",
      "24\n",
      "2323\n",
      "97\n",
      "\n",
      "\n",
      "7\n",
      "Bangladesh\n",
      "27\n",
      "2438\n",
      "90\n",
      "\n",
      "\n",
      "8\n",
      "West Indies\n",
      "27\n",
      "2222\n",
      "82\n",
      "\n",
      "\n",
      "9\n",
      "Sri Lanka\n",
      "26\n",
      "2006\n",
      "77\n",
      "\n",
      "\n",
      "10\n",
      "Afghanistan\n",
      "17\n",
      "1054\n",
      "62\n",
      "\n",
      "\n",
      "11\n",
      "Netherlands\n",
      "7\n",
      "336\n",
      "48\n",
      "\n",
      "\n",
      "12\n",
      "Ireland\n",
      "21\n",
      "897\n",
      "43\n",
      "\n",
      "\n",
      "13\n",
      "Zimbabwe\n",
      "15\n",
      "588\n",
      "39\n",
      "\n",
      "\n",
      "14\n",
      "Scotland\n",
      "7\n",
      "258\n",
      "37\n",
      "\n",
      "\n",
      "15\n",
      "Oman\n",
      "7\n",
      "240\n",
      "34\n",
      "\n",
      "\n",
      "16\n",
      "Nepal\n",
      "5\n",
      "119\n",
      "24\n",
      "\n",
      "\n",
      "17\n",
      "UAE\n",
      "9\n",
      "190\n",
      "21\n",
      "\n",
      "\n",
      "18\n",
      "Namibia\n",
      "6\n",
      "97\n",
      "16\n",
      "\n",
      "\n",
      "19\n",
      "USA\n",
      "8\n",
      "93\n",
      "12\n",
      "\n",
      "\n",
      "20\n",
      "PNG\n",
      "5\n",
      "0\n",
      "0\n",
      "\n",
      "\n"
     ]
    }
   ],
   "source": [
    "print(odis.text)"
   ]
  },
  {
   "cell_type": "code",
   "execution_count": 19,
   "metadata": {},
   "outputs": [],
   "source": [
    "col = []\n",
    "\n",
    "for i in odis.find_all(\"th\"):\n",
    "    col.append(i.text)"
   ]
  },
  {
   "cell_type": "code",
   "execution_count": 20,
   "metadata": {},
   "outputs": [
    {
     "data": {
      "text/plain": [
       "['Pos', 'Team', 'Matches', 'Points', 'Rating']"
      ]
     },
     "execution_count": 20,
     "metadata": {},
     "output_type": "execute_result"
    }
   ],
   "source": [
    "col"
   ]
  },
  {
   "cell_type": "code",
   "execution_count": 22,
   "metadata": {},
   "outputs": [],
   "source": [
    "table = odis.find_all(\"td\")"
   ]
  },
  {
   "cell_type": "code",
   "execution_count": 27,
   "metadata": {},
   "outputs": [
    {
     "data": {
      "text/plain": [
       "[<td class=\"left\">1</td>,\n",
       " <td class=\"left\">New Zealand</td>,\n",
       " <td class=\"left\">17</td>,\n",
       " <td class=\"left\">2054</td>,\n",
       " <td class=\"left\">121</td>,\n",
       " <td class=\"left\">2</td>,\n",
       " <td class=\"left\">Australia</td>,\n",
       " <td class=\"left\">25</td>,\n",
       " <td class=\"left\">2945</td>,\n",
       " <td class=\"left\">118</td>,\n",
       " <td class=\"left\">3</td>,\n",
       " <td class=\"left\">England</td>,\n",
       " <td class=\"left\">29</td>,\n",
       " <td class=\"left\">3356</td>,\n",
       " <td class=\"left\">116</td>,\n",
       " <td class=\"left\">4</td>,\n",
       " <td class=\"left\">India</td>,\n",
       " <td class=\"left\">29</td>,\n",
       " <td class=\"left\">3344</td>,\n",
       " <td class=\"left\">115</td>,\n",
       " <td class=\"left\">5</td>,\n",
       " <td class=\"left\">South Africa</td>,\n",
       " <td class=\"left\">20</td>,\n",
       " <td class=\"left\">2137</td>,\n",
       " <td class=\"left\">107</td>,\n",
       " <td class=\"left\">6</td>,\n",
       " <td class=\"left\">Pakistan</td>,\n",
       " <td class=\"left\">24</td>,\n",
       " <td class=\"left\">2323</td>,\n",
       " <td class=\"left\">97</td>,\n",
       " <td class=\"left\">7</td>,\n",
       " <td class=\"left\">Bangladesh</td>,\n",
       " <td class=\"left\">27</td>,\n",
       " <td class=\"left\">2438</td>,\n",
       " <td class=\"left\">90</td>,\n",
       " <td class=\"left\">8</td>,\n",
       " <td class=\"left\">West Indies</td>,\n",
       " <td class=\"left\">27</td>,\n",
       " <td class=\"left\">2222</td>,\n",
       " <td class=\"left\">82</td>,\n",
       " <td class=\"left\">9</td>,\n",
       " <td class=\"left\">Sri Lanka</td>,\n",
       " <td class=\"left\">26</td>,\n",
       " <td class=\"left\">2006</td>,\n",
       " <td class=\"left\">77</td>,\n",
       " <td class=\"left\">10</td>,\n",
       " <td class=\"left\">Afghanistan</td>,\n",
       " <td class=\"left\">17</td>,\n",
       " <td class=\"left\">1054</td>,\n",
       " <td class=\"left\">62</td>,\n",
       " <td class=\"left\">11</td>,\n",
       " <td class=\"left\">Netherlands</td>,\n",
       " <td class=\"left\">7</td>,\n",
       " <td class=\"left\">336</td>,\n",
       " <td class=\"left\">48</td>,\n",
       " <td class=\"left\">12</td>,\n",
       " <td class=\"left\">Ireland</td>,\n",
       " <td class=\"left\">21</td>,\n",
       " <td class=\"left\">897</td>,\n",
       " <td class=\"left\">43</td>,\n",
       " <td class=\"left\">13</td>,\n",
       " <td class=\"left\">Zimbabwe</td>,\n",
       " <td class=\"left\">15</td>,\n",
       " <td class=\"left\">588</td>,\n",
       " <td class=\"left\">39</td>,\n",
       " <td class=\"left\">14</td>,\n",
       " <td class=\"left\">Scotland</td>,\n",
       " <td class=\"left\">7</td>,\n",
       " <td class=\"left\">258</td>,\n",
       " <td class=\"left\">37</td>,\n",
       " <td class=\"left\">15</td>,\n",
       " <td class=\"left\">Oman</td>,\n",
       " <td class=\"left\">7</td>,\n",
       " <td class=\"left\">240</td>,\n",
       " <td class=\"left\">34</td>,\n",
       " <td class=\"left\">16</td>,\n",
       " <td class=\"left\">Nepal</td>,\n",
       " <td class=\"left\">5</td>,\n",
       " <td class=\"left\">119</td>,\n",
       " <td class=\"left\">24</td>,\n",
       " <td class=\"left\">17</td>,\n",
       " <td class=\"left\">UAE</td>,\n",
       " <td class=\"left\">9</td>,\n",
       " <td class=\"left\">190</td>,\n",
       " <td class=\"left\">21</td>,\n",
       " <td class=\"left\">18</td>,\n",
       " <td class=\"left\">Namibia</td>,\n",
       " <td class=\"left\">6</td>,\n",
       " <td class=\"left\">97</td>,\n",
       " <td class=\"left\">16</td>,\n",
       " <td class=\"left\">19</td>,\n",
       " <td class=\"left\">USA</td>,\n",
       " <td class=\"left\">8</td>,\n",
       " <td class=\"left\">93</td>,\n",
       " <td class=\"left\">12</td>,\n",
       " <td class=\"left\">20</td>,\n",
       " <td class=\"left\">PNG</td>,\n",
       " <td class=\"left\">5</td>,\n",
       " <td class=\"left\">0</td>,\n",
       " <td class=\"left\">0</td>]"
      ]
     },
     "execution_count": 27,
     "metadata": {},
     "output_type": "execute_result"
    }
   ],
   "source": [
    "table"
   ]
  },
  {
   "cell_type": "code",
   "execution_count": 36,
   "metadata": {},
   "outputs": [],
   "source": [
    "table_list = []\n",
    "start = 0\n",
    "end = 5\n",
    "\n",
    "for i in range(20):\n",
    "    Pos, Team, Matches, Points, Rating = table[start:end]\n",
    "    table_list.append([Pos.text, Team.text, Matches.text, Points.text, Rating.text])\n",
    "    start += 5\n",
    "    end += 5"
   ]
  },
  {
   "cell_type": "code",
   "execution_count": 37,
   "metadata": {
    "collapsed": true
   },
   "outputs": [
    {
     "data": {
      "text/plain": [
       "[['1', 'New Zealand', '17', '2054', '121'],\n",
       " ['2', 'Australia', '25', '2945', '118'],\n",
       " ['3', 'England', '29', '3356', '116'],\n",
       " ['4', 'India', '29', '3344', '115'],\n",
       " ['5', 'South Africa', '20', '2137', '107'],\n",
       " ['6', 'Pakistan', '24', '2323', '97'],\n",
       " ['7', 'Bangladesh', '27', '2438', '90'],\n",
       " ['8', 'West Indies', '27', '2222', '82'],\n",
       " ['9', 'Sri Lanka', '26', '2006', '77'],\n",
       " ['10', 'Afghanistan', '17', '1054', '62'],\n",
       " ['11', 'Netherlands', '7', '336', '48'],\n",
       " ['12', 'Ireland', '21', '897', '43'],\n",
       " ['13', 'Zimbabwe', '15', '588', '39'],\n",
       " ['14', 'Scotland', '7', '258', '37'],\n",
       " ['15', 'Oman', '7', '240', '34'],\n",
       " ['16', 'Nepal', '5', '119', '24'],\n",
       " ['17', 'UAE', '9', '190', '21'],\n",
       " ['18', 'Namibia', '6', '97', '16'],\n",
       " ['19', 'USA', '8', '93', '12'],\n",
       " ['20', 'PNG', '5', '0', '0']]"
      ]
     },
     "execution_count": 37,
     "metadata": {},
     "output_type": "execute_result"
    }
   ],
   "source": [
    "table_list"
   ]
  },
  {
   "cell_type": "code",
   "execution_count": 34,
   "metadata": {},
   "outputs": [],
   "source": [
    "import pandas as pd"
   ]
  },
  {
   "cell_type": "code",
   "execution_count": 38,
   "metadata": {},
   "outputs": [],
   "source": [
    "odi_ranking = pd.DataFrame(table_list, columns = col)"
   ]
  },
  {
   "cell_type": "code",
   "execution_count": 40,
   "metadata": {},
   "outputs": [],
   "source": [
    "odi_ranking.to_csv(\"odi_rank.csv\", index=False)"
   ]
  },
  {
   "cell_type": "code",
   "execution_count": 41,
   "metadata": {},
   "outputs": [
    {
     "data": {
      "text/html": [
       "<div>\n",
       "<style scoped>\n",
       "    .dataframe tbody tr th:only-of-type {\n",
       "        vertical-align: middle;\n",
       "    }\n",
       "\n",
       "    .dataframe tbody tr th {\n",
       "        vertical-align: top;\n",
       "    }\n",
       "\n",
       "    .dataframe thead th {\n",
       "        text-align: right;\n",
       "    }\n",
       "</style>\n",
       "<table border=\"1\" class=\"dataframe\">\n",
       "  <thead>\n",
       "    <tr style=\"text-align: right;\">\n",
       "      <th></th>\n",
       "      <th>Pos</th>\n",
       "      <th>Team</th>\n",
       "      <th>Matches</th>\n",
       "      <th>Points</th>\n",
       "      <th>Rating</th>\n",
       "    </tr>\n",
       "  </thead>\n",
       "  <tbody>\n",
       "    <tr>\n",
       "      <th>0</th>\n",
       "      <td>1</td>\n",
       "      <td>New Zealand</td>\n",
       "      <td>17</td>\n",
       "      <td>2054</td>\n",
       "      <td>121</td>\n",
       "    </tr>\n",
       "    <tr>\n",
       "      <th>1</th>\n",
       "      <td>2</td>\n",
       "      <td>Australia</td>\n",
       "      <td>25</td>\n",
       "      <td>2945</td>\n",
       "      <td>118</td>\n",
       "    </tr>\n",
       "    <tr>\n",
       "      <th>2</th>\n",
       "      <td>3</td>\n",
       "      <td>England</td>\n",
       "      <td>29</td>\n",
       "      <td>3356</td>\n",
       "      <td>116</td>\n",
       "    </tr>\n",
       "    <tr>\n",
       "      <th>3</th>\n",
       "      <td>4</td>\n",
       "      <td>India</td>\n",
       "      <td>29</td>\n",
       "      <td>3344</td>\n",
       "      <td>115</td>\n",
       "    </tr>\n",
       "    <tr>\n",
       "      <th>4</th>\n",
       "      <td>5</td>\n",
       "      <td>South Africa</td>\n",
       "      <td>20</td>\n",
       "      <td>2137</td>\n",
       "      <td>107</td>\n",
       "    </tr>\n",
       "    <tr>\n",
       "      <th>5</th>\n",
       "      <td>6</td>\n",
       "      <td>Pakistan</td>\n",
       "      <td>24</td>\n",
       "      <td>2323</td>\n",
       "      <td>97</td>\n",
       "    </tr>\n",
       "    <tr>\n",
       "      <th>6</th>\n",
       "      <td>7</td>\n",
       "      <td>Bangladesh</td>\n",
       "      <td>27</td>\n",
       "      <td>2438</td>\n",
       "      <td>90</td>\n",
       "    </tr>\n",
       "    <tr>\n",
       "      <th>7</th>\n",
       "      <td>8</td>\n",
       "      <td>West Indies</td>\n",
       "      <td>27</td>\n",
       "      <td>2222</td>\n",
       "      <td>82</td>\n",
       "    </tr>\n",
       "    <tr>\n",
       "      <th>8</th>\n",
       "      <td>9</td>\n",
       "      <td>Sri Lanka</td>\n",
       "      <td>26</td>\n",
       "      <td>2006</td>\n",
       "      <td>77</td>\n",
       "    </tr>\n",
       "    <tr>\n",
       "      <th>9</th>\n",
       "      <td>10</td>\n",
       "      <td>Afghanistan</td>\n",
       "      <td>17</td>\n",
       "      <td>1054</td>\n",
       "      <td>62</td>\n",
       "    </tr>\n",
       "    <tr>\n",
       "      <th>10</th>\n",
       "      <td>11</td>\n",
       "      <td>Netherlands</td>\n",
       "      <td>7</td>\n",
       "      <td>336</td>\n",
       "      <td>48</td>\n",
       "    </tr>\n",
       "    <tr>\n",
       "      <th>11</th>\n",
       "      <td>12</td>\n",
       "      <td>Ireland</td>\n",
       "      <td>21</td>\n",
       "      <td>897</td>\n",
       "      <td>43</td>\n",
       "    </tr>\n",
       "    <tr>\n",
       "      <th>12</th>\n",
       "      <td>13</td>\n",
       "      <td>Zimbabwe</td>\n",
       "      <td>15</td>\n",
       "      <td>588</td>\n",
       "      <td>39</td>\n",
       "    </tr>\n",
       "    <tr>\n",
       "      <th>13</th>\n",
       "      <td>14</td>\n",
       "      <td>Scotland</td>\n",
       "      <td>7</td>\n",
       "      <td>258</td>\n",
       "      <td>37</td>\n",
       "    </tr>\n",
       "    <tr>\n",
       "      <th>14</th>\n",
       "      <td>15</td>\n",
       "      <td>Oman</td>\n",
       "      <td>7</td>\n",
       "      <td>240</td>\n",
       "      <td>34</td>\n",
       "    </tr>\n",
       "    <tr>\n",
       "      <th>15</th>\n",
       "      <td>16</td>\n",
       "      <td>Nepal</td>\n",
       "      <td>5</td>\n",
       "      <td>119</td>\n",
       "      <td>24</td>\n",
       "    </tr>\n",
       "    <tr>\n",
       "      <th>16</th>\n",
       "      <td>17</td>\n",
       "      <td>UAE</td>\n",
       "      <td>9</td>\n",
       "      <td>190</td>\n",
       "      <td>21</td>\n",
       "    </tr>\n",
       "    <tr>\n",
       "      <th>17</th>\n",
       "      <td>18</td>\n",
       "      <td>Namibia</td>\n",
       "      <td>6</td>\n",
       "      <td>97</td>\n",
       "      <td>16</td>\n",
       "    </tr>\n",
       "    <tr>\n",
       "      <th>18</th>\n",
       "      <td>19</td>\n",
       "      <td>USA</td>\n",
       "      <td>8</td>\n",
       "      <td>93</td>\n",
       "      <td>12</td>\n",
       "    </tr>\n",
       "    <tr>\n",
       "      <th>19</th>\n",
       "      <td>20</td>\n",
       "      <td>PNG</td>\n",
       "      <td>5</td>\n",
       "      <td>0</td>\n",
       "      <td>0</td>\n",
       "    </tr>\n",
       "  </tbody>\n",
       "</table>\n",
       "</div>"
      ],
      "text/plain": [
       "   Pos          Team Matches Points Rating\n",
       "0    1   New Zealand      17   2054    121\n",
       "1    2     Australia      25   2945    118\n",
       "2    3       England      29   3356    116\n",
       "3    4         India      29   3344    115\n",
       "4    5  South Africa      20   2137    107\n",
       "5    6      Pakistan      24   2323     97\n",
       "6    7    Bangladesh      27   2438     90\n",
       "7    8   West Indies      27   2222     82\n",
       "8    9     Sri Lanka      26   2006     77\n",
       "9   10   Afghanistan      17   1054     62\n",
       "10  11   Netherlands       7    336     48\n",
       "11  12       Ireland      21    897     43\n",
       "12  13      Zimbabwe      15    588     39\n",
       "13  14      Scotland       7    258     37\n",
       "14  15          Oman       7    240     34\n",
       "15  16         Nepal       5    119     24\n",
       "16  17           UAE       9    190     21\n",
       "17  18       Namibia       6     97     16\n",
       "18  19           USA       8     93     12\n",
       "19  20           PNG       5      0      0"
      ]
     },
     "execution_count": 41,
     "metadata": {},
     "output_type": "execute_result"
    }
   ],
   "source": [
    "odi_ranking"
   ]
  },
  {
   "cell_type": "code",
   "execution_count": null,
   "metadata": {},
   "outputs": [],
   "source": []
  }
 ],
 "metadata": {
  "kernelspec": {
   "display_name": "Python 3",
   "language": "python",
   "name": "python3"
  },
  "language_info": {
   "codemirror_mode": {
    "name": "ipython",
    "version": 3
   },
   "file_extension": ".py",
   "mimetype": "text/x-python",
   "name": "python",
   "nbconvert_exporter": "python",
   "pygments_lexer": "ipython3",
   "version": "3.8.3"
  }
 },
 "nbformat": 4,
 "nbformat_minor": 4
}
