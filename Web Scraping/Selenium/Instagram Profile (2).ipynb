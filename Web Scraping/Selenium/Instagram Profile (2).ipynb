{
 "cells": [
  {
   "cell_type": "code",
   "execution_count": 1,
   "id": "7c314cb1",
   "metadata": {},
   "outputs": [],
   "source": [
    "from selenium import webdriver\n",
    "from selenium.webdriver.common.keys import Keys\n",
    "from selenium.webdriver.support import expected_conditions as EC\n",
    "from selenium.webdriver.common.by import By\n",
    "from selenium.webdriver.support.wait import WebDriverWait\n",
    "import time"
   ]
  },
  {
   "cell_type": "code",
   "execution_count": 2,
   "id": "696acaa6",
   "metadata": {},
   "outputs": [
    {
     "ename": "SessionNotCreatedException",
     "evalue": "Message: session not created: This version of ChromeDriver only supports Chrome version 99\nCurrent browser version is 104.0.5112.102 with binary path C:\\Program Files\\Google\\Chrome\\Application\\chrome.exe\nStacktrace:\nBacktrace:\n\tOrdinal0 [0x00F09943+2595139]\n\tOrdinal0 [0x00E9C9F1+2148849]\n\tOrdinal0 [0x00D94528+1066280]\n\tOrdinal0 [0x00DB42C3+1196739]\n\tOrdinal0 [0x00DAFE37+1179191]\n\tOrdinal0 [0x00DAD6F1+1169137]\n\tOrdinal0 [0x00DE0530+1377584]\n\tOrdinal0 [0x00DE018A+1376650]\n\tOrdinal0 [0x00DDB806+1357830]\n\tOrdinal0 [0x00DB6086+1204358]\n\tOrdinal0 [0x00DB6F96+1208214]\n\tGetHandleVerifier [0x010AB232+1658114]\n\tGetHandleVerifier [0x0116312C+2411516]\n\tGetHandleVerifier [0x00F9F261+560433]\n\tGetHandleVerifier [0x00F9E366+556598]\n\tOrdinal0 [0x00EA286B+2173035]\n\tOrdinal0 [0x00EA75F8+2192888]\n\tOrdinal0 [0x00EA76E5+2193125]\n\tOrdinal0 [0x00EB11FC+2232828]\n\tBaseThreadInitThunk [0x778E6739+25]\n\tRtlGetFullPathName_UEx [0x77C88E7F+1215]\n\tRtlGetFullPathName_UEx [0x77C88E4D+1165]\n",
     "output_type": "error",
     "traceback": [
      "\u001b[1;31m---------------------------------------------------------------------------\u001b[0m",
      "\u001b[1;31mSessionNotCreatedException\u001b[0m                Traceback (most recent call last)",
      "Input \u001b[1;32mIn [2]\u001b[0m, in \u001b[0;36m<cell line: 1>\u001b[1;34m()\u001b[0m\n\u001b[1;32m----> 1\u001b[0m driver \u001b[38;5;241m=\u001b[39m \u001b[43mwebdriver\u001b[49m\u001b[38;5;241;43m.\u001b[39;49m\u001b[43mChrome\u001b[49m\u001b[43m(\u001b[49m\u001b[43m)\u001b[49m\n",
      "File \u001b[1;32m~\\Anaconda3\\lib\\site-packages\\selenium\\webdriver\\chrome\\webdriver.py:70\u001b[0m, in \u001b[0;36mWebDriver.__init__\u001b[1;34m(self, executable_path, port, options, service_args, desired_capabilities, service_log_path, chrome_options, service, keep_alive)\u001b[0m\n\u001b[0;32m     67\u001b[0m \u001b[38;5;28;01mif\u001b[39;00m \u001b[38;5;129;01mnot\u001b[39;00m service:\n\u001b[0;32m     68\u001b[0m     service \u001b[38;5;241m=\u001b[39m Service(executable_path, port, service_args, service_log_path)\n\u001b[1;32m---> 70\u001b[0m \u001b[38;5;28;43msuper\u001b[39;49m\u001b[43m(\u001b[49m\u001b[43mWebDriver\u001b[49m\u001b[43m,\u001b[49m\u001b[43m \u001b[49m\u001b[38;5;28;43mself\u001b[39;49m\u001b[43m)\u001b[49m\u001b[38;5;241;43m.\u001b[39;49m\u001b[38;5;21;43m__init__\u001b[39;49m\u001b[43m(\u001b[49m\u001b[43mDesiredCapabilities\u001b[49m\u001b[38;5;241;43m.\u001b[39;49m\u001b[43mCHROME\u001b[49m\u001b[43m[\u001b[49m\u001b[38;5;124;43m'\u001b[39;49m\u001b[38;5;124;43mbrowserName\u001b[39;49m\u001b[38;5;124;43m'\u001b[39;49m\u001b[43m]\u001b[49m\u001b[43m,\u001b[49m\u001b[43m \u001b[49m\u001b[38;5;124;43m\"\u001b[39;49m\u001b[38;5;124;43mgoog\u001b[39;49m\u001b[38;5;124;43m\"\u001b[39;49m\u001b[43m,\u001b[49m\n\u001b[0;32m     71\u001b[0m \u001b[43m                                \u001b[49m\u001b[43mport\u001b[49m\u001b[43m,\u001b[49m\u001b[43m \u001b[49m\u001b[43moptions\u001b[49m\u001b[43m,\u001b[49m\n\u001b[0;32m     72\u001b[0m \u001b[43m                                \u001b[49m\u001b[43mservice_args\u001b[49m\u001b[43m,\u001b[49m\u001b[43m \u001b[49m\u001b[43mdesired_capabilities\u001b[49m\u001b[43m,\u001b[49m\n\u001b[0;32m     73\u001b[0m \u001b[43m                                \u001b[49m\u001b[43mservice_log_path\u001b[49m\u001b[43m,\u001b[49m\u001b[43m \u001b[49m\u001b[43mservice\u001b[49m\u001b[43m,\u001b[49m\u001b[43m \u001b[49m\u001b[43mkeep_alive\u001b[49m\u001b[43m)\u001b[49m\n",
      "File \u001b[1;32m~\\Anaconda3\\lib\\site-packages\\selenium\\webdriver\\chromium\\webdriver.py:93\u001b[0m, in \u001b[0;36mChromiumDriver.__init__\u001b[1;34m(self, browser_name, vendor_prefix, port, options, service_args, desired_capabilities, service_log_path, service, keep_alive)\u001b[0m\n\u001b[0;32m     90\u001b[0m \u001b[38;5;28mself\u001b[39m\u001b[38;5;241m.\u001b[39mservice\u001b[38;5;241m.\u001b[39mstart()\n\u001b[0;32m     92\u001b[0m \u001b[38;5;28;01mtry\u001b[39;00m:\n\u001b[1;32m---> 93\u001b[0m     \u001b[43mRemoteWebDriver\u001b[49m\u001b[38;5;241;43m.\u001b[39;49m\u001b[38;5;21;43m__init__\u001b[39;49m\u001b[43m(\u001b[49m\n\u001b[0;32m     94\u001b[0m \u001b[43m        \u001b[49m\u001b[38;5;28;43mself\u001b[39;49m\u001b[43m,\u001b[49m\n\u001b[0;32m     95\u001b[0m \u001b[43m        \u001b[49m\u001b[43mcommand_executor\u001b[49m\u001b[38;5;241;43m=\u001b[39;49m\u001b[43mChromiumRemoteConnection\u001b[49m\u001b[43m(\u001b[49m\n\u001b[0;32m     96\u001b[0m \u001b[43m            \u001b[49m\u001b[43mremote_server_addr\u001b[49m\u001b[38;5;241;43m=\u001b[39;49m\u001b[38;5;28;43mself\u001b[39;49m\u001b[38;5;241;43m.\u001b[39;49m\u001b[43mservice\u001b[49m\u001b[38;5;241;43m.\u001b[39;49m\u001b[43mservice_url\u001b[49m\u001b[43m,\u001b[49m\n\u001b[0;32m     97\u001b[0m \u001b[43m            \u001b[49m\u001b[43mbrowser_name\u001b[49m\u001b[38;5;241;43m=\u001b[39;49m\u001b[43mbrowser_name\u001b[49m\u001b[43m,\u001b[49m\u001b[43m \u001b[49m\u001b[43mvendor_prefix\u001b[49m\u001b[38;5;241;43m=\u001b[39;49m\u001b[43mvendor_prefix\u001b[49m\u001b[43m,\u001b[49m\n\u001b[0;32m     98\u001b[0m \u001b[43m            \u001b[49m\u001b[43mkeep_alive\u001b[49m\u001b[38;5;241;43m=\u001b[39;49m\u001b[43mkeep_alive\u001b[49m\u001b[43m,\u001b[49m\u001b[43m \u001b[49m\u001b[43mignore_proxy\u001b[49m\u001b[38;5;241;43m=\u001b[39;49m\u001b[43m_ignore_proxy\u001b[49m\u001b[43m)\u001b[49m\u001b[43m,\u001b[49m\n\u001b[0;32m     99\u001b[0m \u001b[43m        \u001b[49m\u001b[43moptions\u001b[49m\u001b[38;5;241;43m=\u001b[39;49m\u001b[43moptions\u001b[49m\u001b[43m)\u001b[49m\n\u001b[0;32m    100\u001b[0m \u001b[38;5;28;01mexcept\u001b[39;00m \u001b[38;5;167;01mException\u001b[39;00m:\n\u001b[0;32m    101\u001b[0m     \u001b[38;5;28mself\u001b[39m\u001b[38;5;241m.\u001b[39mquit()\n",
      "File \u001b[1;32m~\\Anaconda3\\lib\\site-packages\\selenium\\webdriver\\remote\\webdriver.py:269\u001b[0m, in \u001b[0;36mWebDriver.__init__\u001b[1;34m(self, command_executor, desired_capabilities, browser_profile, proxy, keep_alive, file_detector, options)\u001b[0m\n\u001b[0;32m    267\u001b[0m \u001b[38;5;28mself\u001b[39m\u001b[38;5;241m.\u001b[39mfile_detector \u001b[38;5;241m=\u001b[39m file_detector \u001b[38;5;129;01mor\u001b[39;00m LocalFileDetector()\n\u001b[0;32m    268\u001b[0m \u001b[38;5;28mself\u001b[39m\u001b[38;5;241m.\u001b[39mstart_client()\n\u001b[1;32m--> 269\u001b[0m \u001b[38;5;28;43mself\u001b[39;49m\u001b[38;5;241;43m.\u001b[39;49m\u001b[43mstart_session\u001b[49m\u001b[43m(\u001b[49m\u001b[43mcapabilities\u001b[49m\u001b[43m,\u001b[49m\u001b[43m \u001b[49m\u001b[43mbrowser_profile\u001b[49m\u001b[43m)\u001b[49m\n",
      "File \u001b[1;32m~\\Anaconda3\\lib\\site-packages\\selenium\\webdriver\\remote\\webdriver.py:360\u001b[0m, in \u001b[0;36mWebDriver.start_session\u001b[1;34m(self, capabilities, browser_profile)\u001b[0m\n\u001b[0;32m    357\u001b[0m w3c_caps \u001b[38;5;241m=\u001b[39m _make_w3c_caps(capabilities)\n\u001b[0;32m    358\u001b[0m parameters \u001b[38;5;241m=\u001b[39m {\u001b[38;5;124m\"\u001b[39m\u001b[38;5;124mcapabilities\u001b[39m\u001b[38;5;124m\"\u001b[39m: w3c_caps,\n\u001b[0;32m    359\u001b[0m               \u001b[38;5;124m\"\u001b[39m\u001b[38;5;124mdesiredCapabilities\u001b[39m\u001b[38;5;124m\"\u001b[39m: capabilities}\n\u001b[1;32m--> 360\u001b[0m response \u001b[38;5;241m=\u001b[39m \u001b[38;5;28;43mself\u001b[39;49m\u001b[38;5;241;43m.\u001b[39;49m\u001b[43mexecute\u001b[49m\u001b[43m(\u001b[49m\u001b[43mCommand\u001b[49m\u001b[38;5;241;43m.\u001b[39;49m\u001b[43mNEW_SESSION\u001b[49m\u001b[43m,\u001b[49m\u001b[43m \u001b[49m\u001b[43mparameters\u001b[49m\u001b[43m)\u001b[49m\n\u001b[0;32m    361\u001b[0m \u001b[38;5;28;01mif\u001b[39;00m \u001b[38;5;124m'\u001b[39m\u001b[38;5;124msessionId\u001b[39m\u001b[38;5;124m'\u001b[39m \u001b[38;5;129;01mnot\u001b[39;00m \u001b[38;5;129;01min\u001b[39;00m response:\n\u001b[0;32m    362\u001b[0m     response \u001b[38;5;241m=\u001b[39m response[\u001b[38;5;124m'\u001b[39m\u001b[38;5;124mvalue\u001b[39m\u001b[38;5;124m'\u001b[39m]\n",
      "File \u001b[1;32m~\\Anaconda3\\lib\\site-packages\\selenium\\webdriver\\remote\\webdriver.py:425\u001b[0m, in \u001b[0;36mWebDriver.execute\u001b[1;34m(self, driver_command, params)\u001b[0m\n\u001b[0;32m    423\u001b[0m response \u001b[38;5;241m=\u001b[39m \u001b[38;5;28mself\u001b[39m\u001b[38;5;241m.\u001b[39mcommand_executor\u001b[38;5;241m.\u001b[39mexecute(driver_command, params)\n\u001b[0;32m    424\u001b[0m \u001b[38;5;28;01mif\u001b[39;00m response:\n\u001b[1;32m--> 425\u001b[0m     \u001b[38;5;28;43mself\u001b[39;49m\u001b[38;5;241;43m.\u001b[39;49m\u001b[43merror_handler\u001b[49m\u001b[38;5;241;43m.\u001b[39;49m\u001b[43mcheck_response\u001b[49m\u001b[43m(\u001b[49m\u001b[43mresponse\u001b[49m\u001b[43m)\u001b[49m\n\u001b[0;32m    426\u001b[0m     response[\u001b[38;5;124m'\u001b[39m\u001b[38;5;124mvalue\u001b[39m\u001b[38;5;124m'\u001b[39m] \u001b[38;5;241m=\u001b[39m \u001b[38;5;28mself\u001b[39m\u001b[38;5;241m.\u001b[39m_unwrap_value(\n\u001b[0;32m    427\u001b[0m         response\u001b[38;5;241m.\u001b[39mget(\u001b[38;5;124m'\u001b[39m\u001b[38;5;124mvalue\u001b[39m\u001b[38;5;124m'\u001b[39m, \u001b[38;5;28;01mNone\u001b[39;00m))\n\u001b[0;32m    428\u001b[0m     \u001b[38;5;28;01mreturn\u001b[39;00m response\n",
      "File \u001b[1;32m~\\Anaconda3\\lib\\site-packages\\selenium\\webdriver\\remote\\errorhandler.py:247\u001b[0m, in \u001b[0;36mErrorHandler.check_response\u001b[1;34m(self, response)\u001b[0m\n\u001b[0;32m    245\u001b[0m         alert_text \u001b[38;5;241m=\u001b[39m value[\u001b[38;5;124m'\u001b[39m\u001b[38;5;124malert\u001b[39m\u001b[38;5;124m'\u001b[39m]\u001b[38;5;241m.\u001b[39mget(\u001b[38;5;124m'\u001b[39m\u001b[38;5;124mtext\u001b[39m\u001b[38;5;124m'\u001b[39m)\n\u001b[0;32m    246\u001b[0m     \u001b[38;5;28;01mraise\u001b[39;00m exception_class(message, screen, stacktrace, alert_text)  \u001b[38;5;66;03m# type: ignore[call-arg]  # mypy is not smart enough here\u001b[39;00m\n\u001b[1;32m--> 247\u001b[0m \u001b[38;5;28;01mraise\u001b[39;00m exception_class(message, screen, stacktrace)\n",
      "\u001b[1;31mSessionNotCreatedException\u001b[0m: Message: session not created: This version of ChromeDriver only supports Chrome version 99\nCurrent browser version is 104.0.5112.102 with binary path C:\\Program Files\\Google\\Chrome\\Application\\chrome.exe\nStacktrace:\nBacktrace:\n\tOrdinal0 [0x00F09943+2595139]\n\tOrdinal0 [0x00E9C9F1+2148849]\n\tOrdinal0 [0x00D94528+1066280]\n\tOrdinal0 [0x00DB42C3+1196739]\n\tOrdinal0 [0x00DAFE37+1179191]\n\tOrdinal0 [0x00DAD6F1+1169137]\n\tOrdinal0 [0x00DE0530+1377584]\n\tOrdinal0 [0x00DE018A+1376650]\n\tOrdinal0 [0x00DDB806+1357830]\n\tOrdinal0 [0x00DB6086+1204358]\n\tOrdinal0 [0x00DB6F96+1208214]\n\tGetHandleVerifier [0x010AB232+1658114]\n\tGetHandleVerifier [0x0116312C+2411516]\n\tGetHandleVerifier [0x00F9F261+560433]\n\tGetHandleVerifier [0x00F9E366+556598]\n\tOrdinal0 [0x00EA286B+2173035]\n\tOrdinal0 [0x00EA75F8+2192888]\n\tOrdinal0 [0x00EA76E5+2193125]\n\tOrdinal0 [0x00EB11FC+2232828]\n\tBaseThreadInitThunk [0x778E6739+25]\n\tRtlGetFullPathName_UEx [0x77C88E7F+1215]\n\tRtlGetFullPathName_UEx [0x77C88E4D+1165]\n"
     ]
    }
   ],
   "source": [
    "driver = webdriver.Chrome()\n",
    "# driver = webdriver.Opera()"
   ]
  },
  {
   "cell_type": "code",
   "execution_count": 3,
   "id": "a4c21099",
   "metadata": {},
   "outputs": [],
   "source": [
    "#open the webpage\n",
    "driver.get(\"http://www.instagram.com/\")\n",
    "\n",
    "time.sleep(3)"
   ]
  },
  {
   "cell_type": "code",
   "execution_count": 4,
   "id": "d7153833",
   "metadata": {},
   "outputs": [],
   "source": [
    "css = 'input[name=\"username\"]'\n",
    "\n",
    "username = WebDriverWait(driver, 10).until(EC.element_to_be_clickable((By.CSS_SELECTOR,css)))"
   ]
  },
  {
   "cell_type": "code",
   "execution_count": 5,
   "id": "891b770f",
   "metadata": {},
   "outputs": [],
   "source": [
    "username.clear()\n",
    "username.send_keys(\"crdani97\")"
   ]
  },
  {
   "cell_type": "code",
   "execution_count": 6,
   "id": "07c34c15",
   "metadata": {},
   "outputs": [],
   "source": [
    "css = 'input[name=\"password\"]'\n",
    "\n",
    "passoword = WebDriverWait(driver, 10).until(EC.element_to_be_clickable((By.CSS_SELECTOR,css)))"
   ]
  },
  {
   "cell_type": "code",
   "execution_count": 7,
   "id": "66658db3",
   "metadata": {},
   "outputs": [],
   "source": [
    "passoword.clear()\n",
    "passoword.send_keys(\"hddanial7\")"
   ]
  },
  {
   "cell_type": "code",
   "execution_count": 8,
   "id": "41184382",
   "metadata": {},
   "outputs": [],
   "source": [
    "time.sleep(2)"
   ]
  },
  {
   "cell_type": "code",
   "execution_count": 9,
   "id": "a23cfdba",
   "metadata": {},
   "outputs": [],
   "source": [
    "css = 'button[type=\"submit\"]'\n",
    "\n",
    "button = WebDriverWait(driver, 10).until(EC.element_to_be_clickable((By.CSS_SELECTOR,css)))"
   ]
  },
  {
   "cell_type": "code",
   "execution_count": 10,
   "id": "9ebcfb76",
   "metadata": {},
   "outputs": [],
   "source": [
    "button.click()\n",
    "\n",
    "time.sleep(5)"
   ]
  },
  {
   "cell_type": "code",
   "execution_count": 11,
   "id": "0b74246c",
   "metadata": {},
   "outputs": [],
   "source": [
    "path = '//button[contains(text(),\"Not Now\")]'\n",
    "\n",
    "not_now = WebDriverWait(driver, 10).until(EC.element_to_be_clickable((By.XPATH,path)))\n",
    "\n",
    "not_now.click()"
   ]
  },
  {
   "cell_type": "code",
   "execution_count": 12,
   "id": "a5de53c5",
   "metadata": {},
   "outputs": [],
   "source": [
    "time.sleep(3)"
   ]
  },
  {
   "cell_type": "code",
   "execution_count": 13,
   "id": "f2bc4d15",
   "metadata": {},
   "outputs": [],
   "source": [
    "path = '//button[contains(text(),\"Not Now\")]'\n",
    "\n",
    "not_now2 = WebDriverWait(driver, 10).until(EC.element_to_be_clickable((By.XPATH,path)))\n",
    "\n",
    "not_now2.click()"
   ]
  },
  {
   "cell_type": "code",
   "execution_count": 14,
   "id": "32445a02",
   "metadata": {},
   "outputs": [],
   "source": [
    "css = 'input[placeholder=\"Search\"]'\n",
    "\n",
    "searchbox = WebDriverWait(driver, 10).until(EC.element_to_be_clickable((By.CSS_SELECTOR,css)))"
   ]
  },
  {
   "cell_type": "code",
   "execution_count": 15,
   "id": "f5dd09bf",
   "metadata": {},
   "outputs": [],
   "source": [
    "# path = '//input[@placeholder=\"Search\"]'\n",
    "\n",
    "# searchbox = WebDriverWait(driver, 10).until(EC.element_to_be_clickable((By.XPATH,path)))"
   ]
  },
  {
   "cell_type": "code",
   "execution_count": 16,
   "id": "24902c8a",
   "metadata": {},
   "outputs": [],
   "source": [
    "searchbox.clear()\n",
    "profile = \"@cristiano\"\n",
    "searchbox.send_keys(profile)\n",
    "\n",
    "# https://www.instagram.com/crdani97/\n",
    "\n",
    "time.sleep(5)"
   ]
  },
  {
   "cell_type": "code",
   "execution_count": 17,
   "id": "620dfc81",
   "metadata": {},
   "outputs": [],
   "source": [
    "path = f\"//a[contains(@href,'/{profile[1:]}/')]\"\n",
    "\n",
    "searchclick = WebDriverWait(driver, 10).until(EC.element_to_be_clickable((By.XPATH,path)))\n",
    "\n",
    "searchclick.click()\n",
    "\n",
    "time.sleep(3)"
   ]
  },
  {
   "cell_type": "code",
   "execution_count": 18,
   "id": "3cfe0a44",
   "metadata": {},
   "outputs": [],
   "source": [
    "path = f\"//div[contains(@class,'_2z6nI')]\"\n",
    "\n",
    "div = WebDriverWait(driver, 10).until(EC.element_to_be_clickable((By.XPATH,path)))\n",
    "\n",
    "# searchclick.click()\n",
    "\n",
    "time.sleep(3)"
   ]
  },
  {
   "cell_type": "code",
   "execution_count": 19,
   "id": "9e4be000",
   "metadata": {},
   "outputs": [
    {
     "name": "stderr",
     "output_type": "stream",
     "text": [
      "<ipython-input-19-8c7dc8ab88f4>:10: DeprecationWarning: find_elements_by_tag_name is deprecated. Please use find_elements(by=By.TAG_NAME, value=name) instead\n",
      "  anchor = driver.find_elements_by_tag_name('a')\n"
     ]
    }
   ],
   "source": [
    "anchors = []\n",
    "n_scroll = 1\n",
    "start = 0\n",
    "end = 800\n",
    "\n",
    "for i in range(n_scroll):\n",
    "    driver.execute_script(f\"window.scroll({start},{end});\")\n",
    "    time.sleep(5)\n",
    "#     anchor = WebDriverWait(driver, 10).until(driver.find_elements_by_tag_name('a'))\n",
    "    anchor = driver.find_elements_by_tag_name('a')\n",
    "    anchor = [a.get_attribute('href') for a in anchor]\n",
    "    anchor = [a for a in anchor if str(a).startswith(\"https://www.instagram.com/p/\")]\n",
    "    anchors.extend(anchor)\n",
    "    start += 800\n",
    "    end += 800\n",
    "    time.sleep(5)"
   ]
  },
  {
   "cell_type": "code",
   "execution_count": 20,
   "id": "bfebe6fd",
   "metadata": {},
   "outputs": [
    {
     "data": {
      "text/plain": [
       "24"
      ]
     },
     "execution_count": 20,
     "metadata": {},
     "output_type": "execute_result"
    }
   ],
   "source": [
    "len(anchors)"
   ]
  },
  {
   "cell_type": "code",
   "execution_count": 21,
   "id": "6dc9d6b9",
   "metadata": {},
   "outputs": [
    {
     "data": {
      "text/plain": [
       "24"
      ]
     },
     "execution_count": 21,
     "metadata": {},
     "output_type": "execute_result"
    }
   ],
   "source": [
    "anchors = list(set(anchors))\n",
    "len(anchors)"
   ]
  },
  {
   "cell_type": "code",
   "execution_count": 22,
   "id": "12ff681b",
   "metadata": {},
   "outputs": [
    {
     "data": {
      "text/plain": [
       "['https://www.instagram.com/p/CZTxiEfA2fM/',\n",
       " 'https://www.instagram.com/p/CaVlBHaAPkh/',\n",
       " 'https://www.instagram.com/p/CZUbDJiA4ud/',\n",
       " 'https://www.instagram.com/p/CZZ8xkNhmGA/',\n",
       " 'https://www.instagram.com/p/CaSmBSCLMx8/',\n",
       " 'https://www.instagram.com/p/CZnOsSxgqoO/',\n",
       " 'https://www.instagram.com/p/CaNVfRWL0Cm/',\n",
       " 'https://www.instagram.com/p/CZwzF7aA9ZV/',\n",
       " 'https://www.instagram.com/p/CaA7SjJgN4o/',\n",
       " 'https://www.instagram.com/p/CaPRRT3A2ZD/',\n",
       " 'https://www.instagram.com/p/CaEpXOALCIe/',\n",
       " 'https://www.instagram.com/p/CZR0KAUAZxv/',\n",
       " 'https://www.instagram.com/p/CaJ7eiWDfh8/',\n",
       " 'https://www.instagram.com/p/CZ2Q8gdL0f6/',\n",
       " 'https://www.instagram.com/p/CZShlFXBHv2/',\n",
       " 'https://www.instagram.com/p/CZWmkSMgpE4/',\n",
       " 'https://www.instagram.com/p/CaHOOwJqg9l/',\n",
       " 'https://www.instagram.com/p/CZ9t9n1gM6N/',\n",
       " 'https://www.instagram.com/p/CZRd5I4h5E3/',\n",
       " 'https://www.instagram.com/p/CaCNKQSgXzo/',\n",
       " 'https://www.instagram.com/p/CZe_Ol8hbyq/',\n",
       " 'https://www.instagram.com/p/CanJUfIAnrY/',\n",
       " 'https://www.instagram.com/p/CZhk8goBpDL/',\n",
       " 'https://www.instagram.com/p/CakZPAmAEQ7/']"
      ]
     },
     "execution_count": 22,
     "metadata": {},
     "output_type": "execute_result"
    }
   ],
   "source": [
    "anchors"
   ]
  },
  {
   "cell_type": "code",
   "execution_count": null,
   "id": "f886be30",
   "metadata": {},
   "outputs": [],
   "source": []
  },
  {
   "cell_type": "code",
   "execution_count": 23,
   "id": "97be2212",
   "metadata": {},
   "outputs": [],
   "source": [
    "# images = []\n",
    "\n",
    "# #follow each image link and extract only image at index=1\n",
    "# for a in anchors[:5]:\n",
    "#     driver.get(a)\n",
    "#     time.sleep(5)\n",
    "\n",
    "#     div = driver.find_element_by_class_name(\"ZyFrc\")\n",
    "#     img = div.find_element_by_tag_name('img')\n",
    "#     img = img.get_attribute('src')\n",
    "#     images.append(img)\n",
    "\n",
    "    \n",
    "# images[:5]"
   ]
  },
  {
   "cell_type": "code",
   "execution_count": 24,
   "id": "9b743d77",
   "metadata": {},
   "outputs": [
    {
     "name": "stderr",
     "output_type": "stream",
     "text": [
      "<ipython-input-24-3dac561d50a7>:9: DeprecationWarning: find_element_by_tag_name is deprecated. Please use find_element(by=By.TAG_NAME, value=name) instead\n",
      "  img = driver.find_element_by_tag_name('img')\n"
     ]
    },
    {
     "data": {
      "text/plain": [
       "['https://instagram.fkhi2-3.fna.fbcdn.net/v/t51.2885-15/272817455_516343909712170_331912702654372677_n.jpg?stp=dst-jpg_e35_s1080x1080&_nc_ht=instagram.fkhi2-3.fna.fbcdn.net&_nc_cat=1&_nc_ohc=90a98l5T-WwAX8Jk-l0&edm=AABBvjUBAAAA&ccb=7-4&oh=00_AT9WDXxoSR6xl6nDk8TXyYY5zdPO0RMjbyCCgeMg59A0ow&oe=622A7155&_nc_sid=83d603',\n",
       " 'https://instagram.fkhi2-3.fna.fbcdn.net/v/t51.2885-15/274498412_339537384726744_3402029107157644462_n.jpg?stp=dst-jpg_e35_s1080x1080&_nc_ht=instagram.fkhi2-3.fna.fbcdn.net&_nc_cat=1&_nc_ohc=0Y_AYtu0ZJoAX8eymj-&edm=AABBvjUBAAAA&ccb=7-4&oh=00_AT_o4MDvhuPAONcnT4NGVFENtzzYxcVvFfO6NII9LeFOhA&oe=622A85C0&_nc_sid=83d603',\n",
       " 'https://instagram.fkhi2-3.fna.fbcdn.net/v/t51.2885-15/272895834_5464307546931925_7064770878979564790_n.jpg?stp=dst-jpg_e35&_nc_ht=instagram.fkhi2-3.fna.fbcdn.net&_nc_cat=1&_nc_ohc=lXwd-RsjcNkAX-2qqq5&tn=0AM6dQaC-LkKVbUJ&edm=AABBvjUBAAAA&ccb=7-4&oh=00_AT__Ytou3i6OmOFKkqBI_4VGIjtBraOJplaw6QpBZhGuMg&oe=622B64B9&_nc_sid=83d603',\n",
       " 'https://instagram.fkhi2-3.fna.fbcdn.net/v/t51.2885-19/67310557_649773548849427_4130659181743046656_n.jpg?stp=dst-jpg_s150x150&_nc_ht=instagram.fkhi2-3.fna.fbcdn.net&_nc_cat=1&_nc_ohc=EMvjNON7BGgAX8cyxeZ&edm=AABBvjUBAAAA&ccb=7-4&oh=00_AT-vnvvgw1MJkLB7ECGnHYZFenwgS4yePBmGqFf6CsHW7Q&oe=622BF929&_nc_sid=83d603',\n",
       " 'https://instagram.fkhi2-3.fna.fbcdn.net/v/t51.2885-15/274556982_918427645488379_2060210132817447513_n.jpg?stp=dst-jpg_e35_p1080x1080&_nc_ht=instagram.fkhi2-3.fna.fbcdn.net&_nc_cat=1&_nc_ohc=76LE5lqt2Q0AX_fJ1kN&tn=0AM6dQaC-LkKVbUJ&edm=AABBvjUBAAAA&ccb=7-4&oh=00_AT_ZM_q_3LmCPd8lQ0ksgPrN_gn8RBmC6aDQTQkAAuskWQ&oe=622BB4EC&_nc_sid=83d603']"
      ]
     },
     "execution_count": 24,
     "metadata": {},
     "output_type": "execute_result"
    }
   ],
   "source": [
    "images = []\n",
    "\n",
    "#follow each image link and extract only image at index=1\n",
    "for a in anchors:\n",
    "    driver.get(a)\n",
    "    time.sleep(5)\n",
    "\n",
    "#     div = driver.find_element_by_class_name(\"ZyFrc\")\n",
    "    img = driver.find_element_by_tag_name('img')\n",
    "    img = img.get_attribute('src')\n",
    "    images.append(img)\n",
    "\n",
    "    \n",
    "images[:5]"
   ]
  },
  {
   "cell_type": "code",
   "execution_count": 25,
   "id": "3d3a36b9",
   "metadata": {},
   "outputs": [
    {
     "data": {
      "text/plain": [
       "17"
      ]
     },
     "execution_count": 25,
     "metadata": {},
     "output_type": "execute_result"
    }
   ],
   "source": [
    "images = list(set(images))\n",
    "len(images)"
   ]
  },
  {
   "cell_type": "code",
   "execution_count": 26,
   "id": "0166cba7",
   "metadata": {},
   "outputs": [],
   "source": [
    "driver.close()"
   ]
  },
  {
   "cell_type": "code",
   "execution_count": 27,
   "id": "e4cd3dd6",
   "metadata": {},
   "outputs": [
    {
     "data": {
      "text/plain": [
       "'C:\\\\ML\\\\Seleiumn\\\\Intsagram\\\\cristiano'"
      ]
     },
     "execution_count": 27,
     "metadata": {},
     "output_type": "execute_result"
    }
   ],
   "source": [
    "import os\n",
    "import wget\n",
    "\n",
    "path = os.getcwd()\n",
    "path = os.path.join(path, profile[1:])\n",
    "\n",
    "#create the directory\n",
    "os.mkdir(path)\n",
    "\n",
    "path"
   ]
  },
  {
   "cell_type": "code",
   "execution_count": 28,
   "id": "471f0af3",
   "metadata": {},
   "outputs": [],
   "source": [
    "images = [i for i in images if i != None]"
   ]
  },
  {
   "cell_type": "code",
   "execution_count": 29,
   "id": "611a3919",
   "metadata": {},
   "outputs": [
    {
     "name": "stdout",
     "output_type": "stream",
     "text": [
      "100% [............................................................................] 308721 / 308721"
     ]
    }
   ],
   "source": [
    "#download images\n",
    "counter = 0\n",
    "\n",
    "for image in images:\n",
    "    counter += 1\n",
    "    save_as = os.path.join(path, profile[1:] + str(counter) + '.jpg')\n",
    "    wget.download(image, save_as)\n",
    "    "
   ]
  },
  {
   "cell_type": "code",
   "execution_count": 30,
   "id": "111c4286",
   "metadata": {},
   "outputs": [
    {
     "data": {
      "text/plain": [
       "['https://instagram.fkhi2-3.fna.fbcdn.net/v/t51.2885-15/274076789_646335246612404_7480425914594186767_n.jpg?stp=dst-jpg_e35_s1080x1080&_nc_ht=instagram.fkhi2-3.fna.fbcdn.net&_nc_cat=1&_nc_ohc=GeOhJ_u-vicAX8EzDxE&tn=0AM6dQaC-LkKVbUJ&edm=AABBvjUBAAAA&ccb=7-4&oh=00_AT86qFxEnOfQLgeVxGNbd8zq76Gwen1EB7XBVCuEaWW63Q&oe=622B6E37&_nc_sid=83d603',\n",
       " 'https://instagram.fkhi2-3.fna.fbcdn.net/v/t51.2885-15/272848419_939276463620891_2099289227845392768_n.jpg?stp=dst-jpg_e35_p1080x1080&_nc_ht=instagram.fkhi2-3.fna.fbcdn.net&_nc_cat=1&_nc_ohc=6CfsTCAbaisAX_bK3Tq&edm=AABBvjUBAAAA&ccb=7-4&oh=00_AT-ihwVVFa1Zk4f0XJ2mCzVQsDpMed4UozLT5gyMZguUjA&oe=622C3629&_nc_sid=83d603',\n",
       " 'https://instagram.fkhi2-3.fna.fbcdn.net/v/t51.2885-15/273924568_119442923798378_6970705473604817247_n.jpg?stp=dst-jpg_e35&_nc_ht=instagram.fkhi2-3.fna.fbcdn.net&_nc_cat=1&_nc_ohc=Pcyj_POqdqsAX-vtOr7&edm=AABBvjUBAAAA&ccb=7-4&oh=00_AT9XjCgaj4FRr-18u4BvMYV90-EWle51Hsj1EgiyfjaPbA&oe=622B73B8&_nc_sid=83d603',\n",
       " 'https://instagram.fkhi2-3.fna.fbcdn.net/v/t51.2885-15/274045025_1124727021694204_1397303973241521493_n.jpg?stp=dst-jpg_e35_p1080x1080&_nc_ht=instagram.fkhi2-3.fna.fbcdn.net&_nc_cat=1&_nc_ohc=jG9N2ZDbZgkAX-aXkDR&edm=AABBvjUBAAAA&ccb=7-4&oh=00_AT9-6jTd6aRSuGx9ru4XRd_t-spAgosIGq5Bb-Elf_4LMA&oe=622B5C71&_nc_sid=83d603',\n",
       " 'https://instagram.fkhi2-3.fna.fbcdn.net/v/t51.2885-15/274298723_125645919986963_2902121392522710883_n.jpg?stp=dst-jpg_e35&_nc_ht=instagram.fkhi2-3.fna.fbcdn.net&_nc_cat=1&_nc_ohc=RKRItqJKyQ8AX_QAudr&edm=AABBvjUBAAAA&ccb=7-4&oh=00_AT9WbK-jfN3w6Uf-oXdNPXKY9Z660mm6GhwKrGjAvYM9iA&oe=622B22DC&_nc_sid=83d603',\n",
       " 'https://instagram.fkhi2-3.fna.fbcdn.net/v/t51.2885-15/273696945_1096075821246334_665206224961521872_n.jpg?stp=dst-jpg_e35_p1080x1080&_nc_ht=instagram.fkhi2-3.fna.fbcdn.net&_nc_cat=1&_nc_ohc=4X2sLitsbBUAX94Mw3N&edm=AABBvjUBAAAA&ccb=7-4&oh=00_AT8BXwEYDdGg41TdVi-eI8HS0R-uKVeWYCSkAfjkKXYr4g&oe=622BF2CB&_nc_sid=83d603',\n",
       " 'https://instagram.fkhi2-3.fna.fbcdn.net/v/t51.2885-15/275034377_649953646345132_8939809108453098526_n.jpg?stp=dst-jpg_e35&_nc_ht=instagram.fkhi2-3.fna.fbcdn.net&_nc_cat=1&_nc_ohc=_roCObW6A4wAX9_lhdh&tn=0AM6dQaC-LkKVbUJ&edm=AABBvjUBAAAA&ccb=7-4&oh=00_AT8cM0ZIWYNi2RNuvyIbU2bfzbXAn47WnTvN5YrjY9xQwg&oe=622B5F51&_nc_sid=83d603',\n",
       " 'https://instagram.fkhi2-3.fna.fbcdn.net/v/t51.2885-15/272895834_5464307546931925_7064770878979564790_n.jpg?stp=dst-jpg_e35&_nc_ht=instagram.fkhi2-3.fna.fbcdn.net&_nc_cat=1&_nc_ohc=lXwd-RsjcNkAX-2qqq5&tn=0AM6dQaC-LkKVbUJ&edm=AABBvjUBAAAA&ccb=7-4&oh=00_AT__Ytou3i6OmOFKkqBI_4VGIjtBraOJplaw6QpBZhGuMg&oe=622B64B9&_nc_sid=83d603',\n",
       " 'https://instagram.fkhi2-3.fna.fbcdn.net/v/t51.2885-15/272817455_516343909712170_331912702654372677_n.jpg?stp=dst-jpg_e35_s1080x1080&_nc_ht=instagram.fkhi2-3.fna.fbcdn.net&_nc_cat=1&_nc_ohc=90a98l5T-WwAX8Jk-l0&edm=AABBvjUBAAAA&ccb=7-4&oh=00_AT9WDXxoSR6xl6nDk8TXyYY5zdPO0RMjbyCCgeMg59A0ow&oe=622A7155&_nc_sid=83d603',\n",
       " 'https://instagram.fkhi2-3.fna.fbcdn.net/v/t51.2885-19/67310557_649773548849427_4130659181743046656_n.jpg?stp=dst-jpg_s150x150&_nc_ht=instagram.fkhi2-3.fna.fbcdn.net&_nc_cat=1&_nc_ohc=EMvjNON7BGgAX8cyxeZ&edm=AABBvjUBAAAA&ccb=7-4&oh=00_AT-vnvvgw1MJkLB7ECGnHYZFenwgS4yePBmGqFf6CsHW7Q&oe=622BF929&_nc_sid=83d603',\n",
       " 'https://instagram.fkhi2-3.fna.fbcdn.net/v/t51.2885-15/274498412_339537384726744_3402029107157644462_n.jpg?stp=dst-jpg_e35_s1080x1080&_nc_ht=instagram.fkhi2-3.fna.fbcdn.net&_nc_cat=1&_nc_ohc=0Y_AYtu0ZJoAX8eymj-&edm=AABBvjUBAAAA&ccb=7-4&oh=00_AT_o4MDvhuPAONcnT4NGVFENtzzYxcVvFfO6NII9LeFOhA&oe=622A85C0&_nc_sid=83d603',\n",
       " 'https://instagram.fkhi2-3.fna.fbcdn.net/v/t51.2885-15/274074597_376799427132100_218031325017219734_n.jpg?stp=dst-jpg_e15_fr_s1080x1080&_nc_ht=instagram.fkhi2-3.fna.fbcdn.net&_nc_cat=1&_nc_ohc=N5psAFpw0zQAX8fwly_&edm=AABBvjUBAAAA&ccb=7-4&oh=00_AT-9zMp668b1PJTlXauHOWYNQtTxfYV-H0L6mJXCEFn9qA&oe=622B7FED&_nc_sid=83d603',\n",
       " 'https://instagram.fkhi2-3.fna.fbcdn.net/v/t51.2885-15/275161696_514001443427506_4419636956775357932_n.jpg?stp=dst-jpg_e35_p1080x1080&_nc_ht=instagram.fkhi2-3.fna.fbcdn.net&_nc_cat=1&_nc_ohc=GKJGOFWFYrcAX9W9qOI&tn=0AM6dQaC-LkKVbUJ&edm=AABBvjUBAAAA&ccb=7-4&oh=00_AT-2H1n-BAVmHmc1_MXJ45zhW4eiB_GWf3YjAt2QVpnbzA&oe=622B8812&_nc_sid=83d603',\n",
       " 'https://instagram.fkhi2-3.fna.fbcdn.net/v/t51.2885-15/272778500_460698815691481_3202774124721178322_n.jpg?stp=dst-jpg_e35_p1080x1080&_nc_ht=instagram.fkhi2-3.fna.fbcdn.net&_nc_cat=1&_nc_ohc=KeO4SdDSgHoAX-wr1zT&tn=0AM6dQaC-LkKVbUJ&edm=AABBvjUBAAAA&ccb=7-4&oh=00_AT_aven24BBa7Ryxd_fVe_vQQfN5KKrCMKJEoqr3ZqtT_A&oe=622C11D6&_nc_sid=83d603',\n",
       " 'https://instagram.fkhi2-3.fna.fbcdn.net/v/t51.2885-15/274556982_918427645488379_2060210132817447513_n.jpg?stp=dst-jpg_e35_p1080x1080&_nc_ht=instagram.fkhi2-3.fna.fbcdn.net&_nc_cat=1&_nc_ohc=76LE5lqt2Q0AX_fJ1kN&tn=0AM6dQaC-LkKVbUJ&edm=AABBvjUBAAAA&ccb=7-4&oh=00_AT_ZM_q_3LmCPd8lQ0ksgPrN_gn8RBmC6aDQTQkAAuskWQ&oe=622BB4EC&_nc_sid=83d603',\n",
       " 'https://instagram.fkhi2-3.fna.fbcdn.net/v/t51.2885-15/273545935_206616628294821_1905889309784948567_n.jpg?stp=dst-jpg_e35_p1080x1080&_nc_ht=instagram.fkhi2-3.fna.fbcdn.net&_nc_cat=1&_nc_ohc=7_nxyXRMX4MAX8-oPid&edm=AABBvjUBAAAA&ccb=7-4&oh=00_AT_Mr_JCqgvBeP2SSRbXz1WklBzwwrWmh9wLF7HORmZSag&oe=622BD0D1&_nc_sid=83d603',\n",
       " 'https://instagram.fkhi2-3.fna.fbcdn.net/v/t51.2885-15/273243503_323715663020875_6495926928079911328_n.jpg?stp=dst-jpg_e35_s1080x1080&_nc_ht=instagram.fkhi2-3.fna.fbcdn.net&_nc_cat=1&_nc_ohc=DafuUAfUmGkAX_ZYziO&edm=AABBvjUBAAAA&ccb=7-4&oh=00_AT9RsIVd3U-kqPU6-ElljnVmp4zSiek5L1iw5BeXMHOwSg&oe=622BB227&_nc_sid=83d603']"
      ]
     },
     "execution_count": 30,
     "metadata": {},
     "output_type": "execute_result"
    }
   ],
   "source": [
    "images"
   ]
  },
  {
   "cell_type": "code",
   "execution_count": null,
   "id": "f04fd6f5",
   "metadata": {},
   "outputs": [],
   "source": []
  },
  {
   "cell_type": "code",
   "execution_count": null,
   "id": "8953f0bd",
   "metadata": {},
   "outputs": [],
   "source": []
  }
 ],
 "metadata": {
  "kernelspec": {
   "display_name": "Python 3 (ipykernel)",
   "language": "python",
   "name": "python3"
  },
  "language_info": {
   "codemirror_mode": {
    "name": "ipython",
    "version": 3
   },
   "file_extension": ".py",
   "mimetype": "text/x-python",
   "name": "python",
   "nbconvert_exporter": "python",
   "pygments_lexer": "ipython3",
   "version": "3.8.5"
  }
 },
 "nbformat": 4,
 "nbformat_minor": 5
}
