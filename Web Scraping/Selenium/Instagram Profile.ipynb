{
 "cells": [
  {
   "cell_type": "code",
   "execution_count": 1,
   "id": "64c30291",
   "metadata": {},
   "outputs": [],
   "source": [
    "pss = \"syed@instagram\" "
   ]
  },
  {
   "cell_type": "code",
   "execution_count": 2,
   "id": "5974d156",
   "metadata": {},
   "outputs": [],
   "source": [
    "from selenium import webdriver\n",
    "from selenium.webdriver.common.keys import Keys\n",
    "from selenium.webdriver.support import expected_conditions as EC\n",
    "from selenium.webdriver.common.by import By\n",
    "from selenium.webdriver.support.wait import WebDriverWait\n",
    "import time"
   ]
  },
  {
   "cell_type": "code",
   "execution_count": 3,
   "id": "07fb72cb",
   "metadata": {},
   "outputs": [],
   "source": [
    "driver = webdriver.Chrome()\n",
    "# driver = webdriver.Opera()"
   ]
  },
  {
   "cell_type": "code",
   "execution_count": 4,
   "id": "59123edb",
   "metadata": {},
   "outputs": [],
   "source": [
    "#open the webpage\n",
    "driver.get(\"http://www.instagram.com/\")\n",
    "\n",
    "time.sleep(3)"
   ]
  },
  {
   "cell_type": "code",
   "execution_count": 5,
   "id": "c6c2e347",
   "metadata": {},
   "outputs": [],
   "source": [
    "css = 'input[name=\"username\"]'\n",
    "\n",
    "username = WebDriverWait(driver, 10).until(EC.element_to_be_clickable((By.CSS_SELECTOR,css)))"
   ]
  },
  {
   "cell_type": "code",
   "execution_count": 6,
   "id": "62828d89",
   "metadata": {},
   "outputs": [],
   "source": [
    "username.clear()\n",
    "username.send_keys(\"xyed_huxaifa_a_h\")"
   ]
  },
  {
   "cell_type": "code",
   "execution_count": 7,
   "id": "e26c37ab",
   "metadata": {},
   "outputs": [],
   "source": [
    "css = 'input[name=\"password\"]'\n",
    "\n",
    "passoword = WebDriverWait(driver, 10).until(EC.element_to_be_clickable((By.CSS_SELECTOR,css)))"
   ]
  },
  {
   "cell_type": "code",
   "execution_count": 8,
   "id": "dbb4abca",
   "metadata": {},
   "outputs": [],
   "source": [
    "passoword.clear()\n",
    "passoword.send_keys(pss)"
   ]
  },
  {
   "cell_type": "code",
   "execution_count": 9,
   "id": "b0024540",
   "metadata": {},
   "outputs": [],
   "source": [
    "time.sleep(2)"
   ]
  },
  {
   "cell_type": "code",
   "execution_count": 10,
   "id": "78e6884f",
   "metadata": {},
   "outputs": [],
   "source": [
    "css = 'button[type=\"submit\"]'\n",
    "\n",
    "button = WebDriverWait(driver, 10).until(EC.element_to_be_clickable((By.CSS_SELECTOR,css)))"
   ]
  },
  {
   "cell_type": "code",
   "execution_count": 11,
   "id": "e50f0b87",
   "metadata": {},
   "outputs": [],
   "source": [
    "button.click()\n",
    "\n",
    "time.sleep(5)"
   ]
  },
  {
   "cell_type": "code",
   "execution_count": 12,
   "id": "7d4c8f24",
   "metadata": {},
   "outputs": [
    {
     "ename": "TimeoutException",
     "evalue": "Message: \nStacktrace:\nBacktrace:\n\tOrdinal0 [0x007D9943+2595139]\n\tOrdinal0 [0x0076C9F1+2148849]\n\tOrdinal0 [0x00664528+1066280]\n\tOrdinal0 [0x00690FD4+1249236]\n\tOrdinal0 [0x006911CB+1249739]\n\tOrdinal0 [0x006BD812+1431570]\n\tOrdinal0 [0x006ABA34+1358388]\n\tOrdinal0 [0x006BBAF2+1424114]\n\tOrdinal0 [0x006AB806+1357830]\n\tOrdinal0 [0x00686086+1204358]\n\tOrdinal0 [0x00686F96+1208214]\n\tGetHandleVerifier [0x0097B232+1658114]\n\tGetHandleVerifier [0x00A3312C+2411516]\n\tGetHandleVerifier [0x0086F261+560433]\n\tGetHandleVerifier [0x0086E366+556598]\n\tOrdinal0 [0x0077286B+2173035]\n\tOrdinal0 [0x007775F8+2192888]\n\tOrdinal0 [0x007776E5+2193125]\n\tOrdinal0 [0x007811FC+2232828]\n\tBaseThreadInitThunk [0x761F6739+25]\n\tRtlGetFullPathName_UEx [0x76ED8E7F+1215]\n\tRtlGetFullPathName_UEx [0x76ED8E4D+1165]\n",
     "output_type": "error",
     "traceback": [
      "\u001b[1;31m---------------------------------------------------------------------------\u001b[0m",
      "\u001b[1;31mTimeoutException\u001b[0m                          Traceback (most recent call last)",
      "\u001b[1;32m<ipython-input-12-5fa94bc2f5e0>\u001b[0m in \u001b[0;36m<module>\u001b[1;34m\u001b[0m\n\u001b[0;32m      1\u001b[0m \u001b[0mpath\u001b[0m \u001b[1;33m=\u001b[0m \u001b[1;34m'//button[contains(text(),\"Not Now\")]'\u001b[0m\u001b[1;33m\u001b[0m\u001b[1;33m\u001b[0m\u001b[0m\n\u001b[0;32m      2\u001b[0m \u001b[1;33m\u001b[0m\u001b[0m\n\u001b[1;32m----> 3\u001b[1;33m \u001b[0mnot_now\u001b[0m \u001b[1;33m=\u001b[0m \u001b[0mWebDriverWait\u001b[0m\u001b[1;33m(\u001b[0m\u001b[0mdriver\u001b[0m\u001b[1;33m,\u001b[0m \u001b[1;36m10\u001b[0m\u001b[1;33m)\u001b[0m\u001b[1;33m.\u001b[0m\u001b[0muntil\u001b[0m\u001b[1;33m(\u001b[0m\u001b[0mEC\u001b[0m\u001b[1;33m.\u001b[0m\u001b[0melement_to_be_clickable\u001b[0m\u001b[1;33m(\u001b[0m\u001b[1;33m(\u001b[0m\u001b[0mBy\u001b[0m\u001b[1;33m.\u001b[0m\u001b[0mXPATH\u001b[0m\u001b[1;33m,\u001b[0m\u001b[0mpath\u001b[0m\u001b[1;33m)\u001b[0m\u001b[1;33m)\u001b[0m\u001b[1;33m)\u001b[0m\u001b[1;33m\u001b[0m\u001b[1;33m\u001b[0m\u001b[0m\n\u001b[0m\u001b[0;32m      4\u001b[0m \u001b[1;33m\u001b[0m\u001b[0m\n\u001b[0;32m      5\u001b[0m \u001b[0mnot_now\u001b[0m\u001b[1;33m.\u001b[0m\u001b[0mclick\u001b[0m\u001b[1;33m(\u001b[0m\u001b[1;33m)\u001b[0m\u001b[1;33m\u001b[0m\u001b[1;33m\u001b[0m\u001b[0m\n",
      "\u001b[1;32m~\\Anaconda3\\lib\\site-packages\\selenium\\webdriver\\support\\wait.py\u001b[0m in \u001b[0;36muntil\u001b[1;34m(self, method, message)\u001b[0m\n\u001b[0;32m     87\u001b[0m             \u001b[1;32mif\u001b[0m \u001b[0mtime\u001b[0m\u001b[1;33m.\u001b[0m\u001b[0mtime\u001b[0m\u001b[1;33m(\u001b[0m\u001b[1;33m)\u001b[0m \u001b[1;33m>\u001b[0m \u001b[0mend_time\u001b[0m\u001b[1;33m:\u001b[0m\u001b[1;33m\u001b[0m\u001b[1;33m\u001b[0m\u001b[0m\n\u001b[0;32m     88\u001b[0m                 \u001b[1;32mbreak\u001b[0m\u001b[1;33m\u001b[0m\u001b[1;33m\u001b[0m\u001b[0m\n\u001b[1;32m---> 89\u001b[1;33m         \u001b[1;32mraise\u001b[0m \u001b[0mTimeoutException\u001b[0m\u001b[1;33m(\u001b[0m\u001b[0mmessage\u001b[0m\u001b[1;33m,\u001b[0m \u001b[0mscreen\u001b[0m\u001b[1;33m,\u001b[0m \u001b[0mstacktrace\u001b[0m\u001b[1;33m)\u001b[0m\u001b[1;33m\u001b[0m\u001b[1;33m\u001b[0m\u001b[0m\n\u001b[0m\u001b[0;32m     90\u001b[0m \u001b[1;33m\u001b[0m\u001b[0m\n\u001b[0;32m     91\u001b[0m     \u001b[1;32mdef\u001b[0m \u001b[0muntil_not\u001b[0m\u001b[1;33m(\u001b[0m\u001b[0mself\u001b[0m\u001b[1;33m,\u001b[0m \u001b[0mmethod\u001b[0m\u001b[1;33m,\u001b[0m \u001b[0mmessage\u001b[0m\u001b[1;33m=\u001b[0m\u001b[1;34m''\u001b[0m\u001b[1;33m)\u001b[0m\u001b[1;33m:\u001b[0m\u001b[1;33m\u001b[0m\u001b[1;33m\u001b[0m\u001b[0m\n",
      "\u001b[1;31mTimeoutException\u001b[0m: Message: \nStacktrace:\nBacktrace:\n\tOrdinal0 [0x007D9943+2595139]\n\tOrdinal0 [0x0076C9F1+2148849]\n\tOrdinal0 [0x00664528+1066280]\n\tOrdinal0 [0x00690FD4+1249236]\n\tOrdinal0 [0x006911CB+1249739]\n\tOrdinal0 [0x006BD812+1431570]\n\tOrdinal0 [0x006ABA34+1358388]\n\tOrdinal0 [0x006BBAF2+1424114]\n\tOrdinal0 [0x006AB806+1357830]\n\tOrdinal0 [0x00686086+1204358]\n\tOrdinal0 [0x00686F96+1208214]\n\tGetHandleVerifier [0x0097B232+1658114]\n\tGetHandleVerifier [0x00A3312C+2411516]\n\tGetHandleVerifier [0x0086F261+560433]\n\tGetHandleVerifier [0x0086E366+556598]\n\tOrdinal0 [0x0077286B+2173035]\n\tOrdinal0 [0x007775F8+2192888]\n\tOrdinal0 [0x007776E5+2193125]\n\tOrdinal0 [0x007811FC+2232828]\n\tBaseThreadInitThunk [0x761F6739+25]\n\tRtlGetFullPathName_UEx [0x76ED8E7F+1215]\n\tRtlGetFullPathName_UEx [0x76ED8E4D+1165]\n"
     ]
    }
   ],
   "source": [
    "path = '//button[contains(text(),\"Not Now\")]'\n",
    "\n",
    "not_now = WebDriverWait(driver, 10).until(EC.element_to_be_clickable((By.XPATH,path)))\n",
    "\n",
    "not_now.click()"
   ]
  },
  {
   "cell_type": "code",
   "execution_count": null,
   "id": "317b9d1d",
   "metadata": {},
   "outputs": [],
   "source": [
    "time.sleep(3)"
   ]
  },
  {
   "cell_type": "code",
   "execution_count": null,
   "id": "bc1abbff",
   "metadata": {},
   "outputs": [],
   "source": [
    "path = '//button[contains(text(),\"Not Now\")]'\n",
    "\n",
    "not_now2 = WebDriverWait(driver, 10).until(EC.element_to_be_clickable((By.XPATH,path)))\n",
    "\n",
    "not_now2.click()"
   ]
  },
  {
   "cell_type": "code",
   "execution_count": null,
   "id": "6ff0e522",
   "metadata": {},
   "outputs": [],
   "source": [
    "css = 'input[placeholder=\"Search\"]'\n",
    "\n",
    "searchbox = WebDriverWait(driver, 10).until(EC.element_to_be_clickable((By.CSS_SELECTOR,css)))"
   ]
  },
  {
   "cell_type": "code",
   "execution_count": null,
   "id": "e18f21c2",
   "metadata": {},
   "outputs": [],
   "source": [
    "# path = '//input[@placeholder=\"Search\"]'\n",
    "\n",
    "# searchbox = WebDriverWait(driver, 10).until(EC.element_to_be_clickable((By.XPATH,path)))"
   ]
  },
  {
   "cell_type": "code",
   "execution_count": null,
   "id": "8f45cf3e",
   "metadata": {},
   "outputs": [],
   "source": [
    "searchbox.clear()\n",
    "profile = \"@cristiano\"\n",
    "searchbox.send_keys(profile)\n",
    "\n",
    "# https://www.instagram.com/crdani97/\n",
    "\n",
    "time.sleep(5)"
   ]
  },
  {
   "cell_type": "code",
   "execution_count": null,
   "id": "e20ca03d",
   "metadata": {},
   "outputs": [],
   "source": [
    "path = f\"//a[contains(@href,'/{profile[1:]}/')]\"\n",
    "\n",
    "searchclick = WebDriverWait(driver, 10).until(EC.element_to_be_clickable((By.XPATH,path)))\n",
    "\n",
    "searchclick.click()\n",
    "\n",
    "time.sleep(3)"
   ]
  },
  {
   "cell_type": "code",
   "execution_count": null,
   "id": "72a7de1e",
   "metadata": {},
   "outputs": [],
   "source": [
    "path = f\"//div[contains(@class,'_2z6nI')]\"\n",
    "\n",
    "div = WebDriverWait(driver, 10).until(EC.element_to_be_clickable((By.XPATH,path)))\n",
    "\n",
    "# searchclick.click()\n",
    "\n",
    "time.sleep(3)"
   ]
  },
  {
   "cell_type": "code",
   "execution_count": null,
   "id": "c470a073",
   "metadata": {},
   "outputs": [],
   "source": [
    "anchors = []\n",
    "n_scroll = 1\n",
    "start = 0\n",
    "end = 800\n",
    "\n",
    "for i in range(n_scroll):\n",
    "    driver.execute_script(f\"window.scroll({start},{end});\")\n",
    "    time.sleep(5)\n",
    "#     anchor = WebDriverWait(driver, 10).until(driver.find_elements_by_tag_name('a'))\n",
    "    anchor = driver.find_elements_by_tag_name('a')\n",
    "    anchor = [a.get_attribute('href') for a in anchor]\n",
    "    anchor = [a for a in anchor if str(a).startswith(\"https://www.instagram.com/p/\")]\n",
    "    anchors.extend(anchor)\n",
    "    start += 800\n",
    "    end += 800\n",
    "    time.sleep(5)"
   ]
  },
  {
   "cell_type": "code",
   "execution_count": null,
   "id": "15b83111",
   "metadata": {},
   "outputs": [],
   "source": [
    "len(anchors)"
   ]
  },
  {
   "cell_type": "code",
   "execution_count": null,
   "id": "58116877",
   "metadata": {},
   "outputs": [],
   "source": [
    "anchors = list(set(anchors))\n",
    "len(anchors)"
   ]
  },
  {
   "cell_type": "code",
   "execution_count": null,
   "id": "6890195d",
   "metadata": {},
   "outputs": [],
   "source": [
    "anchors"
   ]
  },
  {
   "cell_type": "code",
   "execution_count": null,
   "id": "ad17dfb4",
   "metadata": {},
   "outputs": [],
   "source": []
  },
  {
   "cell_type": "code",
   "execution_count": null,
   "id": "aaec173d",
   "metadata": {},
   "outputs": [],
   "source": [
    "# images = []\n",
    "\n",
    "# #follow each image link and extract only image at index=1\n",
    "# for a in anchors[:5]:\n",
    "#     driver.get(a)\n",
    "#     time.sleep(5)\n",
    "\n",
    "#     div = driver.find_element_by_class_name(\"ZyFrc\")\n",
    "#     img = div.find_element_by_tag_name('img')\n",
    "#     img = img.get_attribute('src')\n",
    "#     images.append(img)\n",
    "\n",
    "    \n",
    "# images[:5]"
   ]
  },
  {
   "cell_type": "code",
   "execution_count": null,
   "id": "f25cfb3d",
   "metadata": {},
   "outputs": [],
   "source": [
    "images = []\n",
    "\n",
    "#follow each image link and extract only image at index=1\n",
    "for a in anchors:\n",
    "    driver.get(a)\n",
    "    time.sleep(5)\n",
    "\n",
    "#     div = driver.find_element_by_class_name(\"ZyFrc\")\n",
    "    img = driver.find_element_by_tag_name('img')\n",
    "    img = img.get_attribute('src')\n",
    "    images.append(img)\n",
    "\n",
    "    \n",
    "images[:5]"
   ]
  },
  {
   "cell_type": "code",
   "execution_count": null,
   "id": "ff21768b",
   "metadata": {},
   "outputs": [],
   "source": [
    "images = list(set(images))\n",
    "len(images)"
   ]
  },
  {
   "cell_type": "code",
   "execution_count": null,
   "id": "f0a2e8b7",
   "metadata": {},
   "outputs": [],
   "source": [
    "driver.close()"
   ]
  },
  {
   "cell_type": "code",
   "execution_count": null,
   "id": "22d63e3b",
   "metadata": {},
   "outputs": [],
   "source": [
    "import os\n",
    "import wget\n",
    "\n",
    "path = os.getcwd()\n",
    "path = os.path.join(path, profile[1:])\n",
    "\n",
    "#create the directory\n",
    "os.mkdir(path)\n",
    "\n",
    "path"
   ]
  },
  {
   "cell_type": "code",
   "execution_count": null,
   "id": "8a33504a",
   "metadata": {},
   "outputs": [],
   "source": [
    "images = [i for i in images if i != None]"
   ]
  },
  {
   "cell_type": "code",
   "execution_count": null,
   "id": "0c33d238",
   "metadata": {},
   "outputs": [],
   "source": [
    "#download images\n",
    "counter = 0\n",
    "\n",
    "for image in images:\n",
    "    counter += 1\n",
    "    save_as = os.path.join(path, profile[1:] + str(counter) + '.jpg')\n",
    "    wget.download(image, save_as)\n",
    "    "
   ]
  },
  {
   "cell_type": "code",
   "execution_count": null,
   "id": "86bde8da",
   "metadata": {},
   "outputs": [],
   "source": [
    "images"
   ]
  },
  {
   "cell_type": "code",
   "execution_count": null,
   "id": "061b77a7",
   "metadata": {},
   "outputs": [],
   "source": []
  },
  {
   "cell_type": "code",
   "execution_count": null,
   "id": "8cdec8bd",
   "metadata": {},
   "outputs": [],
   "source": []
  }
 ],
 "metadata": {
  "kernelspec": {
   "display_name": "Python 3 (ipykernel)",
   "language": "python",
   "name": "python3"
  },
  "language_info": {
   "codemirror_mode": {
    "name": "ipython",
    "version": 3
   },
   "file_extension": ".py",
   "mimetype": "text/x-python",
   "name": "python",
   "nbconvert_exporter": "python",
   "pygments_lexer": "ipython3",
   "version": "3.8.5"
  }
 },
 "nbformat": 4,
 "nbformat_minor": 5
}
