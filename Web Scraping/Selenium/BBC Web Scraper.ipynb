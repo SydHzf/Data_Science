{
 "cells": [
  {
   "cell_type": "code",
   "execution_count": 1,
   "metadata": {},
   "outputs": [],
   "source": [
    "from selenium import webdriver\n",
    "from selenium.webdriver.common.keys import Keys\n",
    "from selenium.webdriver.support import expected_conditions as EC\n",
    "from selenium.webdriver.common.by import By\n",
    "from selenium.webdriver.support.wait import WebDriverWait\n",
    "import time\n",
    "import os\n",
    "import wget\n",
    "\n",
    "import pandas as pd"
   ]
  },
  {
   "cell_type": "code",
   "execution_count": 2,
   "metadata": {},
   "outputs": [],
   "source": [
    "chrome_options = webdriver.ChromeOptions()\n",
    "prefs = {\"profile.default_content_setting_values.notifications\" : 2}\n",
    "chrome_options.add_experimental_option(\"prefs\",prefs)"
   ]
  },
  {
   "cell_type": "code",
   "execution_count": 3,
   "metadata": {},
   "outputs": [
    {
     "name": "stderr",
     "output_type": "stream",
     "text": [
      "<ipython-input-3-ae1ebb3d4b13>:1: DeprecationWarning: use options instead of chrome_options\n",
      "  driver = webdriver.Chrome(chrome_options=chrome_options)\n"
     ]
    }
   ],
   "source": [
    "driver = webdriver.Chrome(chrome_options=chrome_options)\n",
    "driver.set_window_size(1350, 1000)\n",
    "\n",
    "#open the webpage\n",
    "driver.get(\"https://www.bbc.com\")\n",
    "\n",
    "time.sleep(3)"
   ]
  },
  {
   "cell_type": "code",
   "execution_count": 4,
   "metadata": {},
   "outputs": [
    {
     "name": "stderr",
     "output_type": "stream",
     "text": [
      "<ipython-input-4-1ba67c1df39f>:1: DeprecationWarning: find_elements_by_tag_name is deprecated. Please use find_elements(by=By.TAG_NAME, value=name) instead\n",
      "  links = [a.get_attribute(\"href\") for a in driver.find_elements_by_tag_name(\"a\")]\n"
     ]
    }
   ],
   "source": [
    "links = [a.get_attribute(\"href\") for a in driver.find_elements_by_tag_name(\"a\")]"
   ]
  },
  {
   "cell_type": "code",
   "execution_count": 5,
   "metadata": {},
   "outputs": [
    {
     "data": {
      "text/plain": [
       "264"
      ]
     },
     "execution_count": 5,
     "metadata": {},
     "output_type": "execute_result"
    }
   ],
   "source": [
    "len(links)"
   ]
  },
  {
   "cell_type": "code",
   "execution_count": 6,
   "metadata": {},
   "outputs": [
    {
     "data": {
      "text/plain": [
       "161"
      ]
     },
     "execution_count": 6,
     "metadata": {},
     "output_type": "execute_result"
    }
   ],
   "source": [
    "links = list(set(links))\n",
    "len(links)"
   ]
  },
  {
   "cell_type": "code",
   "execution_count": null,
   "metadata": {},
   "outputs": [],
   "source": [
    "links_df = pd.DataFrame(links, columns = [\"Links\"])"
   ]
  },
  {
   "cell_type": "code",
   "execution_count": null,
   "metadata": {},
   "outputs": [],
   "source": [
    "links_df.to_excel(\"HomePage_links.xlsx\", index = False) # Task 1 Completed"
   ]
  },
  {
   "cell_type": "code",
   "execution_count": null,
   "metadata": {},
   "outputs": [],
   "source": [
    "driver.close()"
   ]
  },
  {
   "cell_type": "code",
   "execution_count": null,
   "metadata": {},
   "outputs": [],
   "source": [
    "driver = webdriver.Chrome(chrome_options=chrome_options)\n",
    "driver.set_window_size(1350, 1000)"
   ]
  },
  {
   "cell_type": "code",
   "execution_count": null,
   "metadata": {
    "scrolled": true
   },
   "outputs": [],
   "source": [
    "final_content = []\n",
    "counter = 1\n",
    "\n",
    "for i in links_df[\"Links\"]:\n",
    "    driver.get(i)\n",
    "    try:\n",
    "        time.sleep(3)\n",
    "        css = 'button[aria-label=\"Close\"]'\n",
    "        heading = WebDriverWait(driver, 10).until(EC.element_to_be_clickable((By.CSS_SELECTOR,css))).click()\n",
    "        print(\"Button Closed\")\n",
    "    except:\n",
    "        print(\"No Button\")\n",
    "\n",
    "\n",
    "    try:\n",
    "        lst = []\n",
    "        time.sleep(3)\n",
    "        css = 'h1[id=\"main-heading\"]'\n",
    "        heading = WebDriverWait(driver, 10).until(EC.element_to_be_clickable((By.CSS_SELECTOR,css)))\n",
    "        lst.append(i)\n",
    "        lst.append(heading.text)\n",
    "\n",
    "        css = 'div[data-component=\"text-block\"]'\n",
    "        description = driver.find_elements_by_css_selector(css)\n",
    "        description = \" \".join([i.text for i in description])\n",
    "        lst.append(description)\n",
    "        \n",
    "        final_content.append(lst)\n",
    "        \n",
    "        print(lst)\n",
    "\n",
    "    except:\n",
    "        final_content.append([i,\"Not Found\",\"Not Found\"])\n",
    "        print(lst)\n",
    "    \n",
    "    print(counter)\n",
    "    counter += 1"
   ]
  },
  {
   "cell_type": "code",
   "execution_count": null,
   "metadata": {},
   "outputs": [],
   "source": [
    "final_content_df = pd.DataFrame(final_content, columns = [\"Links\",\"Title\",\"Description\"])"
   ]
  },
  {
   "cell_type": "code",
   "execution_count": null,
   "metadata": {},
   "outputs": [],
   "source": [
    "final_content_df.to_excel(\"HomePage_Content.xlsx\", index = False) # Task 2 Completed"
   ]
  },
  {
   "cell_type": "code",
   "execution_count": null,
   "metadata": {},
   "outputs": [],
   "source": [
    "driver.close()"
   ]
  },
  {
   "cell_type": "code",
   "execution_count": null,
   "metadata": {},
   "outputs": [],
   "source": []
  }
 ],
 "metadata": {
  "kernelspec": {
   "display_name": "Python 3",
   "language": "python",
   "name": "python3"
  },
  "language_info": {
   "codemirror_mode": {
    "name": "ipython",
    "version": 3
   },
   "file_extension": ".py",
   "mimetype": "text/x-python",
   "name": "python",
   "nbconvert_exporter": "python",
   "pygments_lexer": "ipython3",
   "version": "3.8.5"
  }
 },
 "nbformat": 4,
 "nbformat_minor": 5
}
